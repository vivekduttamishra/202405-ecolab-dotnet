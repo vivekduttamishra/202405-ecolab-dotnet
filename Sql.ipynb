{
    "metadata": {
        "kernelspec": {
            "name": "SQL",
            "display_name": "SQL",
            "language": "sql"
        },
        "language_info": {
            "name": "sql",
            "version": ""
        }
    },
    "nbformat_minor": 2,
    "nbformat": 4,
    "cells": [
        {
            "cell_type": "markdown",
            "source": [
                "# **Understanding Advanced Queries**\n",
                "\n",
                "- **In this notebook, we shall discuss different forms of queries and how to work with them**\n",
                "- **We will start by creating two relational tables**\n",
                "    - **Book** \n",
                "        - **id** \n",
                "        - **title**\n",
                "        - **author**\n",
                "        - **price**\n",
                "    - **Reviews**\n",
                "        - **book\\_id**\n",
                "        - **rating \\[1-5\\]**\n",
                "\n",
                "##"
            ],
            "metadata": {
                "azdata_cell_guid": "829862d6-7350-4b9a-9296-e040af8f0a11"
            },
            "attachments": {}
        },
        {
            "cell_type": "markdown",
            "source": [
                "## Let us first clean up"
            ],
            "metadata": {
                "azdata_cell_guid": "56797089-535b-4059-8e0f-bcfbc1b49d36"
            },
            "attachments": {}
        },
        {
            "cell_type": "code",
            "source": [
                "DROP TABLE IF EXISTS BOOKS;"
            ],
            "metadata": {
                "azdata_cell_guid": "ff81d441-3210-460c-859e-2a4359417c09",
                "language": "sql"
            },
            "outputs": [
                {
                    "output_type": "display_data",
                    "data": {
                        "text/html": "Commands completed successfully."
                    },
                    "metadata": {}
                },
                {
                    "output_type": "display_data",
                    "data": {
                        "text/html": "Total execution time: 00:00:00.010"
                    },
                    "metadata": {}
                }
            ],
            "execution_count": 17
        },
        {
            "cell_type": "markdown",
            "source": [
                "## Let us Create the BOOKS TABLE"
            ],
            "metadata": {
                "language": "sql",
                "azdata_cell_guid": "d47eb753-e15d-4510-84b7-012f78c88df2"
            },
            "attachments": {}
        },
        {
            "cell_type": "code",
            "source": [
                "CREATE TABLE BOOKS(\r\n",
                "    ID VARCHAR(50),\r\n",
                "    TITLE VARCHAR(50),\r\n",
                "    AUTHOR VARCHAR(50),\r\n",
                "    PRICE INT\r\n",
                ")"
            ],
            "metadata": {
                "azdata_cell_guid": "1a1c3644-be9a-4666-afb4-b54338cea799",
                "language": "sql",
                "tags": []
            },
            "outputs": [
                {
                    "output_type": "display_data",
                    "data": {
                        "text/html": "Commands completed successfully."
                    },
                    "metadata": {}
                },
                {
                    "output_type": "display_data",
                    "data": {
                        "text/html": "Total execution time: 00:00:00.003"
                    },
                    "metadata": {}
                }
            ],
            "execution_count": 18
        },
        {
            "cell_type": "markdown",
            "source": [
                "## Let Us Add Some Records"
            ],
            "metadata": {
                "language": "sql",
                "azdata_cell_guid": "a3da8f1f-0ca9-407e-81a2-693c411954f8"
            },
            "attachments": {}
        },
        {
            "cell_type": "code",
            "source": [
                "INSERT \r\n",
                "    INTO BOOKS(ID,TITLE,AUTHOR,PRICE)\r\n",
                "    VALUES \r\n",
                "        ('the-accursed-god','The Accursed God','Vivek Dutta Mishra', 399),\r\n",
                "        ('harry-potter-1','Harry Potter, And the Philosophers stone','JK Rowling', 499),\r\n",
                "        ('harry-potter-2','Harry Potter and the chamber of secrets','JK Rowling', 299),\r\n",
                "        ('manas','Manas','Vivek Dutta Mishra', 199),\r\n",
                "        ('brethren','Brethren','John Grisham', 199),\r\n",
                "        ('rasmirathi','Rashmirathi','Ramdhari Singh Dinkar', 99),\r\n",
                "        ('kurukshetra','Kurukshetra','Ramdhari Singh Dinkar', 99),\r\n",
                "        ('harry-potter-3','Harry Potter, And the Prisoner of Asbakan','JK Rowling', 499),\r\n",
                "        ('harry-potter-4','Harry Potter and the goblet of fire','JK Rowling', 299),\r\n",
                "        ('harry-potter-5','Harry Potter, And the Order of Phoinix','JK Rowling', 599),\r\n",
                "        ('harry-potter-6','Harry Potter and the half blood prince','JK Rowling', 699),\r\n",
                "        ('harry-potter-7','Harry Potter and the deathly hollows','JK Rowling', 599),\r\n",
                "        ('accursed-child','The Accursed Child','JK Rowling', 199),\r\n",
                "        ('kane-and-abel','Kane and Abel','Jeffrey Archer', 499),\r\n",
                "        ('summons','Summons','John Grisham', 199);\r\n",
                ""
            ],
            "metadata": {
                "language": "sql",
                "azdata_cell_guid": "d69940ac-32c2-4126-b3d0-c616046a6383"
            },
            "outputs": [
                {
                    "output_type": "display_data",
                    "data": {
                        "text/html": "(15 rows affected)"
                    },
                    "metadata": {}
                },
                {
                    "output_type": "display_data",
                    "data": {
                        "text/html": "Total execution time: 00:00:00.005"
                    },
                    "metadata": {}
                }
            ],
            "execution_count": 19
        },
        {
            "cell_type": "markdown",
            "source": [
                "## Let us write some simple Queries\n",
                "\n",
                "  \n",
                "\n",
                "## Select All Query"
            ],
            "metadata": {
                "language": "sql",
                "azdata_cell_guid": "5bf6f9b5-9ccc-473e-83c0-7e11c9ea57cc"
            },
            "attachments": {}
        },
        {
            "cell_type": "code",
            "source": [
                "SELECT * FROM BOOKS"
            ],
            "metadata": {
                "language": "sql",
                "azdata_cell_guid": "8899c7d4-c542-40fe-80bf-9ea7e61d7ec0"
            },
            "outputs": [
                {
                    "output_type": "display_data",
                    "data": {
                        "text/html": "(15 rows affected)"
                    },
                    "metadata": {}
                },
                {
                    "output_type": "display_data",
                    "data": {
                        "text/html": "Total execution time: 00:00:00.011"
                    },
                    "metadata": {}
                },
                {
                    "output_type": "execute_result",
                    "execution_count": 21,
                    "data": {
                        "application/vnd.dataresource+json": {
                            "schema": {
                                "fields": [
                                    {
                                        "name": "ID"
                                    },
                                    {
                                        "name": "TITLE"
                                    },
                                    {
                                        "name": "AUTHOR"
                                    },
                                    {
                                        "name": "PRICE"
                                    }
                                ]
                            },
                            "data": [
                                {
                                    "ID": "the-accursed-god",
                                    "TITLE": "The Accursed God",
                                    "AUTHOR": "Vivek Dutta Mishra",
                                    "PRICE": "399"
                                },
                                {
                                    "ID": "harry-potter-1",
                                    "TITLE": "Harry Potter, And the Philosophers stone",
                                    "AUTHOR": "JK Rowling",
                                    "PRICE": "499"
                                },
                                {
                                    "ID": "harry-potter-2",
                                    "TITLE": "Harry Potter and the chamber of secrets",
                                    "AUTHOR": "JK Rowling",
                                    "PRICE": "299"
                                },
                                {
                                    "ID": "manas",
                                    "TITLE": "Manas",
                                    "AUTHOR": "Vivek Dutta Mishra",
                                    "PRICE": "199"
                                },
                                {
                                    "ID": "brethren",
                                    "TITLE": "Brethren",
                                    "AUTHOR": "John Grisham",
                                    "PRICE": "199"
                                },
                                {
                                    "ID": "rasmirathi",
                                    "TITLE": "Rashmirathi",
                                    "AUTHOR": "Ramdhari Singh Dinkar",
                                    "PRICE": "99"
                                },
                                {
                                    "ID": "kurukshetra",
                                    "TITLE": "Kurukshetra",
                                    "AUTHOR": "Ramdhari Singh Dinkar",
                                    "PRICE": "99"
                                },
                                {
                                    "ID": "harry-potter-3",
                                    "TITLE": "Harry Potter, And the Prisoner of Asbakan",
                                    "AUTHOR": "JK Rowling",
                                    "PRICE": "499"
                                },
                                {
                                    "ID": "harry-potter-4",
                                    "TITLE": "Harry Potter and the goblet of fire",
                                    "AUTHOR": "JK Rowling",
                                    "PRICE": "299"
                                },
                                {
                                    "ID": "harry-potter-5",
                                    "TITLE": "Harry Potter, And the Order of Phoinix",
                                    "AUTHOR": "JK Rowling",
                                    "PRICE": "599"
                                },
                                {
                                    "ID": "harry-potter-6",
                                    "TITLE": "Harry Potter and the half blood prince",
                                    "AUTHOR": "JK Rowling",
                                    "PRICE": "699"
                                },
                                {
                                    "ID": "harry-potter-7",
                                    "TITLE": "Harry Potter and the deathly hollows",
                                    "AUTHOR": "JK Rowling",
                                    "PRICE": "599"
                                },
                                {
                                    "ID": "accursed-child",
                                    "TITLE": "The Accursed Child",
                                    "AUTHOR": "JK Rowling",
                                    "PRICE": "199"
                                },
                                {
                                    "ID": "kane-and-abel",
                                    "TITLE": "Kane and Abel",
                                    "AUTHOR": "Jeffrey Archer",
                                    "PRICE": "499"
                                },
                                {
                                    "ID": "summons",
                                    "TITLE": "Summons",
                                    "AUTHOR": "John Grisham",
                                    "PRICE": "199"
                                }
                            ]
                        },
                        "text/html": "<table><tr><th>ID</th><th>TITLE</th><th>AUTHOR</th><th>PRICE</th></tr><tr><td>the-accursed-god</td><td>The Accursed God</td><td>Vivek Dutta Mishra</td><td>399</td></tr><tr><td>harry-potter-1</td><td>Harry Potter, And the Philosophers stone</td><td>JK Rowling</td><td>499</td></tr><tr><td>harry-potter-2</td><td>Harry Potter and the chamber of secrets</td><td>JK Rowling</td><td>299</td></tr><tr><td>manas</td><td>Manas</td><td>Vivek Dutta Mishra</td><td>199</td></tr><tr><td>brethren</td><td>Brethren</td><td>John Grisham</td><td>199</td></tr><tr><td>rasmirathi</td><td>Rashmirathi</td><td>Ramdhari Singh Dinkar</td><td>99</td></tr><tr><td>kurukshetra</td><td>Kurukshetra</td><td>Ramdhari Singh Dinkar</td><td>99</td></tr><tr><td>harry-potter-3</td><td>Harry Potter, And the Prisoner of Asbakan</td><td>JK Rowling</td><td>499</td></tr><tr><td>harry-potter-4</td><td>Harry Potter and the goblet of fire</td><td>JK Rowling</td><td>299</td></tr><tr><td>harry-potter-5</td><td>Harry Potter, And the Order of Phoinix</td><td>JK Rowling</td><td>599</td></tr><tr><td>harry-potter-6</td><td>Harry Potter and the half blood prince</td><td>JK Rowling</td><td>699</td></tr><tr><td>harry-potter-7</td><td>Harry Potter and the deathly hollows</td><td>JK Rowling</td><td>599</td></tr><tr><td>accursed-child</td><td>The Accursed Child</td><td>JK Rowling</td><td>199</td></tr><tr><td>kane-and-abel</td><td>Kane and Abel</td><td>Jeffrey Archer</td><td>499</td></tr><tr><td>summons</td><td>Summons</td><td>John Grisham</td><td>199</td></tr></table>"
                    },
                    "metadata": {}
                }
            ],
            "execution_count": 21
        },
        {
            "cell_type": "markdown",
            "source": [
                "### Conditional Queries using Where"
            ],
            "metadata": {
                "language": "sql",
                "azdata_cell_guid": "6e20702c-1ecc-4918-a6be-493cf02d1ec3"
            },
            "attachments": {}
        },
        {
            "cell_type": "code",
            "source": [
                "SELECT \r\n",
                "    * \r\n",
                "FROM \r\n",
                "    BOOKS\r\n",
                "WHERE\r\n",
                "    AUTHOR='Vivek Dutta Mishra'"
            ],
            "metadata": {
                "language": "sql",
                "azdata_cell_guid": "54acf129-ba5a-41f6-ba79-b169217090ba"
            },
            "outputs": [
                {
                    "output_type": "display_data",
                    "data": {
                        "text/html": "(2 rows affected)"
                    },
                    "metadata": {}
                },
                {
                    "output_type": "display_data",
                    "data": {
                        "text/html": "Total execution time: 00:00:00.016"
                    },
                    "metadata": {}
                },
                {
                    "output_type": "execute_result",
                    "execution_count": 22,
                    "data": {
                        "application/vnd.dataresource+json": {
                            "schema": {
                                "fields": [
                                    {
                                        "name": "ID"
                                    },
                                    {
                                        "name": "TITLE"
                                    },
                                    {
                                        "name": "AUTHOR"
                                    },
                                    {
                                        "name": "PRICE"
                                    }
                                ]
                            },
                            "data": [
                                {
                                    "ID": "the-accursed-god",
                                    "TITLE": "The Accursed God",
                                    "AUTHOR": "Vivek Dutta Mishra",
                                    "PRICE": "399"
                                },
                                {
                                    "ID": "manas",
                                    "TITLE": "Manas",
                                    "AUTHOR": "Vivek Dutta Mishra",
                                    "PRICE": "199"
                                }
                            ]
                        },
                        "text/html": "<table><tr><th>ID</th><th>TITLE</th><th>AUTHOR</th><th>PRICE</th></tr><tr><td>the-accursed-god</td><td>The Accursed God</td><td>Vivek Dutta Mishra</td><td>399</td></tr><tr><td>manas</td><td>Manas</td><td>Vivek Dutta Mishra</td><td>199</td></tr></table>"
                    },
                    "metadata": {}
                }
            ],
            "execution_count": 22
        },
        {
            "cell_type": "code",
            "source": [
                "SELECT \r\n",
                "    *\r\n",
                "FROM\r\n",
                "    BOOKS\r\n",
                "WHERE ID = 'manas'"
            ],
            "metadata": {
                "language": "sql",
                "azdata_cell_guid": "0385c4b3-2598-4ad4-9d9f-d024d1f1e493"
            },
            "outputs": [
                {
                    "output_type": "display_data",
                    "data": {
                        "text/html": "(1 row affected)"
                    },
                    "metadata": {}
                },
                {
                    "output_type": "display_data",
                    "data": {
                        "text/html": "Total execution time: 00:00:00.015"
                    },
                    "metadata": {}
                },
                {
                    "output_type": "execute_result",
                    "execution_count": 23,
                    "data": {
                        "application/vnd.dataresource+json": {
                            "schema": {
                                "fields": [
                                    {
                                        "name": "ID"
                                    },
                                    {
                                        "name": "TITLE"
                                    },
                                    {
                                        "name": "AUTHOR"
                                    },
                                    {
                                        "name": "PRICE"
                                    }
                                ]
                            },
                            "data": [
                                {
                                    "ID": "manas",
                                    "TITLE": "Manas",
                                    "AUTHOR": "Vivek Dutta Mishra",
                                    "PRICE": "199"
                                }
                            ]
                        },
                        "text/html": "<table><tr><th>ID</th><th>TITLE</th><th>AUTHOR</th><th>PRICE</th></tr><tr><td>manas</td><td>Manas</td><td>Vivek Dutta Mishra</td><td>199</td></tr></table>"
                    },
                    "metadata": {}
                }
            ],
            "execution_count": 23
        },
        {
            "cell_type": "code",
            "source": [
                "SELECT\r\n",
                "    TITLE, PRICE\r\n",
                "FROM\r\n",
                "    books\r\n",
                "WHERE\r\n",
                "    PRICE>200 AND PRICE<400"
            ],
            "metadata": {
                "language": "sql",
                "azdata_cell_guid": "58abb636-89be-4b31-9199-b601acd95f43"
            },
            "outputs": [
                {
                    "output_type": "display_data",
                    "data": {
                        "text/html": "(3 rows affected)"
                    },
                    "metadata": {}
                },
                {
                    "output_type": "display_data",
                    "data": {
                        "text/html": "Total execution time: 00:00:00.018"
                    },
                    "metadata": {}
                },
                {
                    "output_type": "execute_result",
                    "execution_count": 24,
                    "data": {
                        "application/vnd.dataresource+json": {
                            "schema": {
                                "fields": [
                                    {
                                        "name": "TITLE"
                                    },
                                    {
                                        "name": "PRICE"
                                    }
                                ]
                            },
                            "data": [
                                {
                                    "TITLE": "The Accursed God",
                                    "PRICE": "399"
                                },
                                {
                                    "TITLE": "Harry Potter and the chamber of secrets",
                                    "PRICE": "299"
                                },
                                {
                                    "TITLE": "Harry Potter and the goblet of fire",
                                    "PRICE": "299"
                                }
                            ]
                        },
                        "text/html": "<table><tr><th>TITLE</th><th>PRICE</th></tr><tr><td>The Accursed God</td><td>399</td></tr><tr><td>Harry Potter and the chamber of secrets</td><td>299</td></tr><tr><td>Harry Potter and the goblet of fire</td><td>299</td></tr></table>"
                    },
                    "metadata": {}
                }
            ],
            "execution_count": 24
        },
        {
            "cell_type": "markdown",
            "source": [
                "SEARCHING ON PART TEXT USING LIKE OPERATOR\n",
                "\n",
                "  \n",
                "\n",
                "- \\= SEARCH IS EXACT COMPARISION\n",
                "- WE CAN USE LIKE TO SUGGEST PART SEARCH\n",
                "- % IS A WILD CARD TO MEAN ANY TEXT\n",
                "    - %Mishra ---\\> Any name ending with Mishra\n",
                "    - Vivek% ----\\> Any  name starting with Vivek\n",
                "    - %Vivek% ---\\> Any text that conains Vivek"
            ],
            "metadata": {
                "language": "sql",
                "azdata_cell_guid": "62d38e69-497c-4f27-bd16-4d5f23a81c9a"
            },
            "attachments": {}
        },
        {
            "cell_type": "code",
            "source": [
                "SELECT\r\n",
                "    TITLE\r\n",
                "FROM\r\n",
                "    BOOKS\r\n",
                "WHERE\r\n",
                "    TITLE LIKE 'Harry Potter%'"
            ],
            "metadata": {
                "language": "sql",
                "azdata_cell_guid": "9f66a4f0-7014-4b72-a81f-5d3d51d6447d"
            },
            "outputs": [
                {
                    "output_type": "display_data",
                    "data": {
                        "text/html": "(7 rows affected)"
                    },
                    "metadata": {}
                },
                {
                    "output_type": "display_data",
                    "data": {
                        "text/html": "Total execution time: 00:00:00.008"
                    },
                    "metadata": {}
                },
                {
                    "output_type": "execute_result",
                    "execution_count": 25,
                    "data": {
                        "application/vnd.dataresource+json": {
                            "schema": {
                                "fields": [
                                    {
                                        "name": "TITLE"
                                    }
                                ]
                            },
                            "data": [
                                {
                                    "TITLE": "Harry Potter, And the Philosophers stone"
                                },
                                {
                                    "TITLE": "Harry Potter and the chamber of secrets"
                                },
                                {
                                    "TITLE": "Harry Potter, And the Prisoner of Asbakan"
                                },
                                {
                                    "TITLE": "Harry Potter and the goblet of fire"
                                },
                                {
                                    "TITLE": "Harry Potter, And the Order of Phoinix"
                                },
                                {
                                    "TITLE": "Harry Potter and the half blood prince"
                                },
                                {
                                    "TITLE": "Harry Potter and the deathly hollows"
                                }
                            ]
                        },
                        "text/html": "<table><tr><th>TITLE</th></tr><tr><td>Harry Potter, And the Philosophers stone</td></tr><tr><td>Harry Potter and the chamber of secrets</td></tr><tr><td>Harry Potter, And the Prisoner of Asbakan</td></tr><tr><td>Harry Potter and the goblet of fire</td></tr><tr><td>Harry Potter, And the Order of Phoinix</td></tr><tr><td>Harry Potter and the half blood prince</td></tr><tr><td>Harry Potter and the deathly hollows</td></tr></table>"
                    },
                    "metadata": {}
                }
            ],
            "execution_count": 25
        },
        {
            "cell_type": "code",
            "source": [
                "SELECT\r\n",
                "    TITLE,Author\r\n",
                "FROM\r\n",
                "    BOOKS\r\n",
                "WHERE\r\n",
                "    AUTHOR LIKE '%Vivek%'"
            ],
            "metadata": {
                "language": "sql",
                "azdata_cell_guid": "802aa559-75a2-4a2c-991a-7bc0ca38ea77"
            },
            "outputs": [
                {
                    "output_type": "display_data",
                    "data": {
                        "text/html": "(2 rows affected)"
                    },
                    "metadata": {}
                },
                {
                    "output_type": "display_data",
                    "data": {
                        "text/html": "Total execution time: 00:00:00.004"
                    },
                    "metadata": {}
                },
                {
                    "output_type": "execute_result",
                    "execution_count": 27,
                    "data": {
                        "application/vnd.dataresource+json": {
                            "schema": {
                                "fields": [
                                    {
                                        "name": "TITLE"
                                    },
                                    {
                                        "name": "Author"
                                    }
                                ]
                            },
                            "data": [
                                {
                                    "TITLE": "The Accursed God",
                                    "Author": "Vivek Dutta Mishra"
                                },
                                {
                                    "TITLE": "Manas",
                                    "Author": "Vivek Dutta Mishra"
                                }
                            ]
                        },
                        "text/html": "<table><tr><th>TITLE</th><th>Author</th></tr><tr><td>The Accursed God</td><td>Vivek Dutta Mishra</td></tr><tr><td>Manas</td><td>Vivek Dutta Mishra</td></tr></table>"
                    },
                    "metadata": {}
                }
            ],
            "execution_count": 27
        },
        {
            "cell_type": "markdown",
            "source": [
                "# Aggregate Queries\n",
                "\n",
                "  \n",
                "\n",
                "-  Aggregate Queries Computes a Result based on multiple rows of the records\n",
                "- Example\n",
                "    - Count rows\n",
                "    - Sum Rows\n",
                "    - Average\n",
                "- It can be combined with WHERE CLAUSE\n",
                "\n",
                "  \n",
                "\n",
                "### Count All Books"
            ],
            "metadata": {
                "language": "sql",
                "azdata_cell_guid": "aca592d0-169c-4964-ba6f-57a34d4acf38"
            },
            "attachments": {}
        },
        {
            "cell_type": "code",
            "source": [
                "SELECT\r\n",
                "    COUNT(*)\r\n",
                "FROM\r\n",
                "    BOOKS"
            ],
            "metadata": {
                "language": "sql",
                "azdata_cell_guid": "1043d865-0336-47d4-99f0-362da37a57fd"
            },
            "outputs": [
                {
                    "output_type": "display_data",
                    "data": {
                        "text/html": "(1 row affected)"
                    },
                    "metadata": {}
                },
                {
                    "output_type": "display_data",
                    "data": {
                        "text/html": "Total execution time: 00:00:00.003"
                    },
                    "metadata": {}
                },
                {
                    "output_type": "execute_result",
                    "execution_count": 28,
                    "data": {
                        "application/vnd.dataresource+json": {
                            "schema": {
                                "fields": [
                                    {
                                        "name": "(No column name)"
                                    }
                                ]
                            },
                            "data": [
                                {
                                    "(No column name)": "15"
                                }
                            ]
                        },
                        "text/html": "<table><tr><th>(No column name)</th></tr><tr><td>15</td></tr></table>"
                    },
                    "metadata": {}
                }
            ],
            "execution_count": 28
        },
        {
            "cell_type": "markdown",
            "source": [
                "### Count Books by a Given Author\n",
                "\n",
                "  \n",
                "\n",
                "- We can also give an alias name to the count column which is currently blank"
            ],
            "metadata": {
                "language": "sql",
                "azdata_cell_guid": "ead63053-ad7e-4b58-ae0c-d2bcb1444c72"
            },
            "attachments": {}
        },
        {
            "cell_type": "code",
            "source": [
                "SELECT \r\n",
                "    COUNT(*) AS BOOK_COUNT\r\n",
                "FROM\r\n",
                "    BOOKS\r\n",
                "WHERE\r\n",
                "    AUTHOR LIKE '%Rowling'"
            ],
            "metadata": {
                "language": "sql",
                "azdata_cell_guid": "dd5f7d66-af27-4892-98a6-b9fe381e7c3d"
            },
            "outputs": [
                {
                    "output_type": "display_data",
                    "data": {
                        "text/html": "(1 row affected)"
                    },
                    "metadata": {}
                },
                {
                    "output_type": "display_data",
                    "data": {
                        "text/html": "Total execution time: 00:00:00.003"
                    },
                    "metadata": {}
                },
                {
                    "output_type": "execute_result",
                    "execution_count": 29,
                    "data": {
                        "application/vnd.dataresource+json": {
                            "schema": {
                                "fields": [
                                    {
                                        "name": "BOOK_COUNT"
                                    }
                                ]
                            },
                            "data": [
                                {
                                    "BOOK_COUNT": "8"
                                }
                            ]
                        },
                        "text/html": "<table><tr><th>BOOK_COUNT</th></tr><tr><td>8</td></tr></table>"
                    },
                    "metadata": {}
                }
            ],
            "execution_count": 29
        },
        {
            "cell_type": "code",
            "source": [
                "SELECT \r\n",
                "    COUNT(*) AS BOOKS_WRITTEN,\r\n",
                "    AVG(price)  AVERAGE_BOOK_PRICE\r\n",
                "FROM\r\n",
                "    BOOKS \r\n",
                "WHERE\r\n",
                "    AUTHOR LIKE 'Vivek%'"
            ],
            "metadata": {
                "language": "sql",
                "azdata_cell_guid": "ae0f42c2-6984-4f7b-bb40-5192099dd9aa",
                "tags": []
            },
            "outputs": [
                {
                    "output_type": "display_data",
                    "data": {
                        "text/html": "(1 row affected)"
                    },
                    "metadata": {}
                },
                {
                    "output_type": "display_data",
                    "data": {
                        "text/html": "Total execution time: 00:00:00.005"
                    },
                    "metadata": {}
                },
                {
                    "output_type": "execute_result",
                    "execution_count": 30,
                    "data": {
                        "application/vnd.dataresource+json": {
                            "schema": {
                                "fields": [
                                    {
                                        "name": "BOOKS_WRITTEN"
                                    },
                                    {
                                        "name": "AVERAGE_BOOK_PRICE"
                                    }
                                ]
                            },
                            "data": [
                                {
                                    "BOOKS_WRITTEN": "2",
                                    "AVERAGE_BOOK_PRICE": "299"
                                }
                            ]
                        },
                        "text/html": "<table><tr><th>BOOKS_WRITTEN</th><th>AVERAGE_BOOK_PRICE</th></tr><tr><td>2</td><td>299</td></tr></table>"
                    },
                    "metadata": {}
                }
            ],
            "execution_count": 30
        },
        {
            "cell_type": "markdown",
            "source": [
                "# Finding Distnict Authors\n",
                "\n",
                "  \n",
                "\n",
                "- In our Books table we have many books having same author\n",
                "- author field is not unique\n",
                "- we may want to find out unqiue authors in our database\n",
                "\n",
                "  \n",
                "\n",
                "### Distinct"
            ],
            "metadata": {
                "language": "sql",
                "azdata_cell_guid": "e1ce7843-61cb-4b5d-a65b-695c49605b57"
            },
            "attachments": {}
        },
        {
            "cell_type": "code",
            "source": [
                "SELECT \r\n",
                "    DISTINCT(AUTHOR)\r\n",
                "FROM\r\n",
                "    BOOKS"
            ],
            "metadata": {
                "language": "sql",
                "azdata_cell_guid": "f7b0ad6d-732f-4808-b939-dd55ca9d8ece",
                "tags": []
            },
            "outputs": [
                {
                    "output_type": "display_data",
                    "data": {
                        "text/html": "(5 rows affected)"
                    },
                    "metadata": {}
                },
                {
                    "output_type": "display_data",
                    "data": {
                        "text/html": "Total execution time: 00:00:00.005"
                    },
                    "metadata": {}
                },
                {
                    "output_type": "execute_result",
                    "execution_count": 31,
                    "data": {
                        "application/vnd.dataresource+json": {
                            "schema": {
                                "fields": [
                                    {
                                        "name": "AUTHOR"
                                    }
                                ]
                            },
                            "data": [
                                {
                                    "AUTHOR": "Jeffrey Archer"
                                },
                                {
                                    "AUTHOR": "JK Rowling"
                                },
                                {
                                    "AUTHOR": "John Grisham"
                                },
                                {
                                    "AUTHOR": "Ramdhari Singh Dinkar"
                                },
                                {
                                    "AUTHOR": "Vivek Dutta Mishra"
                                }
                            ]
                        },
                        "text/html": "<table><tr><th>AUTHOR</th></tr><tr><td>Jeffrey Archer</td></tr><tr><td>JK Rowling</td></tr><tr><td>John Grisham</td></tr><tr><td>Ramdhari Singh Dinkar</td></tr><tr><td>Vivek Dutta Mishra</td></tr></table>"
                    },
                    "metadata": {}
                }
            ],
            "execution_count": 31
        },
        {
            "cell_type": "markdown",
            "source": [
                "# We CANT SELECT INFORMATION That Do NOT RETURNS SAME NUMBER OF ROWS\n",
                "\n",
                "- We can't Query for\n",
                "    - All Titles and Distnict Authors IN One Query\n",
                "        - There are 16 titles and only 5 distinct Authors\n",
                "    - Distinct Author and Book Count\n",
                "        - There are 5 distinct authors and only 1 Count Value\n",
                "\n",
                "##"
            ],
            "metadata": {
                "language": "sql",
                "azdata_cell_guid": "7ee15781-24c5-45cb-8d3c-be08dddbc935"
            },
            "attachments": {}
        },
        {
            "cell_type": "code",
            "source": [
                "SELECT     \r\n",
                "    DISTINCT(AUTHOR),\r\n",
                "    TITLE\r\n",
                "FROM\r\n",
                "    BOOKS\r\n",
                ""
            ],
            "metadata": {
                "language": "sql",
                "azdata_cell_guid": "9f97cedc-0832-449d-aec4-e17ecf21e2cd"
            },
            "outputs": [
                {
                    "output_type": "display_data",
                    "data": {
                        "text/html": "(15 rows affected)"
                    },
                    "metadata": {}
                },
                {
                    "output_type": "display_data",
                    "data": {
                        "text/html": "Total execution time: 00:00:00.014"
                    },
                    "metadata": {}
                },
                {
                    "output_type": "execute_result",
                    "execution_count": 35,
                    "data": {
                        "application/vnd.dataresource+json": {
                            "schema": {
                                "fields": [
                                    {
                                        "name": "AUTHOR"
                                    },
                                    {
                                        "name": "TITLE"
                                    }
                                ]
                            },
                            "data": [
                                {
                                    "AUTHOR": "Jeffrey Archer",
                                    "TITLE": "Kane and Abel"
                                },
                                {
                                    "AUTHOR": "JK Rowling",
                                    "TITLE": "Harry Potter and the chamber of secrets"
                                },
                                {
                                    "AUTHOR": "JK Rowling",
                                    "TITLE": "Harry Potter and the deathly hollows"
                                },
                                {
                                    "AUTHOR": "JK Rowling",
                                    "TITLE": "Harry Potter and the goblet of fire"
                                },
                                {
                                    "AUTHOR": "JK Rowling",
                                    "TITLE": "Harry Potter and the half blood prince"
                                },
                                {
                                    "AUTHOR": "JK Rowling",
                                    "TITLE": "Harry Potter, And the Order of Phoinix"
                                },
                                {
                                    "AUTHOR": "JK Rowling",
                                    "TITLE": "Harry Potter, And the Philosophers stone"
                                },
                                {
                                    "AUTHOR": "JK Rowling",
                                    "TITLE": "Harry Potter, And the Prisoner of Asbakan"
                                },
                                {
                                    "AUTHOR": "JK Rowling",
                                    "TITLE": "The Accursed Child"
                                },
                                {
                                    "AUTHOR": "John Grisham",
                                    "TITLE": "Brethren"
                                },
                                {
                                    "AUTHOR": "John Grisham",
                                    "TITLE": "Summons"
                                },
                                {
                                    "AUTHOR": "Ramdhari Singh Dinkar",
                                    "TITLE": "Kurukshetra"
                                },
                                {
                                    "AUTHOR": "Ramdhari Singh Dinkar",
                                    "TITLE": "Rashmirathi"
                                },
                                {
                                    "AUTHOR": "Vivek Dutta Mishra",
                                    "TITLE": "Manas"
                                },
                                {
                                    "AUTHOR": "Vivek Dutta Mishra",
                                    "TITLE": "The Accursed God"
                                }
                            ]
                        },
                        "text/html": "<table><tr><th>AUTHOR</th><th>TITLE</th></tr><tr><td>Jeffrey Archer</td><td>Kane and Abel</td></tr><tr><td>JK Rowling</td><td>Harry Potter and the chamber of secrets</td></tr><tr><td>JK Rowling</td><td>Harry Potter and the deathly hollows</td></tr><tr><td>JK Rowling</td><td>Harry Potter and the goblet of fire</td></tr><tr><td>JK Rowling</td><td>Harry Potter and the half blood prince</td></tr><tr><td>JK Rowling</td><td>Harry Potter, And the Order of Phoinix</td></tr><tr><td>JK Rowling</td><td>Harry Potter, And the Philosophers stone</td></tr><tr><td>JK Rowling</td><td>Harry Potter, And the Prisoner of Asbakan</td></tr><tr><td>JK Rowling</td><td>The Accursed Child</td></tr><tr><td>John Grisham</td><td>Brethren</td></tr><tr><td>John Grisham</td><td>Summons</td></tr><tr><td>Ramdhari Singh Dinkar</td><td>Kurukshetra</td></tr><tr><td>Ramdhari Singh Dinkar</td><td>Rashmirathi</td></tr><tr><td>Vivek Dutta Mishra</td><td>Manas</td></tr><tr><td>Vivek Dutta Mishra</td><td>The Accursed God</td></tr></table>"
                    },
                    "metadata": {}
                }
            ],
            "execution_count": 35
        },
        {
            "cell_type": "code",
            "source": [
                "SELECT \r\n",
                "    DISTINCT(AUTHOR),\r\n",
                "    COUNT(AUTHOR)\r\n",
                "FROM\r\n",
                "    BOOKS"
            ],
            "metadata": {
                "language": "sql",
                "azdata_cell_guid": "af056fe2-ba21-4b7c-a14d-5bfe382f4a00"
            },
            "outputs": [
                {
                    "output_type": "error",
                    "ename": "",
                    "evalue": "Msg 8120, Level 16, State 1, Line 2\r\nColumn 'BOOKS.AUTHOR' is invalid in the select list because it is not contained in either an aggregate function or the GROUP BY clause.",
                    "traceback": []
                },
                {
                    "output_type": "display_data",
                    "data": {
                        "text/html": "Total execution time: 00:00:00.001"
                    },
                    "metadata": {}
                }
            ],
            "execution_count": 37
        },
        {
            "cell_type": "markdown",
            "source": [
                "# GROUP BY\n",
                "\n",
                "- Group By is used to generate a report by grouping multiple rows as a single data\n",
                "    \n",
                "- A data set of 100 rows may be grouped in 5 separate sub groups\n",
                "    \n",
                "    - each sub group can have one row worth information\n",
                "        - this may contain \n",
                "            - aggregate of all the rows\n",
                "            - unique/distnict values from the group\n",
                "                - this will also be group id\n",
                "- Imagine a group as a sub table with multiple rows\n",
                "    \n",
                "    - You can return \n",
                "        - aggregate of these rows or\n",
                "        - unique fields common in each row\n",
                "\n",
                "## Let Us Group All Books by Author\n",
                "\n",
                "- In this case each group will contains all rows related to that author\n",
                "- But we can't returns multiple rows for a group\n",
                "- We can't return any item that varies in different groups"
            ],
            "metadata": {
                "language": "sql",
                "azdata_cell_guid": "dc6a9627-017e-4dc5-890d-7fb471fc49b2"
            },
            "attachments": {}
        },
        {
            "cell_type": "code",
            "source": [
                "SELECT\r\n",
                "    AUTHOR,\r\n",
                "    TITLE\r\n",
                "FROM\r\n",
                "    BOOKS\r\n",
                "GROUP BY\r\n",
                "    AUTHOR"
            ],
            "metadata": {
                "language": "sql",
                "azdata_cell_guid": "40f3fc5e-30ee-48dd-a989-8a3e32d8cd27"
            },
            "outputs": [
                {
                    "output_type": "error",
                    "ename": "",
                    "evalue": "Msg 8120, Level 16, State 1, Line 3\r\nColumn 'BOOKS.TITLE' is invalid in the select list because it is not contained in either an aggregate function or the GROUP BY clause.",
                    "traceback": []
                },
                {
                    "output_type": "display_data",
                    "data": {
                        "text/html": "Total execution time: 00:00:00"
                    },
                    "metadata": {}
                }
            ],
            "execution_count": 53
        },
        {
            "cell_type": "markdown",
            "source": [
                "## We can Include Group By Field\n",
                "\n",
                "-  We can include\n",
                "    - group field (already done)\n",
                "    - aggregate functions that can return a single value for the group\n",
                "        - count\n",
                "        - avg\n",
                "\n",
                "- Remember\n",
                "    - \\* in count(\\*) will mean current group not current table"
            ],
            "metadata": {
                "language": "sql",
                "azdata_cell_guid": "c9a99f3c-938e-49dd-b7b3-b4efd8c51c78"
            },
            "attachments": {}
        },
        {
            "cell_type": "code",
            "source": [
                "SELECT \r\n",
                "    AUTHOR,\r\n",
                "    COUNT(*) BOOKS_WRITTEN,\r\n",
                "    AVG(PRICE) AVERAGE_BOOK_PRICE\r\n",
                "FROM\r\n",
                "    Books\r\n",
                "\r\n",
                "GROUP BY\r\n",
                "    Author"
            ],
            "metadata": {
                "language": "sql",
                "azdata_cell_guid": "db35c5ba-9991-48d9-a004-eb1a745d96b5"
            },
            "outputs": [
                {
                    "output_type": "display_data",
                    "data": {
                        "text/html": "(5 rows affected)"
                    },
                    "metadata": {}
                },
                {
                    "output_type": "display_data",
                    "data": {
                        "text/html": "Total execution time: 00:00:00.004"
                    },
                    "metadata": {}
                },
                {
                    "output_type": "execute_result",
                    "execution_count": 54,
                    "data": {
                        "application/vnd.dataresource+json": {
                            "schema": {
                                "fields": [
                                    {
                                        "name": "AUTHOR"
                                    },
                                    {
                                        "name": "BOOKS_WRITTEN"
                                    },
                                    {
                                        "name": "AVERAGE_BOOK_PRICE"
                                    }
                                ]
                            },
                            "data": [
                                {
                                    "AUTHOR": "Jeffrey Archer",
                                    "BOOKS_WRITTEN": "1",
                                    "AVERAGE_BOOK_PRICE": "499"
                                },
                                {
                                    "AUTHOR": "JK Rowling",
                                    "BOOKS_WRITTEN": "8",
                                    "AVERAGE_BOOK_PRICE": "461"
                                },
                                {
                                    "AUTHOR": "John Grisham",
                                    "BOOKS_WRITTEN": "2",
                                    "AVERAGE_BOOK_PRICE": "199"
                                },
                                {
                                    "AUTHOR": "Ramdhari Singh Dinkar",
                                    "BOOKS_WRITTEN": "2",
                                    "AVERAGE_BOOK_PRICE": "99"
                                },
                                {
                                    "AUTHOR": "Vivek Dutta Mishra",
                                    "BOOKS_WRITTEN": "2",
                                    "AVERAGE_BOOK_PRICE": "299"
                                }
                            ]
                        },
                        "text/html": "<table><tr><th>AUTHOR</th><th>BOOKS_WRITTEN</th><th>AVERAGE_BOOK_PRICE</th></tr><tr><td>Jeffrey Archer</td><td>1</td><td>499</td></tr><tr><td>JK Rowling</td><td>8</td><td>461</td></tr><tr><td>John Grisham</td><td>2</td><td>199</td></tr><tr><td>Ramdhari Singh Dinkar</td><td>2</td><td>99</td></tr><tr><td>Vivek Dutta Mishra</td><td>2</td><td>299</td></tr></table>"
                    },
                    "metadata": {}
                }
            ],
            "execution_count": 54
        },
        {
            "cell_type": "markdown",
            "source": [
                "# PRIMARY KEY CONSTRAINT\n",
                "\n",
                "  \n",
                "\n",
                "- Generally we add a primary key constraint to a TABLE\n",
                "- The primary key is by default Unique\n",
                "- This ensures that any attempt to add a duplicate record is REJECTED.\n",
                "- We can do so\n",
                "    - During creation of a TABLE\n",
                "    - By Altering the Table\n",
                "\n",
                "  \n",
                "\n",
                "  \n",
                "\n",
                "### ALTER TABLE TO ADD A PRIMARY KEY CONSTRAINT"
            ],
            "metadata": {
                "language": "sql",
                "azdata_cell_guid": "db1d1b4b-2373-42e9-a301-28373bfc9881"
            },
            "attachments": {}
        },
        {
            "cell_type": "code",
            "source": [
                "ALTER TABLE BOOKS \r\n",
                "    ALTER COLUMN ID VARCHAR(255) NOT NULL\r\n",
                "    \r\n",
                ""
            ],
            "metadata": {
                "language": "sql",
                "azdata_cell_guid": "254a6eae-5d8e-4f84-ae74-7462d32f6827"
            },
            "outputs": [
                {
                    "output_type": "display_data",
                    "data": {
                        "text/html": "Commands completed successfully."
                    },
                    "metadata": {}
                },
                {
                    "output_type": "display_data",
                    "data": {
                        "text/html": "Total execution time: 00:00:00.014"
                    },
                    "metadata": {}
                }
            ],
            "execution_count": 5
        },
        {
            "cell_type": "code",
            "source": [
                "ALTER TABLE BOOKS\r\n",
                "    ADD PRIMARY KEY(ID)"
            ],
            "metadata": {
                "language": "sql",
                "azdata_cell_guid": "e00d64a6-94c4-4c70-bc12-2274b766ae00"
            },
            "outputs": [
                {
                    "output_type": "display_data",
                    "data": {
                        "text/html": "Commands completed successfully."
                    },
                    "metadata": {}
                },
                {
                    "output_type": "display_data",
                    "data": {
                        "text/html": "Total execution time: 00:00:00.017"
                    },
                    "metadata": {}
                }
            ],
            "execution_count": 6
        },
        {
            "cell_type": "markdown",
            "source": [
                "## Now it will not allow duplicate records for the PRIMARY KEY\n",
                "\n",
                "  \n",
                "\n",
                "- Note if you just want to make a column value unique, you don't have to make it the primary key\n",
                "    - You can add UNIQUE KEY CONSTRAINT ALSO\n",
                "- PRIMARY KEY IS USEFUL FOR RELATIONAL MODEL TO ENFORCE FOREIGN KEY CONSTRAINT\n",
                "    - Will discuss it later"
            ],
            "metadata": {
                "language": "sql",
                "azdata_cell_guid": "0bcf9472-2138-4c16-866d-42e14c7df09e"
            },
            "attachments": {}
        },
        {
            "cell_type": "code",
            "source": [
                "INSERT \r\n",
                "    INTO BOOKS(ID,TITLE,AUTHOR,PRICE)\r\n",
                "    VALUES \r\n",
                "        ('the-accursed-god','The Accursed God','Vivek Dutta Mishra', 399)"
            ],
            "metadata": {
                "language": "sql",
                "azdata_cell_guid": "5bbad116-9c08-4dfc-889a-b02988aa6fc9"
            },
            "outputs": [
                {
                    "output_type": "error",
                    "evalue": "Msg 2627, Level 14, State 1, Line 1\r\nViolation of PRIMARY KEY constraint 'PK__BOOKS__3214EC27CE9E4091'. Cannot insert duplicate key in object 'dbo.BOOKS'. The duplicate key value is (the-accursed-god).",
                    "ename": "",
                    "traceback": []
                },
                {
                    "output_type": "display_data",
                    "data": {
                        "text/html": "The statement has been terminated."
                    },
                    "metadata": {}
                },
                {
                    "output_type": "display_data",
                    "data": {
                        "text/html": "Total execution time: 00:00:00.003"
                    },
                    "metadata": {}
                }
            ],
            "execution_count": 7
        },
        {
            "cell_type": "markdown",
            "source": [
                "# Let us know understand a relational model\n",
                "\n",
                "- We will create a Reviews Table that will include ratings for each book\n",
                "- the book\\_id will identify the rating\n",
                "- Note, we do not expect to access any review directly\n",
                "    - We don't necessarily need an ID/primary key\n",
                "- But it is a good idea for every table to have a primary key\n",
                "    - So we will add a primary key in the reviews table also\n",
                "- While we are adding a relational column book\\_id to connect books and reviews, At this stage, we are NOT ADDING FOREIGN KEY CONSTRAINT\n",
                "- Here we are adding INDENTITY which auto increments the filed\n",
                "    - 1 ---\\> starting value\n",
                "    - 1 ---\\> increment"
            ],
            "metadata": {
                "language": "sql",
                "azdata_cell_guid": "db49349d-d6bb-462b-a51b-097ae8a890ee"
            },
            "attachments": {}
        },
        {
            "cell_type": "code",
            "source": [
                "CREATE TABLE REVIEWS(\r\n",
                "    ID INT PRIMARY KEY IDENTITY(1,1),\r\n",
                "    RATING INT NOT NULL CHECK(RATING>=1 AND RATING<=5),\r\n",
                "    COMMENT VARCHAR(200) DEFAULT(''),\r\n",
                "    BOOK_ID VARCHAR(255) NOT NULL\r\n",
                ")"
            ],
            "metadata": {
                "language": "sql",
                "azdata_cell_guid": "49c40f68-2ef9-4c8a-8a51-f65d3157a5b4"
            },
            "outputs": [
                {
                    "output_type": "display_data",
                    "data": {
                        "text/html": "Commands completed successfully."
                    },
                    "metadata": {}
                },
                {
                    "output_type": "display_data",
                    "data": {
                        "text/html": "Total execution time: 00:00:00.013"
                    },
                    "metadata": {}
                }
            ],
            "execution_count": 8
        },
        {
            "cell_type": "markdown",
            "source": [
                "## Let us now insert some records\n",
                "\n",
                "- We will not  value  for id which is auto incremented\n",
                "- Since we are not passing id, we should specify fields that we will pass"
            ],
            "metadata": {
                "language": "sql",
                "azdata_cell_guid": "b9323116-e6b0-4082-a865-4e72fbe5b43d"
            },
            "attachments": {}
        },
        {
            "cell_type": "code",
            "source": [
                "INSERT \r\n",
                "    INTO REVIEWS\r\n",
                "            ( BOOK_ID, RATING, COMMENT)\r\n",
                "    VALUES\r\n",
                "            ('the-accursed-god',5, 'Very Good Book'),\r\n",
                "            ('rashmirathi',5, 'Very Good Book'),\r\n",
                "            ('kane-and-abel',4, 'Very Good Book'),\r\n",
                "            ('harry-potter-1',4, 'Very Good Book'),\r\n",
                "            ('rashmirathi',3, 'Very Good Book'),\r\n",
                "            ('the-accursed-god',4, 'Very Good Book'),\r\n",
                "            ('the-accursed-god',5, 'Very Good Book'),\r\n",
                "            ('rashmirathi',5, 'Very Good Book'),\r\n",
                "            ('the-accursed-god',4, 'Very Good Book'),\r\n",
                "            ('harry-potter-2',4, 'Very Good Book'),\r\n",
                "            ('harry-potter-3',4, 'Very Good Book'),\r\n",
                "            ('harry-potter-4',4, 'Very Good Book'),\r\n",
                "            ('the-accursed-god',4, 'Very Good Book'),\r\n",
                "            ('rashmirathi',5, 'Very Good Book'),\r\n",
                "            ('the-accursed-god',4, 'Very Good Book'),\r\n",
                "            ('harry-potter-1',4, 'Very Good Book'),\r\n",
                "            ('harry-potter-1',5, 'Very Good Book'),\r\n",
                "            ('harry-potter-1',5, 'Very Good Book'),\r\n",
                "            ('harry-potter-1',4, 'Very Good Book'),\r\n",
                "            ('harry-potter-1',3, 'Very Good Book'),\r\n",
                "            ('the-accursed-god',4, 'Very Good Book'),\r\n",
                "            ('harry-potter-1',4, 'Very Good Book'),\r\n",
                "            ('harry-potter-5',5, 'Very Good Book'),\r\n",
                "            ('harry-potter-6',5, 'Very Good Book'),\r\n",
                "            ('harry-potter-7',3, 'Very Good Book'),\r\n",
                "            ('harry-potter-8',3, 'Very Good Book'),\r\n",
                "            ('harry-potter-7',4, 'Very Good Book'),\r\n",
                "            ('harry-potter-7',5, 'Very Good Book'),\r\n",
                "            ('harry-potter-7',5, 'Very Good Book'),\r\n",
                "            ('harry-potter-6',5, 'Very Good Book'),\r\n",
                "            ('harry-potter-6',5, 'Very Good Book'),\r\n",
                "            ('harry-potter-3',4, 'Very Good Book'),\r\n",
                "            ('manas',5, 'Very Good Book'),\r\n",
                "            ('kurukshetra',4, 'Very Good Book'),\r\n",
                "            ('kurukshetra',4, 'Very Good Book'),\r\n",
                "            ('rashmirathi',5, 'Very Good Book'),\r\n",
                "            ('manas',5, 'Very Good Book'),\r\n",
                "            ('manas',4, 'Very Good Book'),\r\n",
                "            ('manas',4, 'Very Good Book'),\r\n",
                "            ('rashmirathi',5, 'Very Good Book'),\r\n",
                "            ('accursed-child',5, 'Very Good Book'),\r\n",
                "            ('accursed-child',2, 'Very Good Book');\r\n",
                ""
            ],
            "metadata": {
                "language": "sql",
                "azdata_cell_guid": "824271b7-d5dd-4e2f-b152-8717b41bc46d"
            },
            "outputs": [
                {
                    "output_type": "display_data",
                    "data": {
                        "text/html": "(42 rows affected)"
                    },
                    "metadata": {}
                },
                {
                    "output_type": "display_data",
                    "data": {
                        "text/html": "Total execution time: 00:00:00.017"
                    },
                    "metadata": {}
                }
            ],
            "execution_count": 12
        },
        {
            "cell_type": "code",
            "source": [
                "select count(*) from reviews"
            ],
            "metadata": {
                "language": "sql",
                "azdata_cell_guid": "4f9e5688-0d16-494d-8b6d-7e91a2de6bff"
            },
            "outputs": [
                {
                    "output_type": "display_data",
                    "data": {
                        "text/html": "(1 row affected)"
                    },
                    "metadata": {}
                },
                {
                    "output_type": "display_data",
                    "data": {
                        "text/html": "Total execution time: 00:00:00.003"
                    },
                    "metadata": {}
                },
                {
                    "output_type": "execute_result",
                    "metadata": {},
                    "execution_count": 14,
                    "data": {
                        "application/vnd.dataresource+json": {
                            "schema": {
                                "fields": [
                                    {
                                        "name": "(No column name)"
                                    }
                                ]
                            },
                            "data": [
                                {
                                    "(No column name)": "42"
                                }
                            ]
                        },
                        "text/html": [
                            "<table>",
                            "<tr><th>(No column name)</th></tr>",
                            "<tr><td>42</td></tr>",
                            "</table>"
                        ]
                    }
                }
            ],
            "execution_count": 14
        },
        {
            "cell_type": "markdown",
            "source": [
                "# Getting Combined Information From the Two Tables\n",
                "\n",
                "  \n",
                "\n",
                "- Since the tables are related (reviews are related to books) we may want to see the information together\n",
                "    - Example\n",
                "        - book title and reviews\n",
                "\n",
                "- We can use select to select data from different table togehter\n",
                "- But result may not be really interesting"
            ],
            "metadata": {
                "language": "sql",
                "azdata_cell_guid": "bf95aee2-e870-42fa-9389-7687ce259a3a"
            },
            "attachments": {}
        },
        {
            "cell_type": "code",
            "source": [
                "SELECT\r\n",
                "    TITLE,\r\n",
                "    BOOK_ID,\r\n",
                "    AUTHOR,\r\n",
                "    RATING\r\n",
                "FROM\r\n",
                "    BOOKS,\r\n",
                "    REVIEWS\r\n",
                ""
            ],
            "metadata": {
                "language": "sql",
                "azdata_cell_guid": "5ebb0105-56da-4f62-a0d5-de9b67f70053"
            },
            "outputs": [
                {
                    "output_type": "display_data",
                    "data": {
                        "text/html": "(630 rows affected)"
                    },
                    "metadata": {}
                },
                {
                    "output_type": "display_data",
                    "data": {
                        "text/html": "Total execution time: 00:00:00.024"
                    },
                    "metadata": {}
                },
                {
                    "output_type": "execute_result",
                    "metadata": {},
                    "execution_count": 17,
                    "data": {
                        "application/vnd.dataresource+json": {
                            "schema": {
                                "fields": [
                                    {
                                        "name": "TITLE"
                                    },
                                    {
                                        "name": "BOOK_ID"
                                    },
                                    {
                                        "name": "AUTHOR"
                                    },
                                    {
                                        "name": "RATING"
                                    }
                                ]
                            },
                            "data": [
                                {
                                    "TITLE": "The Accursed Child",
                                    "BOOK_ID": "the-accursed-god",
                                    "AUTHOR": "JK Rowling",
                                    "RATING": "5"
                                },
                                {
                                    "TITLE": "The Accursed Child",
                                    "BOOK_ID": "rashmirathi",
                                    "AUTHOR": "JK Rowling",
                                    "RATING": "5"
                                },
                                {
                                    "TITLE": "The Accursed Child",
                                    "BOOK_ID": "kane-and-abel",
                                    "AUTHOR": "JK Rowling",
                                    "RATING": "4"
                                },
                                {
                                    "TITLE": "The Accursed Child",
                                    "BOOK_ID": "harry-potter-1",
                                    "AUTHOR": "JK Rowling",
                                    "RATING": "4"
                                },
                                {
                                    "TITLE": "The Accursed Child",
                                    "BOOK_ID": "rashmirathi",
                                    "AUTHOR": "JK Rowling",
                                    "RATING": "3"
                                },
                                {
                                    "TITLE": "The Accursed Child",
                                    "BOOK_ID": "the-accursed-god",
                                    "AUTHOR": "JK Rowling",
                                    "RATING": "4"
                                },
                                {
                                    "TITLE": "The Accursed Child",
                                    "BOOK_ID": "the-accursed-god",
                                    "AUTHOR": "JK Rowling",
                                    "RATING": "5"
                                },
                                {
                                    "TITLE": "The Accursed Child",
                                    "BOOK_ID": "rashmirathi",
                                    "AUTHOR": "JK Rowling",
                                    "RATING": "5"
                                },
                                {
                                    "TITLE": "The Accursed Child",
                                    "BOOK_ID": "the-accursed-god",
                                    "AUTHOR": "JK Rowling",
                                    "RATING": "4"
                                },
                                {
                                    "TITLE": "The Accursed Child",
                                    "BOOK_ID": "harry-potter-2",
                                    "AUTHOR": "JK Rowling",
                                    "RATING": "4"
                                },
                                {
                                    "TITLE": "The Accursed Child",
                                    "BOOK_ID": "harry-potter-3",
                                    "AUTHOR": "JK Rowling",
                                    "RATING": "4"
                                },
                                {
                                    "TITLE": "The Accursed Child",
                                    "BOOK_ID": "harry-potter-4",
                                    "AUTHOR": "JK Rowling",
                                    "RATING": "4"
                                },
                                {
                                    "TITLE": "The Accursed Child",
                                    "BOOK_ID": "the-accursed-god",
                                    "AUTHOR": "JK Rowling",
                                    "RATING": "4"
                                },
                                {
                                    "TITLE": "The Accursed Child",
                                    "BOOK_ID": "rashmirathi",
                                    "AUTHOR": "JK Rowling",
                                    "RATING": "5"
                                },
                                {
                                    "TITLE": "The Accursed Child",
                                    "BOOK_ID": "the-accursed-god",
                                    "AUTHOR": "JK Rowling",
                                    "RATING": "4"
                                },
                                {
                                    "TITLE": "The Accursed Child",
                                    "BOOK_ID": "harry-potter-1",
                                    "AUTHOR": "JK Rowling",
                                    "RATING": "4"
                                },
                                {
                                    "TITLE": "The Accursed Child",
                                    "BOOK_ID": "harry-potter-1",
                                    "AUTHOR": "JK Rowling",
                                    "RATING": "5"
                                },
                                {
                                    "TITLE": "The Accursed Child",
                                    "BOOK_ID": "harry-potter-1",
                                    "AUTHOR": "JK Rowling",
                                    "RATING": "5"
                                },
                                {
                                    "TITLE": "The Accursed Child",
                                    "BOOK_ID": "harry-potter-1",
                                    "AUTHOR": "JK Rowling",
                                    "RATING": "4"
                                },
                                {
                                    "TITLE": "The Accursed Child",
                                    "BOOK_ID": "harry-potter-1",
                                    "AUTHOR": "JK Rowling",
                                    "RATING": "3"
                                },
                                {
                                    "TITLE": "The Accursed Child",
                                    "BOOK_ID": "the-accursed-god",
                                    "AUTHOR": "JK Rowling",
                                    "RATING": "4"
                                },
                                {
                                    "TITLE": "The Accursed Child",
                                    "BOOK_ID": "harry-potter-1",
                                    "AUTHOR": "JK Rowling",
                                    "RATING": "4"
                                },
                                {
                                    "TITLE": "The Accursed Child",
                                    "BOOK_ID": "harry-potter-5",
                                    "AUTHOR": "JK Rowling",
                                    "RATING": "5"
                                },
                                {
                                    "TITLE": "The Accursed Child",
                                    "BOOK_ID": "harry-potter-6",
                                    "AUTHOR": "JK Rowling",
                                    "RATING": "5"
                                },
                                {
                                    "TITLE": "The Accursed Child",
                                    "BOOK_ID": "harry-potter-7",
                                    "AUTHOR": "JK Rowling",
                                    "RATING": "3"
                                },
                                {
                                    "TITLE": "The Accursed Child",
                                    "BOOK_ID": "harry-potter-8",
                                    "AUTHOR": "JK Rowling",
                                    "RATING": "3"
                                },
                                {
                                    "TITLE": "The Accursed Child",
                                    "BOOK_ID": "harry-potter-7",
                                    "AUTHOR": "JK Rowling",
                                    "RATING": "4"
                                },
                                {
                                    "TITLE": "The Accursed Child",
                                    "BOOK_ID": "harry-potter-7",
                                    "AUTHOR": "JK Rowling",
                                    "RATING": "5"
                                },
                                {
                                    "TITLE": "The Accursed Child",
                                    "BOOK_ID": "harry-potter-7",
                                    "AUTHOR": "JK Rowling",
                                    "RATING": "5"
                                },
                                {
                                    "TITLE": "The Accursed Child",
                                    "BOOK_ID": "harry-potter-6",
                                    "AUTHOR": "JK Rowling",
                                    "RATING": "5"
                                },
                                {
                                    "TITLE": "The Accursed Child",
                                    "BOOK_ID": "harry-potter-6",
                                    "AUTHOR": "JK Rowling",
                                    "RATING": "5"
                                },
                                {
                                    "TITLE": "The Accursed Child",
                                    "BOOK_ID": "harry-potter-3",
                                    "AUTHOR": "JK Rowling",
                                    "RATING": "4"
                                },
                                {
                                    "TITLE": "The Accursed Child",
                                    "BOOK_ID": "manas",
                                    "AUTHOR": "JK Rowling",
                                    "RATING": "5"
                                },
                                {
                                    "TITLE": "The Accursed Child",
                                    "BOOK_ID": "kurukshetra",
                                    "AUTHOR": "JK Rowling",
                                    "RATING": "4"
                                },
                                {
                                    "TITLE": "The Accursed Child",
                                    "BOOK_ID": "kurukshetra",
                                    "AUTHOR": "JK Rowling",
                                    "RATING": "4"
                                },
                                {
                                    "TITLE": "The Accursed Child",
                                    "BOOK_ID": "rashmirathi",
                                    "AUTHOR": "JK Rowling",
                                    "RATING": "5"
                                },
                                {
                                    "TITLE": "The Accursed Child",
                                    "BOOK_ID": "manas",
                                    "AUTHOR": "JK Rowling",
                                    "RATING": "5"
                                },
                                {
                                    "TITLE": "The Accursed Child",
                                    "BOOK_ID": "manas",
                                    "AUTHOR": "JK Rowling",
                                    "RATING": "4"
                                },
                                {
                                    "TITLE": "The Accursed Child",
                                    "BOOK_ID": "manas",
                                    "AUTHOR": "JK Rowling",
                                    "RATING": "4"
                                },
                                {
                                    "TITLE": "The Accursed Child",
                                    "BOOK_ID": "rashmirathi",
                                    "AUTHOR": "JK Rowling",
                                    "RATING": "5"
                                },
                                {
                                    "TITLE": "The Accursed Child",
                                    "BOOK_ID": "accursed-child",
                                    "AUTHOR": "JK Rowling",
                                    "RATING": "5"
                                },
                                {
                                    "TITLE": "The Accursed Child",
                                    "BOOK_ID": "accursed-child",
                                    "AUTHOR": "JK Rowling",
                                    "RATING": "2"
                                },
                                {
                                    "TITLE": "Brethren",
                                    "BOOK_ID": "the-accursed-god",
                                    "AUTHOR": "John Grisham",
                                    "RATING": "5"
                                },
                                {
                                    "TITLE": "Brethren",
                                    "BOOK_ID": "rashmirathi",
                                    "AUTHOR": "John Grisham",
                                    "RATING": "5"
                                },
                                {
                                    "TITLE": "Brethren",
                                    "BOOK_ID": "kane-and-abel",
                                    "AUTHOR": "John Grisham",
                                    "RATING": "4"
                                },
                                {
                                    "TITLE": "Brethren",
                                    "BOOK_ID": "harry-potter-1",
                                    "AUTHOR": "John Grisham",
                                    "RATING": "4"
                                },
                                {
                                    "TITLE": "Brethren",
                                    "BOOK_ID": "rashmirathi",
                                    "AUTHOR": "John Grisham",
                                    "RATING": "3"
                                },
                                {
                                    "TITLE": "Brethren",
                                    "BOOK_ID": "the-accursed-god",
                                    "AUTHOR": "John Grisham",
                                    "RATING": "4"
                                },
                                {
                                    "TITLE": "Brethren",
                                    "BOOK_ID": "the-accursed-god",
                                    "AUTHOR": "John Grisham",
                                    "RATING": "5"
                                },
                                {
                                    "TITLE": "Brethren",
                                    "BOOK_ID": "rashmirathi",
                                    "AUTHOR": "John Grisham",
                                    "RATING": "5"
                                },
                                {
                                    "TITLE": "Brethren",
                                    "BOOK_ID": "the-accursed-god",
                                    "AUTHOR": "John Grisham",
                                    "RATING": "4"
                                },
                                {
                                    "TITLE": "Brethren",
                                    "BOOK_ID": "harry-potter-2",
                                    "AUTHOR": "John Grisham",
                                    "RATING": "4"
                                },
                                {
                                    "TITLE": "Brethren",
                                    "BOOK_ID": "harry-potter-3",
                                    "AUTHOR": "John Grisham",
                                    "RATING": "4"
                                },
                                {
                                    "TITLE": "Brethren",
                                    "BOOK_ID": "harry-potter-4",
                                    "AUTHOR": "John Grisham",
                                    "RATING": "4"
                                },
                                {
                                    "TITLE": "Brethren",
                                    "BOOK_ID": "the-accursed-god",
                                    "AUTHOR": "John Grisham",
                                    "RATING": "4"
                                },
                                {
                                    "TITLE": "Brethren",
                                    "BOOK_ID": "rashmirathi",
                                    "AUTHOR": "John Grisham",
                                    "RATING": "5"
                                },
                                {
                                    "TITLE": "Brethren",
                                    "BOOK_ID": "the-accursed-god",
                                    "AUTHOR": "John Grisham",
                                    "RATING": "4"
                                },
                                {
                                    "TITLE": "Brethren",
                                    "BOOK_ID": "harry-potter-1",
                                    "AUTHOR": "John Grisham",
                                    "RATING": "4"
                                },
                                {
                                    "TITLE": "Brethren",
                                    "BOOK_ID": "harry-potter-1",
                                    "AUTHOR": "John Grisham",
                                    "RATING": "5"
                                },
                                {
                                    "TITLE": "Brethren",
                                    "BOOK_ID": "harry-potter-1",
                                    "AUTHOR": "John Grisham",
                                    "RATING": "5"
                                },
                                {
                                    "TITLE": "Brethren",
                                    "BOOK_ID": "harry-potter-1",
                                    "AUTHOR": "John Grisham",
                                    "RATING": "4"
                                },
                                {
                                    "TITLE": "Brethren",
                                    "BOOK_ID": "harry-potter-1",
                                    "AUTHOR": "John Grisham",
                                    "RATING": "3"
                                },
                                {
                                    "TITLE": "Brethren",
                                    "BOOK_ID": "the-accursed-god",
                                    "AUTHOR": "John Grisham",
                                    "RATING": "4"
                                },
                                {
                                    "TITLE": "Brethren",
                                    "BOOK_ID": "harry-potter-1",
                                    "AUTHOR": "John Grisham",
                                    "RATING": "4"
                                },
                                {
                                    "TITLE": "Brethren",
                                    "BOOK_ID": "harry-potter-5",
                                    "AUTHOR": "John Grisham",
                                    "RATING": "5"
                                },
                                {
                                    "TITLE": "Brethren",
                                    "BOOK_ID": "harry-potter-6",
                                    "AUTHOR": "John Grisham",
                                    "RATING": "5"
                                },
                                {
                                    "TITLE": "Brethren",
                                    "BOOK_ID": "harry-potter-7",
                                    "AUTHOR": "John Grisham",
                                    "RATING": "3"
                                },
                                {
                                    "TITLE": "Brethren",
                                    "BOOK_ID": "harry-potter-8",
                                    "AUTHOR": "John Grisham",
                                    "RATING": "3"
                                },
                                {
                                    "TITLE": "Brethren",
                                    "BOOK_ID": "harry-potter-7",
                                    "AUTHOR": "John Grisham",
                                    "RATING": "4"
                                },
                                {
                                    "TITLE": "Brethren",
                                    "BOOK_ID": "harry-potter-7",
                                    "AUTHOR": "John Grisham",
                                    "RATING": "5"
                                },
                                {
                                    "TITLE": "Brethren",
                                    "BOOK_ID": "harry-potter-7",
                                    "AUTHOR": "John Grisham",
                                    "RATING": "5"
                                },
                                {
                                    "TITLE": "Brethren",
                                    "BOOK_ID": "harry-potter-6",
                                    "AUTHOR": "John Grisham",
                                    "RATING": "5"
                                },
                                {
                                    "TITLE": "Brethren",
                                    "BOOK_ID": "harry-potter-6",
                                    "AUTHOR": "John Grisham",
                                    "RATING": "5"
                                },
                                {
                                    "TITLE": "Brethren",
                                    "BOOK_ID": "harry-potter-3",
                                    "AUTHOR": "John Grisham",
                                    "RATING": "4"
                                },
                                {
                                    "TITLE": "Brethren",
                                    "BOOK_ID": "manas",
                                    "AUTHOR": "John Grisham",
                                    "RATING": "5"
                                },
                                {
                                    "TITLE": "Brethren",
                                    "BOOK_ID": "kurukshetra",
                                    "AUTHOR": "John Grisham",
                                    "RATING": "4"
                                },
                                {
                                    "TITLE": "Brethren",
                                    "BOOK_ID": "kurukshetra",
                                    "AUTHOR": "John Grisham",
                                    "RATING": "4"
                                },
                                {
                                    "TITLE": "Brethren",
                                    "BOOK_ID": "rashmirathi",
                                    "AUTHOR": "John Grisham",
                                    "RATING": "5"
                                },
                                {
                                    "TITLE": "Brethren",
                                    "BOOK_ID": "manas",
                                    "AUTHOR": "John Grisham",
                                    "RATING": "5"
                                },
                                {
                                    "TITLE": "Brethren",
                                    "BOOK_ID": "manas",
                                    "AUTHOR": "John Grisham",
                                    "RATING": "4"
                                },
                                {
                                    "TITLE": "Brethren",
                                    "BOOK_ID": "manas",
                                    "AUTHOR": "John Grisham",
                                    "RATING": "4"
                                },
                                {
                                    "TITLE": "Brethren",
                                    "BOOK_ID": "rashmirathi",
                                    "AUTHOR": "John Grisham",
                                    "RATING": "5"
                                },
                                {
                                    "TITLE": "Brethren",
                                    "BOOK_ID": "accursed-child",
                                    "AUTHOR": "John Grisham",
                                    "RATING": "5"
                                },
                                {
                                    "TITLE": "Brethren",
                                    "BOOK_ID": "accursed-child",
                                    "AUTHOR": "John Grisham",
                                    "RATING": "2"
                                },
                                {
                                    "TITLE": "Harry Potter, And the Philosophers stone",
                                    "BOOK_ID": "the-accursed-god",
                                    "AUTHOR": "JK Rowling",
                                    "RATING": "5"
                                },
                                {
                                    "TITLE": "Harry Potter, And the Philosophers stone",
                                    "BOOK_ID": "rashmirathi",
                                    "AUTHOR": "JK Rowling",
                                    "RATING": "5"
                                },
                                {
                                    "TITLE": "Harry Potter, And the Philosophers stone",
                                    "BOOK_ID": "kane-and-abel",
                                    "AUTHOR": "JK Rowling",
                                    "RATING": "4"
                                },
                                {
                                    "TITLE": "Harry Potter, And the Philosophers stone",
                                    "BOOK_ID": "harry-potter-1",
                                    "AUTHOR": "JK Rowling",
                                    "RATING": "4"
                                },
                                {
                                    "TITLE": "Harry Potter, And the Philosophers stone",
                                    "BOOK_ID": "rashmirathi",
                                    "AUTHOR": "JK Rowling",
                                    "RATING": "3"
                                },
                                {
                                    "TITLE": "Harry Potter, And the Philosophers stone",
                                    "BOOK_ID": "the-accursed-god",
                                    "AUTHOR": "JK Rowling",
                                    "RATING": "4"
                                },
                                {
                                    "TITLE": "Harry Potter, And the Philosophers stone",
                                    "BOOK_ID": "the-accursed-god",
                                    "AUTHOR": "JK Rowling",
                                    "RATING": "5"
                                },
                                {
                                    "TITLE": "Harry Potter, And the Philosophers stone",
                                    "BOOK_ID": "rashmirathi",
                                    "AUTHOR": "JK Rowling",
                                    "RATING": "5"
                                },
                                {
                                    "TITLE": "Harry Potter, And the Philosophers stone",
                                    "BOOK_ID": "the-accursed-god",
                                    "AUTHOR": "JK Rowling",
                                    "RATING": "4"
                                },
                                {
                                    "TITLE": "Harry Potter, And the Philosophers stone",
                                    "BOOK_ID": "harry-potter-2",
                                    "AUTHOR": "JK Rowling",
                                    "RATING": "4"
                                },
                                {
                                    "TITLE": "Harry Potter, And the Philosophers stone",
                                    "BOOK_ID": "harry-potter-3",
                                    "AUTHOR": "JK Rowling",
                                    "RATING": "4"
                                },
                                {
                                    "TITLE": "Harry Potter, And the Philosophers stone",
                                    "BOOK_ID": "harry-potter-4",
                                    "AUTHOR": "JK Rowling",
                                    "RATING": "4"
                                },
                                {
                                    "TITLE": "Harry Potter, And the Philosophers stone",
                                    "BOOK_ID": "the-accursed-god",
                                    "AUTHOR": "JK Rowling",
                                    "RATING": "4"
                                },
                                {
                                    "TITLE": "Harry Potter, And the Philosophers stone",
                                    "BOOK_ID": "rashmirathi",
                                    "AUTHOR": "JK Rowling",
                                    "RATING": "5"
                                },
                                {
                                    "TITLE": "Harry Potter, And the Philosophers stone",
                                    "BOOK_ID": "the-accursed-god",
                                    "AUTHOR": "JK Rowling",
                                    "RATING": "4"
                                },
                                {
                                    "TITLE": "Harry Potter, And the Philosophers stone",
                                    "BOOK_ID": "harry-potter-1",
                                    "AUTHOR": "JK Rowling",
                                    "RATING": "4"
                                },
                                {
                                    "TITLE": "Harry Potter, And the Philosophers stone",
                                    "BOOK_ID": "harry-potter-1",
                                    "AUTHOR": "JK Rowling",
                                    "RATING": "5"
                                },
                                {
                                    "TITLE": "Harry Potter, And the Philosophers stone",
                                    "BOOK_ID": "harry-potter-1",
                                    "AUTHOR": "JK Rowling",
                                    "RATING": "5"
                                },
                                {
                                    "TITLE": "Harry Potter, And the Philosophers stone",
                                    "BOOK_ID": "harry-potter-1",
                                    "AUTHOR": "JK Rowling",
                                    "RATING": "4"
                                },
                                {
                                    "TITLE": "Harry Potter, And the Philosophers stone",
                                    "BOOK_ID": "harry-potter-1",
                                    "AUTHOR": "JK Rowling",
                                    "RATING": "3"
                                },
                                {
                                    "TITLE": "Harry Potter, And the Philosophers stone",
                                    "BOOK_ID": "the-accursed-god",
                                    "AUTHOR": "JK Rowling",
                                    "RATING": "4"
                                },
                                {
                                    "TITLE": "Harry Potter, And the Philosophers stone",
                                    "BOOK_ID": "harry-potter-1",
                                    "AUTHOR": "JK Rowling",
                                    "RATING": "4"
                                },
                                {
                                    "TITLE": "Harry Potter, And the Philosophers stone",
                                    "BOOK_ID": "harry-potter-5",
                                    "AUTHOR": "JK Rowling",
                                    "RATING": "5"
                                },
                                {
                                    "TITLE": "Harry Potter, And the Philosophers stone",
                                    "BOOK_ID": "harry-potter-6",
                                    "AUTHOR": "JK Rowling",
                                    "RATING": "5"
                                },
                                {
                                    "TITLE": "Harry Potter, And the Philosophers stone",
                                    "BOOK_ID": "harry-potter-7",
                                    "AUTHOR": "JK Rowling",
                                    "RATING": "3"
                                },
                                {
                                    "TITLE": "Harry Potter, And the Philosophers stone",
                                    "BOOK_ID": "harry-potter-8",
                                    "AUTHOR": "JK Rowling",
                                    "RATING": "3"
                                },
                                {
                                    "TITLE": "Harry Potter, And the Philosophers stone",
                                    "BOOK_ID": "harry-potter-7",
                                    "AUTHOR": "JK Rowling",
                                    "RATING": "4"
                                },
                                {
                                    "TITLE": "Harry Potter, And the Philosophers stone",
                                    "BOOK_ID": "harry-potter-7",
                                    "AUTHOR": "JK Rowling",
                                    "RATING": "5"
                                },
                                {
                                    "TITLE": "Harry Potter, And the Philosophers stone",
                                    "BOOK_ID": "harry-potter-7",
                                    "AUTHOR": "JK Rowling",
                                    "RATING": "5"
                                },
                                {
                                    "TITLE": "Harry Potter, And the Philosophers stone",
                                    "BOOK_ID": "harry-potter-6",
                                    "AUTHOR": "JK Rowling",
                                    "RATING": "5"
                                },
                                {
                                    "TITLE": "Harry Potter, And the Philosophers stone",
                                    "BOOK_ID": "harry-potter-6",
                                    "AUTHOR": "JK Rowling",
                                    "RATING": "5"
                                },
                                {
                                    "TITLE": "Harry Potter, And the Philosophers stone",
                                    "BOOK_ID": "harry-potter-3",
                                    "AUTHOR": "JK Rowling",
                                    "RATING": "4"
                                },
                                {
                                    "TITLE": "Harry Potter, And the Philosophers stone",
                                    "BOOK_ID": "manas",
                                    "AUTHOR": "JK Rowling",
                                    "RATING": "5"
                                },
                                {
                                    "TITLE": "Harry Potter, And the Philosophers stone",
                                    "BOOK_ID": "kurukshetra",
                                    "AUTHOR": "JK Rowling",
                                    "RATING": "4"
                                },
                                {
                                    "TITLE": "Harry Potter, And the Philosophers stone",
                                    "BOOK_ID": "kurukshetra",
                                    "AUTHOR": "JK Rowling",
                                    "RATING": "4"
                                },
                                {
                                    "TITLE": "Harry Potter, And the Philosophers stone",
                                    "BOOK_ID": "rashmirathi",
                                    "AUTHOR": "JK Rowling",
                                    "RATING": "5"
                                },
                                {
                                    "TITLE": "Harry Potter, And the Philosophers stone",
                                    "BOOK_ID": "manas",
                                    "AUTHOR": "JK Rowling",
                                    "RATING": "5"
                                },
                                {
                                    "TITLE": "Harry Potter, And the Philosophers stone",
                                    "BOOK_ID": "manas",
                                    "AUTHOR": "JK Rowling",
                                    "RATING": "4"
                                },
                                {
                                    "TITLE": "Harry Potter, And the Philosophers stone",
                                    "BOOK_ID": "manas",
                                    "AUTHOR": "JK Rowling",
                                    "RATING": "4"
                                },
                                {
                                    "TITLE": "Harry Potter, And the Philosophers stone",
                                    "BOOK_ID": "rashmirathi",
                                    "AUTHOR": "JK Rowling",
                                    "RATING": "5"
                                },
                                {
                                    "TITLE": "Harry Potter, And the Philosophers stone",
                                    "BOOK_ID": "accursed-child",
                                    "AUTHOR": "JK Rowling",
                                    "RATING": "5"
                                },
                                {
                                    "TITLE": "Harry Potter, And the Philosophers stone",
                                    "BOOK_ID": "accursed-child",
                                    "AUTHOR": "JK Rowling",
                                    "RATING": "2"
                                },
                                {
                                    "TITLE": "Harry Potter and the chamber of secrets",
                                    "BOOK_ID": "the-accursed-god",
                                    "AUTHOR": "JK Rowling",
                                    "RATING": "5"
                                },
                                {
                                    "TITLE": "Harry Potter and the chamber of secrets",
                                    "BOOK_ID": "rashmirathi",
                                    "AUTHOR": "JK Rowling",
                                    "RATING": "5"
                                },
                                {
                                    "TITLE": "Harry Potter and the chamber of secrets",
                                    "BOOK_ID": "kane-and-abel",
                                    "AUTHOR": "JK Rowling",
                                    "RATING": "4"
                                },
                                {
                                    "TITLE": "Harry Potter and the chamber of secrets",
                                    "BOOK_ID": "harry-potter-1",
                                    "AUTHOR": "JK Rowling",
                                    "RATING": "4"
                                },
                                {
                                    "TITLE": "Harry Potter and the chamber of secrets",
                                    "BOOK_ID": "rashmirathi",
                                    "AUTHOR": "JK Rowling",
                                    "RATING": "3"
                                },
                                {
                                    "TITLE": "Harry Potter and the chamber of secrets",
                                    "BOOK_ID": "the-accursed-god",
                                    "AUTHOR": "JK Rowling",
                                    "RATING": "4"
                                },
                                {
                                    "TITLE": "Harry Potter and the chamber of secrets",
                                    "BOOK_ID": "the-accursed-god",
                                    "AUTHOR": "JK Rowling",
                                    "RATING": "5"
                                },
                                {
                                    "TITLE": "Harry Potter and the chamber of secrets",
                                    "BOOK_ID": "rashmirathi",
                                    "AUTHOR": "JK Rowling",
                                    "RATING": "5"
                                },
                                {
                                    "TITLE": "Harry Potter and the chamber of secrets",
                                    "BOOK_ID": "the-accursed-god",
                                    "AUTHOR": "JK Rowling",
                                    "RATING": "4"
                                },
                                {
                                    "TITLE": "Harry Potter and the chamber of secrets",
                                    "BOOK_ID": "harry-potter-2",
                                    "AUTHOR": "JK Rowling",
                                    "RATING": "4"
                                },
                                {
                                    "TITLE": "Harry Potter and the chamber of secrets",
                                    "BOOK_ID": "harry-potter-3",
                                    "AUTHOR": "JK Rowling",
                                    "RATING": "4"
                                },
                                {
                                    "TITLE": "Harry Potter and the chamber of secrets",
                                    "BOOK_ID": "harry-potter-4",
                                    "AUTHOR": "JK Rowling",
                                    "RATING": "4"
                                },
                                {
                                    "TITLE": "Harry Potter and the chamber of secrets",
                                    "BOOK_ID": "the-accursed-god",
                                    "AUTHOR": "JK Rowling",
                                    "RATING": "4"
                                },
                                {
                                    "TITLE": "Harry Potter and the chamber of secrets",
                                    "BOOK_ID": "rashmirathi",
                                    "AUTHOR": "JK Rowling",
                                    "RATING": "5"
                                },
                                {
                                    "TITLE": "Harry Potter and the chamber of secrets",
                                    "BOOK_ID": "the-accursed-god",
                                    "AUTHOR": "JK Rowling",
                                    "RATING": "4"
                                },
                                {
                                    "TITLE": "Harry Potter and the chamber of secrets",
                                    "BOOK_ID": "harry-potter-1",
                                    "AUTHOR": "JK Rowling",
                                    "RATING": "4"
                                },
                                {
                                    "TITLE": "Harry Potter and the chamber of secrets",
                                    "BOOK_ID": "harry-potter-1",
                                    "AUTHOR": "JK Rowling",
                                    "RATING": "5"
                                },
                                {
                                    "TITLE": "Harry Potter and the chamber of secrets",
                                    "BOOK_ID": "harry-potter-1",
                                    "AUTHOR": "JK Rowling",
                                    "RATING": "5"
                                },
                                {
                                    "TITLE": "Harry Potter and the chamber of secrets",
                                    "BOOK_ID": "harry-potter-1",
                                    "AUTHOR": "JK Rowling",
                                    "RATING": "4"
                                },
                                {
                                    "TITLE": "Harry Potter and the chamber of secrets",
                                    "BOOK_ID": "harry-potter-1",
                                    "AUTHOR": "JK Rowling",
                                    "RATING": "3"
                                },
                                {
                                    "TITLE": "Harry Potter and the chamber of secrets",
                                    "BOOK_ID": "the-accursed-god",
                                    "AUTHOR": "JK Rowling",
                                    "RATING": "4"
                                },
                                {
                                    "TITLE": "Harry Potter and the chamber of secrets",
                                    "BOOK_ID": "harry-potter-1",
                                    "AUTHOR": "JK Rowling",
                                    "RATING": "4"
                                },
                                {
                                    "TITLE": "Harry Potter and the chamber of secrets",
                                    "BOOK_ID": "harry-potter-5",
                                    "AUTHOR": "JK Rowling",
                                    "RATING": "5"
                                },
                                {
                                    "TITLE": "Harry Potter and the chamber of secrets",
                                    "BOOK_ID": "harry-potter-6",
                                    "AUTHOR": "JK Rowling",
                                    "RATING": "5"
                                },
                                {
                                    "TITLE": "Harry Potter and the chamber of secrets",
                                    "BOOK_ID": "harry-potter-7",
                                    "AUTHOR": "JK Rowling",
                                    "RATING": "3"
                                },
                                {
                                    "TITLE": "Harry Potter and the chamber of secrets",
                                    "BOOK_ID": "harry-potter-8",
                                    "AUTHOR": "JK Rowling",
                                    "RATING": "3"
                                },
                                {
                                    "TITLE": "Harry Potter and the chamber of secrets",
                                    "BOOK_ID": "harry-potter-7",
                                    "AUTHOR": "JK Rowling",
                                    "RATING": "4"
                                },
                                {
                                    "TITLE": "Harry Potter and the chamber of secrets",
                                    "BOOK_ID": "harry-potter-7",
                                    "AUTHOR": "JK Rowling",
                                    "RATING": "5"
                                },
                                {
                                    "TITLE": "Harry Potter and the chamber of secrets",
                                    "BOOK_ID": "harry-potter-7",
                                    "AUTHOR": "JK Rowling",
                                    "RATING": "5"
                                },
                                {
                                    "TITLE": "Harry Potter and the chamber of secrets",
                                    "BOOK_ID": "harry-potter-6",
                                    "AUTHOR": "JK Rowling",
                                    "RATING": "5"
                                },
                                {
                                    "TITLE": "Harry Potter and the chamber of secrets",
                                    "BOOK_ID": "harry-potter-6",
                                    "AUTHOR": "JK Rowling",
                                    "RATING": "5"
                                },
                                {
                                    "TITLE": "Harry Potter and the chamber of secrets",
                                    "BOOK_ID": "harry-potter-3",
                                    "AUTHOR": "JK Rowling",
                                    "RATING": "4"
                                },
                                {
                                    "TITLE": "Harry Potter and the chamber of secrets",
                                    "BOOK_ID": "manas",
                                    "AUTHOR": "JK Rowling",
                                    "RATING": "5"
                                },
                                {
                                    "TITLE": "Harry Potter and the chamber of secrets",
                                    "BOOK_ID": "kurukshetra",
                                    "AUTHOR": "JK Rowling",
                                    "RATING": "4"
                                },
                                {
                                    "TITLE": "Harry Potter and the chamber of secrets",
                                    "BOOK_ID": "kurukshetra",
                                    "AUTHOR": "JK Rowling",
                                    "RATING": "4"
                                },
                                {
                                    "TITLE": "Harry Potter and the chamber of secrets",
                                    "BOOK_ID": "rashmirathi",
                                    "AUTHOR": "JK Rowling",
                                    "RATING": "5"
                                },
                                {
                                    "TITLE": "Harry Potter and the chamber of secrets",
                                    "BOOK_ID": "manas",
                                    "AUTHOR": "JK Rowling",
                                    "RATING": "5"
                                },
                                {
                                    "TITLE": "Harry Potter and the chamber of secrets",
                                    "BOOK_ID": "manas",
                                    "AUTHOR": "JK Rowling",
                                    "RATING": "4"
                                },
                                {
                                    "TITLE": "Harry Potter and the chamber of secrets",
                                    "BOOK_ID": "manas",
                                    "AUTHOR": "JK Rowling",
                                    "RATING": "4"
                                },
                                {
                                    "TITLE": "Harry Potter and the chamber of secrets",
                                    "BOOK_ID": "rashmirathi",
                                    "AUTHOR": "JK Rowling",
                                    "RATING": "5"
                                },
                                {
                                    "TITLE": "Harry Potter and the chamber of secrets",
                                    "BOOK_ID": "accursed-child",
                                    "AUTHOR": "JK Rowling",
                                    "RATING": "5"
                                },
                                {
                                    "TITLE": "Harry Potter and the chamber of secrets",
                                    "BOOK_ID": "accursed-child",
                                    "AUTHOR": "JK Rowling",
                                    "RATING": "2"
                                },
                                {
                                    "TITLE": "Harry Potter, And the Prisoner of Asbakan",
                                    "BOOK_ID": "the-accursed-god",
                                    "AUTHOR": "JK Rowling",
                                    "RATING": "5"
                                },
                                {
                                    "TITLE": "Harry Potter, And the Prisoner of Asbakan",
                                    "BOOK_ID": "rashmirathi",
                                    "AUTHOR": "JK Rowling",
                                    "RATING": "5"
                                },
                                {
                                    "TITLE": "Harry Potter, And the Prisoner of Asbakan",
                                    "BOOK_ID": "kane-and-abel",
                                    "AUTHOR": "JK Rowling",
                                    "RATING": "4"
                                },
                                {
                                    "TITLE": "Harry Potter, And the Prisoner of Asbakan",
                                    "BOOK_ID": "harry-potter-1",
                                    "AUTHOR": "JK Rowling",
                                    "RATING": "4"
                                },
                                {
                                    "TITLE": "Harry Potter, And the Prisoner of Asbakan",
                                    "BOOK_ID": "rashmirathi",
                                    "AUTHOR": "JK Rowling",
                                    "RATING": "3"
                                },
                                {
                                    "TITLE": "Harry Potter, And the Prisoner of Asbakan",
                                    "BOOK_ID": "the-accursed-god",
                                    "AUTHOR": "JK Rowling",
                                    "RATING": "4"
                                },
                                {
                                    "TITLE": "Harry Potter, And the Prisoner of Asbakan",
                                    "BOOK_ID": "the-accursed-god",
                                    "AUTHOR": "JK Rowling",
                                    "RATING": "5"
                                },
                                {
                                    "TITLE": "Harry Potter, And the Prisoner of Asbakan",
                                    "BOOK_ID": "rashmirathi",
                                    "AUTHOR": "JK Rowling",
                                    "RATING": "5"
                                },
                                {
                                    "TITLE": "Harry Potter, And the Prisoner of Asbakan",
                                    "BOOK_ID": "the-accursed-god",
                                    "AUTHOR": "JK Rowling",
                                    "RATING": "4"
                                },
                                {
                                    "TITLE": "Harry Potter, And the Prisoner of Asbakan",
                                    "BOOK_ID": "harry-potter-2",
                                    "AUTHOR": "JK Rowling",
                                    "RATING": "4"
                                },
                                {
                                    "TITLE": "Harry Potter, And the Prisoner of Asbakan",
                                    "BOOK_ID": "harry-potter-3",
                                    "AUTHOR": "JK Rowling",
                                    "RATING": "4"
                                },
                                {
                                    "TITLE": "Harry Potter, And the Prisoner of Asbakan",
                                    "BOOK_ID": "harry-potter-4",
                                    "AUTHOR": "JK Rowling",
                                    "RATING": "4"
                                },
                                {
                                    "TITLE": "Harry Potter, And the Prisoner of Asbakan",
                                    "BOOK_ID": "the-accursed-god",
                                    "AUTHOR": "JK Rowling",
                                    "RATING": "4"
                                },
                                {
                                    "TITLE": "Harry Potter, And the Prisoner of Asbakan",
                                    "BOOK_ID": "rashmirathi",
                                    "AUTHOR": "JK Rowling",
                                    "RATING": "5"
                                },
                                {
                                    "TITLE": "Harry Potter, And the Prisoner of Asbakan",
                                    "BOOK_ID": "the-accursed-god",
                                    "AUTHOR": "JK Rowling",
                                    "RATING": "4"
                                },
                                {
                                    "TITLE": "Harry Potter, And the Prisoner of Asbakan",
                                    "BOOK_ID": "harry-potter-1",
                                    "AUTHOR": "JK Rowling",
                                    "RATING": "4"
                                },
                                {
                                    "TITLE": "Harry Potter, And the Prisoner of Asbakan",
                                    "BOOK_ID": "harry-potter-1",
                                    "AUTHOR": "JK Rowling",
                                    "RATING": "5"
                                },
                                {
                                    "TITLE": "Harry Potter, And the Prisoner of Asbakan",
                                    "BOOK_ID": "harry-potter-1",
                                    "AUTHOR": "JK Rowling",
                                    "RATING": "5"
                                },
                                {
                                    "TITLE": "Harry Potter, And the Prisoner of Asbakan",
                                    "BOOK_ID": "harry-potter-1",
                                    "AUTHOR": "JK Rowling",
                                    "RATING": "4"
                                },
                                {
                                    "TITLE": "Harry Potter, And the Prisoner of Asbakan",
                                    "BOOK_ID": "harry-potter-1",
                                    "AUTHOR": "JK Rowling",
                                    "RATING": "3"
                                },
                                {
                                    "TITLE": "Harry Potter, And the Prisoner of Asbakan",
                                    "BOOK_ID": "the-accursed-god",
                                    "AUTHOR": "JK Rowling",
                                    "RATING": "4"
                                },
                                {
                                    "TITLE": "Harry Potter, And the Prisoner of Asbakan",
                                    "BOOK_ID": "harry-potter-1",
                                    "AUTHOR": "JK Rowling",
                                    "RATING": "4"
                                },
                                {
                                    "TITLE": "Harry Potter, And the Prisoner of Asbakan",
                                    "BOOK_ID": "harry-potter-5",
                                    "AUTHOR": "JK Rowling",
                                    "RATING": "5"
                                },
                                {
                                    "TITLE": "Harry Potter, And the Prisoner of Asbakan",
                                    "BOOK_ID": "harry-potter-6",
                                    "AUTHOR": "JK Rowling",
                                    "RATING": "5"
                                },
                                {
                                    "TITLE": "Harry Potter, And the Prisoner of Asbakan",
                                    "BOOK_ID": "harry-potter-7",
                                    "AUTHOR": "JK Rowling",
                                    "RATING": "3"
                                },
                                {
                                    "TITLE": "Harry Potter, And the Prisoner of Asbakan",
                                    "BOOK_ID": "harry-potter-8",
                                    "AUTHOR": "JK Rowling",
                                    "RATING": "3"
                                },
                                {
                                    "TITLE": "Harry Potter, And the Prisoner of Asbakan",
                                    "BOOK_ID": "harry-potter-7",
                                    "AUTHOR": "JK Rowling",
                                    "RATING": "4"
                                },
                                {
                                    "TITLE": "Harry Potter, And the Prisoner of Asbakan",
                                    "BOOK_ID": "harry-potter-7",
                                    "AUTHOR": "JK Rowling",
                                    "RATING": "5"
                                },
                                {
                                    "TITLE": "Harry Potter, And the Prisoner of Asbakan",
                                    "BOOK_ID": "harry-potter-7",
                                    "AUTHOR": "JK Rowling",
                                    "RATING": "5"
                                },
                                {
                                    "TITLE": "Harry Potter, And the Prisoner of Asbakan",
                                    "BOOK_ID": "harry-potter-6",
                                    "AUTHOR": "JK Rowling",
                                    "RATING": "5"
                                },
                                {
                                    "TITLE": "Harry Potter, And the Prisoner of Asbakan",
                                    "BOOK_ID": "harry-potter-6",
                                    "AUTHOR": "JK Rowling",
                                    "RATING": "5"
                                },
                                {
                                    "TITLE": "Harry Potter, And the Prisoner of Asbakan",
                                    "BOOK_ID": "harry-potter-3",
                                    "AUTHOR": "JK Rowling",
                                    "RATING": "4"
                                },
                                {
                                    "TITLE": "Harry Potter, And the Prisoner of Asbakan",
                                    "BOOK_ID": "manas",
                                    "AUTHOR": "JK Rowling",
                                    "RATING": "5"
                                },
                                {
                                    "TITLE": "Harry Potter, And the Prisoner of Asbakan",
                                    "BOOK_ID": "kurukshetra",
                                    "AUTHOR": "JK Rowling",
                                    "RATING": "4"
                                },
                                {
                                    "TITLE": "Harry Potter, And the Prisoner of Asbakan",
                                    "BOOK_ID": "kurukshetra",
                                    "AUTHOR": "JK Rowling",
                                    "RATING": "4"
                                },
                                {
                                    "TITLE": "Harry Potter, And the Prisoner of Asbakan",
                                    "BOOK_ID": "rashmirathi",
                                    "AUTHOR": "JK Rowling",
                                    "RATING": "5"
                                },
                                {
                                    "TITLE": "Harry Potter, And the Prisoner of Asbakan",
                                    "BOOK_ID": "manas",
                                    "AUTHOR": "JK Rowling",
                                    "RATING": "5"
                                },
                                {
                                    "TITLE": "Harry Potter, And the Prisoner of Asbakan",
                                    "BOOK_ID": "manas",
                                    "AUTHOR": "JK Rowling",
                                    "RATING": "4"
                                },
                                {
                                    "TITLE": "Harry Potter, And the Prisoner of Asbakan",
                                    "BOOK_ID": "manas",
                                    "AUTHOR": "JK Rowling",
                                    "RATING": "4"
                                },
                                {
                                    "TITLE": "Harry Potter, And the Prisoner of Asbakan",
                                    "BOOK_ID": "rashmirathi",
                                    "AUTHOR": "JK Rowling",
                                    "RATING": "5"
                                },
                                {
                                    "TITLE": "Harry Potter, And the Prisoner of Asbakan",
                                    "BOOK_ID": "accursed-child",
                                    "AUTHOR": "JK Rowling",
                                    "RATING": "5"
                                },
                                {
                                    "TITLE": "Harry Potter, And the Prisoner of Asbakan",
                                    "BOOK_ID": "accursed-child",
                                    "AUTHOR": "JK Rowling",
                                    "RATING": "2"
                                },
                                {
                                    "TITLE": "Harry Potter and the goblet of fire",
                                    "BOOK_ID": "the-accursed-god",
                                    "AUTHOR": "JK Rowling",
                                    "RATING": "5"
                                },
                                {
                                    "TITLE": "Harry Potter and the goblet of fire",
                                    "BOOK_ID": "rashmirathi",
                                    "AUTHOR": "JK Rowling",
                                    "RATING": "5"
                                },
                                {
                                    "TITLE": "Harry Potter and the goblet of fire",
                                    "BOOK_ID": "kane-and-abel",
                                    "AUTHOR": "JK Rowling",
                                    "RATING": "4"
                                },
                                {
                                    "TITLE": "Harry Potter and the goblet of fire",
                                    "BOOK_ID": "harry-potter-1",
                                    "AUTHOR": "JK Rowling",
                                    "RATING": "4"
                                },
                                {
                                    "TITLE": "Harry Potter and the goblet of fire",
                                    "BOOK_ID": "rashmirathi",
                                    "AUTHOR": "JK Rowling",
                                    "RATING": "3"
                                },
                                {
                                    "TITLE": "Harry Potter and the goblet of fire",
                                    "BOOK_ID": "the-accursed-god",
                                    "AUTHOR": "JK Rowling",
                                    "RATING": "4"
                                },
                                {
                                    "TITLE": "Harry Potter and the goblet of fire",
                                    "BOOK_ID": "the-accursed-god",
                                    "AUTHOR": "JK Rowling",
                                    "RATING": "5"
                                },
                                {
                                    "TITLE": "Harry Potter and the goblet of fire",
                                    "BOOK_ID": "rashmirathi",
                                    "AUTHOR": "JK Rowling",
                                    "RATING": "5"
                                },
                                {
                                    "TITLE": "Harry Potter and the goblet of fire",
                                    "BOOK_ID": "the-accursed-god",
                                    "AUTHOR": "JK Rowling",
                                    "RATING": "4"
                                },
                                {
                                    "TITLE": "Harry Potter and the goblet of fire",
                                    "BOOK_ID": "harry-potter-2",
                                    "AUTHOR": "JK Rowling",
                                    "RATING": "4"
                                },
                                {
                                    "TITLE": "Harry Potter and the goblet of fire",
                                    "BOOK_ID": "harry-potter-3",
                                    "AUTHOR": "JK Rowling",
                                    "RATING": "4"
                                },
                                {
                                    "TITLE": "Harry Potter and the goblet of fire",
                                    "BOOK_ID": "harry-potter-4",
                                    "AUTHOR": "JK Rowling",
                                    "RATING": "4"
                                },
                                {
                                    "TITLE": "Harry Potter and the goblet of fire",
                                    "BOOK_ID": "the-accursed-god",
                                    "AUTHOR": "JK Rowling",
                                    "RATING": "4"
                                },
                                {
                                    "TITLE": "Harry Potter and the goblet of fire",
                                    "BOOK_ID": "rashmirathi",
                                    "AUTHOR": "JK Rowling",
                                    "RATING": "5"
                                },
                                {
                                    "TITLE": "Harry Potter and the goblet of fire",
                                    "BOOK_ID": "the-accursed-god",
                                    "AUTHOR": "JK Rowling",
                                    "RATING": "4"
                                },
                                {
                                    "TITLE": "Harry Potter and the goblet of fire",
                                    "BOOK_ID": "harry-potter-1",
                                    "AUTHOR": "JK Rowling",
                                    "RATING": "4"
                                },
                                {
                                    "TITLE": "Harry Potter and the goblet of fire",
                                    "BOOK_ID": "harry-potter-1",
                                    "AUTHOR": "JK Rowling",
                                    "RATING": "5"
                                },
                                {
                                    "TITLE": "Harry Potter and the goblet of fire",
                                    "BOOK_ID": "harry-potter-1",
                                    "AUTHOR": "JK Rowling",
                                    "RATING": "5"
                                },
                                {
                                    "TITLE": "Harry Potter and the goblet of fire",
                                    "BOOK_ID": "harry-potter-1",
                                    "AUTHOR": "JK Rowling",
                                    "RATING": "4"
                                },
                                {
                                    "TITLE": "Harry Potter and the goblet of fire",
                                    "BOOK_ID": "harry-potter-1",
                                    "AUTHOR": "JK Rowling",
                                    "RATING": "3"
                                },
                                {
                                    "TITLE": "Harry Potter and the goblet of fire",
                                    "BOOK_ID": "the-accursed-god",
                                    "AUTHOR": "JK Rowling",
                                    "RATING": "4"
                                },
                                {
                                    "TITLE": "Harry Potter and the goblet of fire",
                                    "BOOK_ID": "harry-potter-1",
                                    "AUTHOR": "JK Rowling",
                                    "RATING": "4"
                                },
                                {
                                    "TITLE": "Harry Potter and the goblet of fire",
                                    "BOOK_ID": "harry-potter-5",
                                    "AUTHOR": "JK Rowling",
                                    "RATING": "5"
                                },
                                {
                                    "TITLE": "Harry Potter and the goblet of fire",
                                    "BOOK_ID": "harry-potter-6",
                                    "AUTHOR": "JK Rowling",
                                    "RATING": "5"
                                },
                                {
                                    "TITLE": "Harry Potter and the goblet of fire",
                                    "BOOK_ID": "harry-potter-7",
                                    "AUTHOR": "JK Rowling",
                                    "RATING": "3"
                                },
                                {
                                    "TITLE": "Harry Potter and the goblet of fire",
                                    "BOOK_ID": "harry-potter-8",
                                    "AUTHOR": "JK Rowling",
                                    "RATING": "3"
                                },
                                {
                                    "TITLE": "Harry Potter and the goblet of fire",
                                    "BOOK_ID": "harry-potter-7",
                                    "AUTHOR": "JK Rowling",
                                    "RATING": "4"
                                },
                                {
                                    "TITLE": "Harry Potter and the goblet of fire",
                                    "BOOK_ID": "harry-potter-7",
                                    "AUTHOR": "JK Rowling",
                                    "RATING": "5"
                                },
                                {
                                    "TITLE": "Harry Potter and the goblet of fire",
                                    "BOOK_ID": "harry-potter-7",
                                    "AUTHOR": "JK Rowling",
                                    "RATING": "5"
                                },
                                {
                                    "TITLE": "Harry Potter and the goblet of fire",
                                    "BOOK_ID": "harry-potter-6",
                                    "AUTHOR": "JK Rowling",
                                    "RATING": "5"
                                },
                                {
                                    "TITLE": "Harry Potter and the goblet of fire",
                                    "BOOK_ID": "harry-potter-6",
                                    "AUTHOR": "JK Rowling",
                                    "RATING": "5"
                                },
                                {
                                    "TITLE": "Harry Potter and the goblet of fire",
                                    "BOOK_ID": "harry-potter-3",
                                    "AUTHOR": "JK Rowling",
                                    "RATING": "4"
                                },
                                {
                                    "TITLE": "Harry Potter and the goblet of fire",
                                    "BOOK_ID": "manas",
                                    "AUTHOR": "JK Rowling",
                                    "RATING": "5"
                                },
                                {
                                    "TITLE": "Harry Potter and the goblet of fire",
                                    "BOOK_ID": "kurukshetra",
                                    "AUTHOR": "JK Rowling",
                                    "RATING": "4"
                                },
                                {
                                    "TITLE": "Harry Potter and the goblet of fire",
                                    "BOOK_ID": "kurukshetra",
                                    "AUTHOR": "JK Rowling",
                                    "RATING": "4"
                                },
                                {
                                    "TITLE": "Harry Potter and the goblet of fire",
                                    "BOOK_ID": "rashmirathi",
                                    "AUTHOR": "JK Rowling",
                                    "RATING": "5"
                                },
                                {
                                    "TITLE": "Harry Potter and the goblet of fire",
                                    "BOOK_ID": "manas",
                                    "AUTHOR": "JK Rowling",
                                    "RATING": "5"
                                },
                                {
                                    "TITLE": "Harry Potter and the goblet of fire",
                                    "BOOK_ID": "manas",
                                    "AUTHOR": "JK Rowling",
                                    "RATING": "4"
                                },
                                {
                                    "TITLE": "Harry Potter and the goblet of fire",
                                    "BOOK_ID": "manas",
                                    "AUTHOR": "JK Rowling",
                                    "RATING": "4"
                                },
                                {
                                    "TITLE": "Harry Potter and the goblet of fire",
                                    "BOOK_ID": "rashmirathi",
                                    "AUTHOR": "JK Rowling",
                                    "RATING": "5"
                                },
                                {
                                    "TITLE": "Harry Potter and the goblet of fire",
                                    "BOOK_ID": "accursed-child",
                                    "AUTHOR": "JK Rowling",
                                    "RATING": "5"
                                },
                                {
                                    "TITLE": "Harry Potter and the goblet of fire",
                                    "BOOK_ID": "accursed-child",
                                    "AUTHOR": "JK Rowling",
                                    "RATING": "2"
                                },
                                {
                                    "TITLE": "Harry Potter, And the Order of Phoinix",
                                    "BOOK_ID": "the-accursed-god",
                                    "AUTHOR": "JK Rowling",
                                    "RATING": "5"
                                },
                                {
                                    "TITLE": "Harry Potter, And the Order of Phoinix",
                                    "BOOK_ID": "rashmirathi",
                                    "AUTHOR": "JK Rowling",
                                    "RATING": "5"
                                },
                                {
                                    "TITLE": "Harry Potter, And the Order of Phoinix",
                                    "BOOK_ID": "kane-and-abel",
                                    "AUTHOR": "JK Rowling",
                                    "RATING": "4"
                                },
                                {
                                    "TITLE": "Harry Potter, And the Order of Phoinix",
                                    "BOOK_ID": "harry-potter-1",
                                    "AUTHOR": "JK Rowling",
                                    "RATING": "4"
                                },
                                {
                                    "TITLE": "Harry Potter, And the Order of Phoinix",
                                    "BOOK_ID": "rashmirathi",
                                    "AUTHOR": "JK Rowling",
                                    "RATING": "3"
                                },
                                {
                                    "TITLE": "Harry Potter, And the Order of Phoinix",
                                    "BOOK_ID": "the-accursed-god",
                                    "AUTHOR": "JK Rowling",
                                    "RATING": "4"
                                },
                                {
                                    "TITLE": "Harry Potter, And the Order of Phoinix",
                                    "BOOK_ID": "the-accursed-god",
                                    "AUTHOR": "JK Rowling",
                                    "RATING": "5"
                                },
                                {
                                    "TITLE": "Harry Potter, And the Order of Phoinix",
                                    "BOOK_ID": "rashmirathi",
                                    "AUTHOR": "JK Rowling",
                                    "RATING": "5"
                                },
                                {
                                    "TITLE": "Harry Potter, And the Order of Phoinix",
                                    "BOOK_ID": "the-accursed-god",
                                    "AUTHOR": "JK Rowling",
                                    "RATING": "4"
                                },
                                {
                                    "TITLE": "Harry Potter, And the Order of Phoinix",
                                    "BOOK_ID": "harry-potter-2",
                                    "AUTHOR": "JK Rowling",
                                    "RATING": "4"
                                },
                                {
                                    "TITLE": "Harry Potter, And the Order of Phoinix",
                                    "BOOK_ID": "harry-potter-3",
                                    "AUTHOR": "JK Rowling",
                                    "RATING": "4"
                                },
                                {
                                    "TITLE": "Harry Potter, And the Order of Phoinix",
                                    "BOOK_ID": "harry-potter-4",
                                    "AUTHOR": "JK Rowling",
                                    "RATING": "4"
                                },
                                {
                                    "TITLE": "Harry Potter, And the Order of Phoinix",
                                    "BOOK_ID": "the-accursed-god",
                                    "AUTHOR": "JK Rowling",
                                    "RATING": "4"
                                },
                                {
                                    "TITLE": "Harry Potter, And the Order of Phoinix",
                                    "BOOK_ID": "rashmirathi",
                                    "AUTHOR": "JK Rowling",
                                    "RATING": "5"
                                },
                                {
                                    "TITLE": "Harry Potter, And the Order of Phoinix",
                                    "BOOK_ID": "the-accursed-god",
                                    "AUTHOR": "JK Rowling",
                                    "RATING": "4"
                                },
                                {
                                    "TITLE": "Harry Potter, And the Order of Phoinix",
                                    "BOOK_ID": "harry-potter-1",
                                    "AUTHOR": "JK Rowling",
                                    "RATING": "4"
                                },
                                {
                                    "TITLE": "Harry Potter, And the Order of Phoinix",
                                    "BOOK_ID": "harry-potter-1",
                                    "AUTHOR": "JK Rowling",
                                    "RATING": "5"
                                },
                                {
                                    "TITLE": "Harry Potter, And the Order of Phoinix",
                                    "BOOK_ID": "harry-potter-1",
                                    "AUTHOR": "JK Rowling",
                                    "RATING": "5"
                                },
                                {
                                    "TITLE": "Harry Potter, And the Order of Phoinix",
                                    "BOOK_ID": "harry-potter-1",
                                    "AUTHOR": "JK Rowling",
                                    "RATING": "4"
                                },
                                {
                                    "TITLE": "Harry Potter, And the Order of Phoinix",
                                    "BOOK_ID": "harry-potter-1",
                                    "AUTHOR": "JK Rowling",
                                    "RATING": "3"
                                },
                                {
                                    "TITLE": "Harry Potter, And the Order of Phoinix",
                                    "BOOK_ID": "the-accursed-god",
                                    "AUTHOR": "JK Rowling",
                                    "RATING": "4"
                                },
                                {
                                    "TITLE": "Harry Potter, And the Order of Phoinix",
                                    "BOOK_ID": "harry-potter-1",
                                    "AUTHOR": "JK Rowling",
                                    "RATING": "4"
                                },
                                {
                                    "TITLE": "Harry Potter, And the Order of Phoinix",
                                    "BOOK_ID": "harry-potter-5",
                                    "AUTHOR": "JK Rowling",
                                    "RATING": "5"
                                },
                                {
                                    "TITLE": "Harry Potter, And the Order of Phoinix",
                                    "BOOK_ID": "harry-potter-6",
                                    "AUTHOR": "JK Rowling",
                                    "RATING": "5"
                                },
                                {
                                    "TITLE": "Harry Potter, And the Order of Phoinix",
                                    "BOOK_ID": "harry-potter-7",
                                    "AUTHOR": "JK Rowling",
                                    "RATING": "3"
                                },
                                {
                                    "TITLE": "Harry Potter, And the Order of Phoinix",
                                    "BOOK_ID": "harry-potter-8",
                                    "AUTHOR": "JK Rowling",
                                    "RATING": "3"
                                },
                                {
                                    "TITLE": "Harry Potter, And the Order of Phoinix",
                                    "BOOK_ID": "harry-potter-7",
                                    "AUTHOR": "JK Rowling",
                                    "RATING": "4"
                                },
                                {
                                    "TITLE": "Harry Potter, And the Order of Phoinix",
                                    "BOOK_ID": "harry-potter-7",
                                    "AUTHOR": "JK Rowling",
                                    "RATING": "5"
                                },
                                {
                                    "TITLE": "Harry Potter, And the Order of Phoinix",
                                    "BOOK_ID": "harry-potter-7",
                                    "AUTHOR": "JK Rowling",
                                    "RATING": "5"
                                },
                                {
                                    "TITLE": "Harry Potter, And the Order of Phoinix",
                                    "BOOK_ID": "harry-potter-6",
                                    "AUTHOR": "JK Rowling",
                                    "RATING": "5"
                                },
                                {
                                    "TITLE": "Harry Potter, And the Order of Phoinix",
                                    "BOOK_ID": "harry-potter-6",
                                    "AUTHOR": "JK Rowling",
                                    "RATING": "5"
                                },
                                {
                                    "TITLE": "Harry Potter, And the Order of Phoinix",
                                    "BOOK_ID": "harry-potter-3",
                                    "AUTHOR": "JK Rowling",
                                    "RATING": "4"
                                },
                                {
                                    "TITLE": "Harry Potter, And the Order of Phoinix",
                                    "BOOK_ID": "manas",
                                    "AUTHOR": "JK Rowling",
                                    "RATING": "5"
                                },
                                {
                                    "TITLE": "Harry Potter, And the Order of Phoinix",
                                    "BOOK_ID": "kurukshetra",
                                    "AUTHOR": "JK Rowling",
                                    "RATING": "4"
                                },
                                {
                                    "TITLE": "Harry Potter, And the Order of Phoinix",
                                    "BOOK_ID": "kurukshetra",
                                    "AUTHOR": "JK Rowling",
                                    "RATING": "4"
                                },
                                {
                                    "TITLE": "Harry Potter, And the Order of Phoinix",
                                    "BOOK_ID": "rashmirathi",
                                    "AUTHOR": "JK Rowling",
                                    "RATING": "5"
                                },
                                {
                                    "TITLE": "Harry Potter, And the Order of Phoinix",
                                    "BOOK_ID": "manas",
                                    "AUTHOR": "JK Rowling",
                                    "RATING": "5"
                                },
                                {
                                    "TITLE": "Harry Potter, And the Order of Phoinix",
                                    "BOOK_ID": "manas",
                                    "AUTHOR": "JK Rowling",
                                    "RATING": "4"
                                },
                                {
                                    "TITLE": "Harry Potter, And the Order of Phoinix",
                                    "BOOK_ID": "manas",
                                    "AUTHOR": "JK Rowling",
                                    "RATING": "4"
                                },
                                {
                                    "TITLE": "Harry Potter, And the Order of Phoinix",
                                    "BOOK_ID": "rashmirathi",
                                    "AUTHOR": "JK Rowling",
                                    "RATING": "5"
                                },
                                {
                                    "TITLE": "Harry Potter, And the Order of Phoinix",
                                    "BOOK_ID": "accursed-child",
                                    "AUTHOR": "JK Rowling",
                                    "RATING": "5"
                                },
                                {
                                    "TITLE": "Harry Potter, And the Order of Phoinix",
                                    "BOOK_ID": "accursed-child",
                                    "AUTHOR": "JK Rowling",
                                    "RATING": "2"
                                },
                                {
                                    "TITLE": "Harry Potter and the half blood prince",
                                    "BOOK_ID": "the-accursed-god",
                                    "AUTHOR": "JK Rowling",
                                    "RATING": "5"
                                },
                                {
                                    "TITLE": "Harry Potter and the half blood prince",
                                    "BOOK_ID": "rashmirathi",
                                    "AUTHOR": "JK Rowling",
                                    "RATING": "5"
                                },
                                {
                                    "TITLE": "Harry Potter and the half blood prince",
                                    "BOOK_ID": "kane-and-abel",
                                    "AUTHOR": "JK Rowling",
                                    "RATING": "4"
                                },
                                {
                                    "TITLE": "Harry Potter and the half blood prince",
                                    "BOOK_ID": "harry-potter-1",
                                    "AUTHOR": "JK Rowling",
                                    "RATING": "4"
                                },
                                {
                                    "TITLE": "Harry Potter and the half blood prince",
                                    "BOOK_ID": "rashmirathi",
                                    "AUTHOR": "JK Rowling",
                                    "RATING": "3"
                                },
                                {
                                    "TITLE": "Harry Potter and the half blood prince",
                                    "BOOK_ID": "the-accursed-god",
                                    "AUTHOR": "JK Rowling",
                                    "RATING": "4"
                                },
                                {
                                    "TITLE": "Harry Potter and the half blood prince",
                                    "BOOK_ID": "the-accursed-god",
                                    "AUTHOR": "JK Rowling",
                                    "RATING": "5"
                                },
                                {
                                    "TITLE": "Harry Potter and the half blood prince",
                                    "BOOK_ID": "rashmirathi",
                                    "AUTHOR": "JK Rowling",
                                    "RATING": "5"
                                },
                                {
                                    "TITLE": "Harry Potter and the half blood prince",
                                    "BOOK_ID": "the-accursed-god",
                                    "AUTHOR": "JK Rowling",
                                    "RATING": "4"
                                },
                                {
                                    "TITLE": "Harry Potter and the half blood prince",
                                    "BOOK_ID": "harry-potter-2",
                                    "AUTHOR": "JK Rowling",
                                    "RATING": "4"
                                },
                                {
                                    "TITLE": "Harry Potter and the half blood prince",
                                    "BOOK_ID": "harry-potter-3",
                                    "AUTHOR": "JK Rowling",
                                    "RATING": "4"
                                },
                                {
                                    "TITLE": "Harry Potter and the half blood prince",
                                    "BOOK_ID": "harry-potter-4",
                                    "AUTHOR": "JK Rowling",
                                    "RATING": "4"
                                },
                                {
                                    "TITLE": "Harry Potter and the half blood prince",
                                    "BOOK_ID": "the-accursed-god",
                                    "AUTHOR": "JK Rowling",
                                    "RATING": "4"
                                },
                                {
                                    "TITLE": "Harry Potter and the half blood prince",
                                    "BOOK_ID": "rashmirathi",
                                    "AUTHOR": "JK Rowling",
                                    "RATING": "5"
                                },
                                {
                                    "TITLE": "Harry Potter and the half blood prince",
                                    "BOOK_ID": "the-accursed-god",
                                    "AUTHOR": "JK Rowling",
                                    "RATING": "4"
                                },
                                {
                                    "TITLE": "Harry Potter and the half blood prince",
                                    "BOOK_ID": "harry-potter-1",
                                    "AUTHOR": "JK Rowling",
                                    "RATING": "4"
                                },
                                {
                                    "TITLE": "Harry Potter and the half blood prince",
                                    "BOOK_ID": "harry-potter-1",
                                    "AUTHOR": "JK Rowling",
                                    "RATING": "5"
                                },
                                {
                                    "TITLE": "Harry Potter and the half blood prince",
                                    "BOOK_ID": "harry-potter-1",
                                    "AUTHOR": "JK Rowling",
                                    "RATING": "5"
                                },
                                {
                                    "TITLE": "Harry Potter and the half blood prince",
                                    "BOOK_ID": "harry-potter-1",
                                    "AUTHOR": "JK Rowling",
                                    "RATING": "4"
                                },
                                {
                                    "TITLE": "Harry Potter and the half blood prince",
                                    "BOOK_ID": "harry-potter-1",
                                    "AUTHOR": "JK Rowling",
                                    "RATING": "3"
                                },
                                {
                                    "TITLE": "Harry Potter and the half blood prince",
                                    "BOOK_ID": "the-accursed-god",
                                    "AUTHOR": "JK Rowling",
                                    "RATING": "4"
                                },
                                {
                                    "TITLE": "Harry Potter and the half blood prince",
                                    "BOOK_ID": "harry-potter-1",
                                    "AUTHOR": "JK Rowling",
                                    "RATING": "4"
                                },
                                {
                                    "TITLE": "Harry Potter and the half blood prince",
                                    "BOOK_ID": "harry-potter-5",
                                    "AUTHOR": "JK Rowling",
                                    "RATING": "5"
                                },
                                {
                                    "TITLE": "Harry Potter and the half blood prince",
                                    "BOOK_ID": "harry-potter-6",
                                    "AUTHOR": "JK Rowling",
                                    "RATING": "5"
                                },
                                {
                                    "TITLE": "Harry Potter and the half blood prince",
                                    "BOOK_ID": "harry-potter-7",
                                    "AUTHOR": "JK Rowling",
                                    "RATING": "3"
                                },
                                {
                                    "TITLE": "Harry Potter and the half blood prince",
                                    "BOOK_ID": "harry-potter-8",
                                    "AUTHOR": "JK Rowling",
                                    "RATING": "3"
                                },
                                {
                                    "TITLE": "Harry Potter and the half blood prince",
                                    "BOOK_ID": "harry-potter-7",
                                    "AUTHOR": "JK Rowling",
                                    "RATING": "4"
                                },
                                {
                                    "TITLE": "Harry Potter and the half blood prince",
                                    "BOOK_ID": "harry-potter-7",
                                    "AUTHOR": "JK Rowling",
                                    "RATING": "5"
                                },
                                {
                                    "TITLE": "Harry Potter and the half blood prince",
                                    "BOOK_ID": "harry-potter-7",
                                    "AUTHOR": "JK Rowling",
                                    "RATING": "5"
                                },
                                {
                                    "TITLE": "Harry Potter and the half blood prince",
                                    "BOOK_ID": "harry-potter-6",
                                    "AUTHOR": "JK Rowling",
                                    "RATING": "5"
                                },
                                {
                                    "TITLE": "Harry Potter and the half blood prince",
                                    "BOOK_ID": "harry-potter-6",
                                    "AUTHOR": "JK Rowling",
                                    "RATING": "5"
                                },
                                {
                                    "TITLE": "Harry Potter and the half blood prince",
                                    "BOOK_ID": "harry-potter-3",
                                    "AUTHOR": "JK Rowling",
                                    "RATING": "4"
                                },
                                {
                                    "TITLE": "Harry Potter and the half blood prince",
                                    "BOOK_ID": "manas",
                                    "AUTHOR": "JK Rowling",
                                    "RATING": "5"
                                },
                                {
                                    "TITLE": "Harry Potter and the half blood prince",
                                    "BOOK_ID": "kurukshetra",
                                    "AUTHOR": "JK Rowling",
                                    "RATING": "4"
                                },
                                {
                                    "TITLE": "Harry Potter and the half blood prince",
                                    "BOOK_ID": "kurukshetra",
                                    "AUTHOR": "JK Rowling",
                                    "RATING": "4"
                                },
                                {
                                    "TITLE": "Harry Potter and the half blood prince",
                                    "BOOK_ID": "rashmirathi",
                                    "AUTHOR": "JK Rowling",
                                    "RATING": "5"
                                },
                                {
                                    "TITLE": "Harry Potter and the half blood prince",
                                    "BOOK_ID": "manas",
                                    "AUTHOR": "JK Rowling",
                                    "RATING": "5"
                                },
                                {
                                    "TITLE": "Harry Potter and the half blood prince",
                                    "BOOK_ID": "manas",
                                    "AUTHOR": "JK Rowling",
                                    "RATING": "4"
                                },
                                {
                                    "TITLE": "Harry Potter and the half blood prince",
                                    "BOOK_ID": "manas",
                                    "AUTHOR": "JK Rowling",
                                    "RATING": "4"
                                },
                                {
                                    "TITLE": "Harry Potter and the half blood prince",
                                    "BOOK_ID": "rashmirathi",
                                    "AUTHOR": "JK Rowling",
                                    "RATING": "5"
                                },
                                {
                                    "TITLE": "Harry Potter and the half blood prince",
                                    "BOOK_ID": "accursed-child",
                                    "AUTHOR": "JK Rowling",
                                    "RATING": "5"
                                },
                                {
                                    "TITLE": "Harry Potter and the half blood prince",
                                    "BOOK_ID": "accursed-child",
                                    "AUTHOR": "JK Rowling",
                                    "RATING": "2"
                                },
                                {
                                    "TITLE": "Harry Potter and the deathly hollows",
                                    "BOOK_ID": "the-accursed-god",
                                    "AUTHOR": "JK Rowling",
                                    "RATING": "5"
                                },
                                {
                                    "TITLE": "Harry Potter and the deathly hollows",
                                    "BOOK_ID": "rashmirathi",
                                    "AUTHOR": "JK Rowling",
                                    "RATING": "5"
                                },
                                {
                                    "TITLE": "Harry Potter and the deathly hollows",
                                    "BOOK_ID": "kane-and-abel",
                                    "AUTHOR": "JK Rowling",
                                    "RATING": "4"
                                },
                                {
                                    "TITLE": "Harry Potter and the deathly hollows",
                                    "BOOK_ID": "harry-potter-1",
                                    "AUTHOR": "JK Rowling",
                                    "RATING": "4"
                                },
                                {
                                    "TITLE": "Harry Potter and the deathly hollows",
                                    "BOOK_ID": "rashmirathi",
                                    "AUTHOR": "JK Rowling",
                                    "RATING": "3"
                                },
                                {
                                    "TITLE": "Harry Potter and the deathly hollows",
                                    "BOOK_ID": "the-accursed-god",
                                    "AUTHOR": "JK Rowling",
                                    "RATING": "4"
                                },
                                {
                                    "TITLE": "Harry Potter and the deathly hollows",
                                    "BOOK_ID": "the-accursed-god",
                                    "AUTHOR": "JK Rowling",
                                    "RATING": "5"
                                },
                                {
                                    "TITLE": "Harry Potter and the deathly hollows",
                                    "BOOK_ID": "rashmirathi",
                                    "AUTHOR": "JK Rowling",
                                    "RATING": "5"
                                },
                                {
                                    "TITLE": "Harry Potter and the deathly hollows",
                                    "BOOK_ID": "the-accursed-god",
                                    "AUTHOR": "JK Rowling",
                                    "RATING": "4"
                                },
                                {
                                    "TITLE": "Harry Potter and the deathly hollows",
                                    "BOOK_ID": "harry-potter-2",
                                    "AUTHOR": "JK Rowling",
                                    "RATING": "4"
                                },
                                {
                                    "TITLE": "Harry Potter and the deathly hollows",
                                    "BOOK_ID": "harry-potter-3",
                                    "AUTHOR": "JK Rowling",
                                    "RATING": "4"
                                },
                                {
                                    "TITLE": "Harry Potter and the deathly hollows",
                                    "BOOK_ID": "harry-potter-4",
                                    "AUTHOR": "JK Rowling",
                                    "RATING": "4"
                                },
                                {
                                    "TITLE": "Harry Potter and the deathly hollows",
                                    "BOOK_ID": "the-accursed-god",
                                    "AUTHOR": "JK Rowling",
                                    "RATING": "4"
                                },
                                {
                                    "TITLE": "Harry Potter and the deathly hollows",
                                    "BOOK_ID": "rashmirathi",
                                    "AUTHOR": "JK Rowling",
                                    "RATING": "5"
                                },
                                {
                                    "TITLE": "Harry Potter and the deathly hollows",
                                    "BOOK_ID": "the-accursed-god",
                                    "AUTHOR": "JK Rowling",
                                    "RATING": "4"
                                },
                                {
                                    "TITLE": "Harry Potter and the deathly hollows",
                                    "BOOK_ID": "harry-potter-1",
                                    "AUTHOR": "JK Rowling",
                                    "RATING": "4"
                                },
                                {
                                    "TITLE": "Harry Potter and the deathly hollows",
                                    "BOOK_ID": "harry-potter-1",
                                    "AUTHOR": "JK Rowling",
                                    "RATING": "5"
                                },
                                {
                                    "TITLE": "Harry Potter and the deathly hollows",
                                    "BOOK_ID": "harry-potter-1",
                                    "AUTHOR": "JK Rowling",
                                    "RATING": "5"
                                },
                                {
                                    "TITLE": "Harry Potter and the deathly hollows",
                                    "BOOK_ID": "harry-potter-1",
                                    "AUTHOR": "JK Rowling",
                                    "RATING": "4"
                                },
                                {
                                    "TITLE": "Harry Potter and the deathly hollows",
                                    "BOOK_ID": "harry-potter-1",
                                    "AUTHOR": "JK Rowling",
                                    "RATING": "3"
                                },
                                {
                                    "TITLE": "Harry Potter and the deathly hollows",
                                    "BOOK_ID": "the-accursed-god",
                                    "AUTHOR": "JK Rowling",
                                    "RATING": "4"
                                },
                                {
                                    "TITLE": "Harry Potter and the deathly hollows",
                                    "BOOK_ID": "harry-potter-1",
                                    "AUTHOR": "JK Rowling",
                                    "RATING": "4"
                                },
                                {
                                    "TITLE": "Harry Potter and the deathly hollows",
                                    "BOOK_ID": "harry-potter-5",
                                    "AUTHOR": "JK Rowling",
                                    "RATING": "5"
                                },
                                {
                                    "TITLE": "Harry Potter and the deathly hollows",
                                    "BOOK_ID": "harry-potter-6",
                                    "AUTHOR": "JK Rowling",
                                    "RATING": "5"
                                },
                                {
                                    "TITLE": "Harry Potter and the deathly hollows",
                                    "BOOK_ID": "harry-potter-7",
                                    "AUTHOR": "JK Rowling",
                                    "RATING": "3"
                                },
                                {
                                    "TITLE": "Harry Potter and the deathly hollows",
                                    "BOOK_ID": "harry-potter-8",
                                    "AUTHOR": "JK Rowling",
                                    "RATING": "3"
                                },
                                {
                                    "TITLE": "Harry Potter and the deathly hollows",
                                    "BOOK_ID": "harry-potter-7",
                                    "AUTHOR": "JK Rowling",
                                    "RATING": "4"
                                },
                                {
                                    "TITLE": "Harry Potter and the deathly hollows",
                                    "BOOK_ID": "harry-potter-7",
                                    "AUTHOR": "JK Rowling",
                                    "RATING": "5"
                                },
                                {
                                    "TITLE": "Harry Potter and the deathly hollows",
                                    "BOOK_ID": "harry-potter-7",
                                    "AUTHOR": "JK Rowling",
                                    "RATING": "5"
                                },
                                {
                                    "TITLE": "Harry Potter and the deathly hollows",
                                    "BOOK_ID": "harry-potter-6",
                                    "AUTHOR": "JK Rowling",
                                    "RATING": "5"
                                },
                                {
                                    "TITLE": "Harry Potter and the deathly hollows",
                                    "BOOK_ID": "harry-potter-6",
                                    "AUTHOR": "JK Rowling",
                                    "RATING": "5"
                                },
                                {
                                    "TITLE": "Harry Potter and the deathly hollows",
                                    "BOOK_ID": "harry-potter-3",
                                    "AUTHOR": "JK Rowling",
                                    "RATING": "4"
                                },
                                {
                                    "TITLE": "Harry Potter and the deathly hollows",
                                    "BOOK_ID": "manas",
                                    "AUTHOR": "JK Rowling",
                                    "RATING": "5"
                                },
                                {
                                    "TITLE": "Harry Potter and the deathly hollows",
                                    "BOOK_ID": "kurukshetra",
                                    "AUTHOR": "JK Rowling",
                                    "RATING": "4"
                                },
                                {
                                    "TITLE": "Harry Potter and the deathly hollows",
                                    "BOOK_ID": "kurukshetra",
                                    "AUTHOR": "JK Rowling",
                                    "RATING": "4"
                                },
                                {
                                    "TITLE": "Harry Potter and the deathly hollows",
                                    "BOOK_ID": "rashmirathi",
                                    "AUTHOR": "JK Rowling",
                                    "RATING": "5"
                                },
                                {
                                    "TITLE": "Harry Potter and the deathly hollows",
                                    "BOOK_ID": "manas",
                                    "AUTHOR": "JK Rowling",
                                    "RATING": "5"
                                },
                                {
                                    "TITLE": "Harry Potter and the deathly hollows",
                                    "BOOK_ID": "manas",
                                    "AUTHOR": "JK Rowling",
                                    "RATING": "4"
                                },
                                {
                                    "TITLE": "Harry Potter and the deathly hollows",
                                    "BOOK_ID": "manas",
                                    "AUTHOR": "JK Rowling",
                                    "RATING": "4"
                                },
                                {
                                    "TITLE": "Harry Potter and the deathly hollows",
                                    "BOOK_ID": "rashmirathi",
                                    "AUTHOR": "JK Rowling",
                                    "RATING": "5"
                                },
                                {
                                    "TITLE": "Harry Potter and the deathly hollows",
                                    "BOOK_ID": "accursed-child",
                                    "AUTHOR": "JK Rowling",
                                    "RATING": "5"
                                },
                                {
                                    "TITLE": "Harry Potter and the deathly hollows",
                                    "BOOK_ID": "accursed-child",
                                    "AUTHOR": "JK Rowling",
                                    "RATING": "2"
                                },
                                {
                                    "TITLE": "Kane and Abel",
                                    "BOOK_ID": "the-accursed-god",
                                    "AUTHOR": "Jeffrey Archer",
                                    "RATING": "5"
                                },
                                {
                                    "TITLE": "Kane and Abel",
                                    "BOOK_ID": "rashmirathi",
                                    "AUTHOR": "Jeffrey Archer",
                                    "RATING": "5"
                                },
                                {
                                    "TITLE": "Kane and Abel",
                                    "BOOK_ID": "kane-and-abel",
                                    "AUTHOR": "Jeffrey Archer",
                                    "RATING": "4"
                                },
                                {
                                    "TITLE": "Kane and Abel",
                                    "BOOK_ID": "harry-potter-1",
                                    "AUTHOR": "Jeffrey Archer",
                                    "RATING": "4"
                                },
                                {
                                    "TITLE": "Kane and Abel",
                                    "BOOK_ID": "rashmirathi",
                                    "AUTHOR": "Jeffrey Archer",
                                    "RATING": "3"
                                },
                                {
                                    "TITLE": "Kane and Abel",
                                    "BOOK_ID": "the-accursed-god",
                                    "AUTHOR": "Jeffrey Archer",
                                    "RATING": "4"
                                },
                                {
                                    "TITLE": "Kane and Abel",
                                    "BOOK_ID": "the-accursed-god",
                                    "AUTHOR": "Jeffrey Archer",
                                    "RATING": "5"
                                },
                                {
                                    "TITLE": "Kane and Abel",
                                    "BOOK_ID": "rashmirathi",
                                    "AUTHOR": "Jeffrey Archer",
                                    "RATING": "5"
                                },
                                {
                                    "TITLE": "Kane and Abel",
                                    "BOOK_ID": "the-accursed-god",
                                    "AUTHOR": "Jeffrey Archer",
                                    "RATING": "4"
                                },
                                {
                                    "TITLE": "Kane and Abel",
                                    "BOOK_ID": "harry-potter-2",
                                    "AUTHOR": "Jeffrey Archer",
                                    "RATING": "4"
                                },
                                {
                                    "TITLE": "Kane and Abel",
                                    "BOOK_ID": "harry-potter-3",
                                    "AUTHOR": "Jeffrey Archer",
                                    "RATING": "4"
                                },
                                {
                                    "TITLE": "Kane and Abel",
                                    "BOOK_ID": "harry-potter-4",
                                    "AUTHOR": "Jeffrey Archer",
                                    "RATING": "4"
                                },
                                {
                                    "TITLE": "Kane and Abel",
                                    "BOOK_ID": "the-accursed-god",
                                    "AUTHOR": "Jeffrey Archer",
                                    "RATING": "4"
                                },
                                {
                                    "TITLE": "Kane and Abel",
                                    "BOOK_ID": "rashmirathi",
                                    "AUTHOR": "Jeffrey Archer",
                                    "RATING": "5"
                                },
                                {
                                    "TITLE": "Kane and Abel",
                                    "BOOK_ID": "the-accursed-god",
                                    "AUTHOR": "Jeffrey Archer",
                                    "RATING": "4"
                                },
                                {
                                    "TITLE": "Kane and Abel",
                                    "BOOK_ID": "harry-potter-1",
                                    "AUTHOR": "Jeffrey Archer",
                                    "RATING": "4"
                                },
                                {
                                    "TITLE": "Kane and Abel",
                                    "BOOK_ID": "harry-potter-1",
                                    "AUTHOR": "Jeffrey Archer",
                                    "RATING": "5"
                                },
                                {
                                    "TITLE": "Kane and Abel",
                                    "BOOK_ID": "harry-potter-1",
                                    "AUTHOR": "Jeffrey Archer",
                                    "RATING": "5"
                                },
                                {
                                    "TITLE": "Kane and Abel",
                                    "BOOK_ID": "harry-potter-1",
                                    "AUTHOR": "Jeffrey Archer",
                                    "RATING": "4"
                                },
                                {
                                    "TITLE": "Kane and Abel",
                                    "BOOK_ID": "harry-potter-1",
                                    "AUTHOR": "Jeffrey Archer",
                                    "RATING": "3"
                                },
                                {
                                    "TITLE": "Kane and Abel",
                                    "BOOK_ID": "the-accursed-god",
                                    "AUTHOR": "Jeffrey Archer",
                                    "RATING": "4"
                                },
                                {
                                    "TITLE": "Kane and Abel",
                                    "BOOK_ID": "harry-potter-1",
                                    "AUTHOR": "Jeffrey Archer",
                                    "RATING": "4"
                                },
                                {
                                    "TITLE": "Kane and Abel",
                                    "BOOK_ID": "harry-potter-5",
                                    "AUTHOR": "Jeffrey Archer",
                                    "RATING": "5"
                                },
                                {
                                    "TITLE": "Kane and Abel",
                                    "BOOK_ID": "harry-potter-6",
                                    "AUTHOR": "Jeffrey Archer",
                                    "RATING": "5"
                                },
                                {
                                    "TITLE": "Kane and Abel",
                                    "BOOK_ID": "harry-potter-7",
                                    "AUTHOR": "Jeffrey Archer",
                                    "RATING": "3"
                                },
                                {
                                    "TITLE": "Kane and Abel",
                                    "BOOK_ID": "harry-potter-8",
                                    "AUTHOR": "Jeffrey Archer",
                                    "RATING": "3"
                                },
                                {
                                    "TITLE": "Kane and Abel",
                                    "BOOK_ID": "harry-potter-7",
                                    "AUTHOR": "Jeffrey Archer",
                                    "RATING": "4"
                                },
                                {
                                    "TITLE": "Kane and Abel",
                                    "BOOK_ID": "harry-potter-7",
                                    "AUTHOR": "Jeffrey Archer",
                                    "RATING": "5"
                                },
                                {
                                    "TITLE": "Kane and Abel",
                                    "BOOK_ID": "harry-potter-7",
                                    "AUTHOR": "Jeffrey Archer",
                                    "RATING": "5"
                                },
                                {
                                    "TITLE": "Kane and Abel",
                                    "BOOK_ID": "harry-potter-6",
                                    "AUTHOR": "Jeffrey Archer",
                                    "RATING": "5"
                                },
                                {
                                    "TITLE": "Kane and Abel",
                                    "BOOK_ID": "harry-potter-6",
                                    "AUTHOR": "Jeffrey Archer",
                                    "RATING": "5"
                                },
                                {
                                    "TITLE": "Kane and Abel",
                                    "BOOK_ID": "harry-potter-3",
                                    "AUTHOR": "Jeffrey Archer",
                                    "RATING": "4"
                                },
                                {
                                    "TITLE": "Kane and Abel",
                                    "BOOK_ID": "manas",
                                    "AUTHOR": "Jeffrey Archer",
                                    "RATING": "5"
                                },
                                {
                                    "TITLE": "Kane and Abel",
                                    "BOOK_ID": "kurukshetra",
                                    "AUTHOR": "Jeffrey Archer",
                                    "RATING": "4"
                                },
                                {
                                    "TITLE": "Kane and Abel",
                                    "BOOK_ID": "kurukshetra",
                                    "AUTHOR": "Jeffrey Archer",
                                    "RATING": "4"
                                },
                                {
                                    "TITLE": "Kane and Abel",
                                    "BOOK_ID": "rashmirathi",
                                    "AUTHOR": "Jeffrey Archer",
                                    "RATING": "5"
                                },
                                {
                                    "TITLE": "Kane and Abel",
                                    "BOOK_ID": "manas",
                                    "AUTHOR": "Jeffrey Archer",
                                    "RATING": "5"
                                },
                                {
                                    "TITLE": "Kane and Abel",
                                    "BOOK_ID": "manas",
                                    "AUTHOR": "Jeffrey Archer",
                                    "RATING": "4"
                                },
                                {
                                    "TITLE": "Kane and Abel",
                                    "BOOK_ID": "manas",
                                    "AUTHOR": "Jeffrey Archer",
                                    "RATING": "4"
                                },
                                {
                                    "TITLE": "Kane and Abel",
                                    "BOOK_ID": "rashmirathi",
                                    "AUTHOR": "Jeffrey Archer",
                                    "RATING": "5"
                                },
                                {
                                    "TITLE": "Kane and Abel",
                                    "BOOK_ID": "accursed-child",
                                    "AUTHOR": "Jeffrey Archer",
                                    "RATING": "5"
                                },
                                {
                                    "TITLE": "Kane and Abel",
                                    "BOOK_ID": "accursed-child",
                                    "AUTHOR": "Jeffrey Archer",
                                    "RATING": "2"
                                },
                                {
                                    "TITLE": "Kurukshetra",
                                    "BOOK_ID": "the-accursed-god",
                                    "AUTHOR": "Ramdhari Singh Dinkar",
                                    "RATING": "5"
                                },
                                {
                                    "TITLE": "Kurukshetra",
                                    "BOOK_ID": "rashmirathi",
                                    "AUTHOR": "Ramdhari Singh Dinkar",
                                    "RATING": "5"
                                },
                                {
                                    "TITLE": "Kurukshetra",
                                    "BOOK_ID": "kane-and-abel",
                                    "AUTHOR": "Ramdhari Singh Dinkar",
                                    "RATING": "4"
                                },
                                {
                                    "TITLE": "Kurukshetra",
                                    "BOOK_ID": "harry-potter-1",
                                    "AUTHOR": "Ramdhari Singh Dinkar",
                                    "RATING": "4"
                                },
                                {
                                    "TITLE": "Kurukshetra",
                                    "BOOK_ID": "rashmirathi",
                                    "AUTHOR": "Ramdhari Singh Dinkar",
                                    "RATING": "3"
                                },
                                {
                                    "TITLE": "Kurukshetra",
                                    "BOOK_ID": "the-accursed-god",
                                    "AUTHOR": "Ramdhari Singh Dinkar",
                                    "RATING": "4"
                                },
                                {
                                    "TITLE": "Kurukshetra",
                                    "BOOK_ID": "the-accursed-god",
                                    "AUTHOR": "Ramdhari Singh Dinkar",
                                    "RATING": "5"
                                },
                                {
                                    "TITLE": "Kurukshetra",
                                    "BOOK_ID": "rashmirathi",
                                    "AUTHOR": "Ramdhari Singh Dinkar",
                                    "RATING": "5"
                                },
                                {
                                    "TITLE": "Kurukshetra",
                                    "BOOK_ID": "the-accursed-god",
                                    "AUTHOR": "Ramdhari Singh Dinkar",
                                    "RATING": "4"
                                },
                                {
                                    "TITLE": "Kurukshetra",
                                    "BOOK_ID": "harry-potter-2",
                                    "AUTHOR": "Ramdhari Singh Dinkar",
                                    "RATING": "4"
                                },
                                {
                                    "TITLE": "Kurukshetra",
                                    "BOOK_ID": "harry-potter-3",
                                    "AUTHOR": "Ramdhari Singh Dinkar",
                                    "RATING": "4"
                                },
                                {
                                    "TITLE": "Kurukshetra",
                                    "BOOK_ID": "harry-potter-4",
                                    "AUTHOR": "Ramdhari Singh Dinkar",
                                    "RATING": "4"
                                },
                                {
                                    "TITLE": "Kurukshetra",
                                    "BOOK_ID": "the-accursed-god",
                                    "AUTHOR": "Ramdhari Singh Dinkar",
                                    "RATING": "4"
                                },
                                {
                                    "TITLE": "Kurukshetra",
                                    "BOOK_ID": "rashmirathi",
                                    "AUTHOR": "Ramdhari Singh Dinkar",
                                    "RATING": "5"
                                },
                                {
                                    "TITLE": "Kurukshetra",
                                    "BOOK_ID": "the-accursed-god",
                                    "AUTHOR": "Ramdhari Singh Dinkar",
                                    "RATING": "4"
                                },
                                {
                                    "TITLE": "Kurukshetra",
                                    "BOOK_ID": "harry-potter-1",
                                    "AUTHOR": "Ramdhari Singh Dinkar",
                                    "RATING": "4"
                                },
                                {
                                    "TITLE": "Kurukshetra",
                                    "BOOK_ID": "harry-potter-1",
                                    "AUTHOR": "Ramdhari Singh Dinkar",
                                    "RATING": "5"
                                },
                                {
                                    "TITLE": "Kurukshetra",
                                    "BOOK_ID": "harry-potter-1",
                                    "AUTHOR": "Ramdhari Singh Dinkar",
                                    "RATING": "5"
                                },
                                {
                                    "TITLE": "Kurukshetra",
                                    "BOOK_ID": "harry-potter-1",
                                    "AUTHOR": "Ramdhari Singh Dinkar",
                                    "RATING": "4"
                                },
                                {
                                    "TITLE": "Kurukshetra",
                                    "BOOK_ID": "harry-potter-1",
                                    "AUTHOR": "Ramdhari Singh Dinkar",
                                    "RATING": "3"
                                },
                                {
                                    "TITLE": "Kurukshetra",
                                    "BOOK_ID": "the-accursed-god",
                                    "AUTHOR": "Ramdhari Singh Dinkar",
                                    "RATING": "4"
                                },
                                {
                                    "TITLE": "Kurukshetra",
                                    "BOOK_ID": "harry-potter-1",
                                    "AUTHOR": "Ramdhari Singh Dinkar",
                                    "RATING": "4"
                                },
                                {
                                    "TITLE": "Kurukshetra",
                                    "BOOK_ID": "harry-potter-5",
                                    "AUTHOR": "Ramdhari Singh Dinkar",
                                    "RATING": "5"
                                },
                                {
                                    "TITLE": "Kurukshetra",
                                    "BOOK_ID": "harry-potter-6",
                                    "AUTHOR": "Ramdhari Singh Dinkar",
                                    "RATING": "5"
                                },
                                {
                                    "TITLE": "Kurukshetra",
                                    "BOOK_ID": "harry-potter-7",
                                    "AUTHOR": "Ramdhari Singh Dinkar",
                                    "RATING": "3"
                                },
                                {
                                    "TITLE": "Kurukshetra",
                                    "BOOK_ID": "harry-potter-8",
                                    "AUTHOR": "Ramdhari Singh Dinkar",
                                    "RATING": "3"
                                },
                                {
                                    "TITLE": "Kurukshetra",
                                    "BOOK_ID": "harry-potter-7",
                                    "AUTHOR": "Ramdhari Singh Dinkar",
                                    "RATING": "4"
                                },
                                {
                                    "TITLE": "Kurukshetra",
                                    "BOOK_ID": "harry-potter-7",
                                    "AUTHOR": "Ramdhari Singh Dinkar",
                                    "RATING": "5"
                                },
                                {
                                    "TITLE": "Kurukshetra",
                                    "BOOK_ID": "harry-potter-7",
                                    "AUTHOR": "Ramdhari Singh Dinkar",
                                    "RATING": "5"
                                },
                                {
                                    "TITLE": "Kurukshetra",
                                    "BOOK_ID": "harry-potter-6",
                                    "AUTHOR": "Ramdhari Singh Dinkar",
                                    "RATING": "5"
                                },
                                {
                                    "TITLE": "Kurukshetra",
                                    "BOOK_ID": "harry-potter-6",
                                    "AUTHOR": "Ramdhari Singh Dinkar",
                                    "RATING": "5"
                                },
                                {
                                    "TITLE": "Kurukshetra",
                                    "BOOK_ID": "harry-potter-3",
                                    "AUTHOR": "Ramdhari Singh Dinkar",
                                    "RATING": "4"
                                },
                                {
                                    "TITLE": "Kurukshetra",
                                    "BOOK_ID": "manas",
                                    "AUTHOR": "Ramdhari Singh Dinkar",
                                    "RATING": "5"
                                },
                                {
                                    "TITLE": "Kurukshetra",
                                    "BOOK_ID": "kurukshetra",
                                    "AUTHOR": "Ramdhari Singh Dinkar",
                                    "RATING": "4"
                                },
                                {
                                    "TITLE": "Kurukshetra",
                                    "BOOK_ID": "kurukshetra",
                                    "AUTHOR": "Ramdhari Singh Dinkar",
                                    "RATING": "4"
                                },
                                {
                                    "TITLE": "Kurukshetra",
                                    "BOOK_ID": "rashmirathi",
                                    "AUTHOR": "Ramdhari Singh Dinkar",
                                    "RATING": "5"
                                },
                                {
                                    "TITLE": "Kurukshetra",
                                    "BOOK_ID": "manas",
                                    "AUTHOR": "Ramdhari Singh Dinkar",
                                    "RATING": "5"
                                },
                                {
                                    "TITLE": "Kurukshetra",
                                    "BOOK_ID": "manas",
                                    "AUTHOR": "Ramdhari Singh Dinkar",
                                    "RATING": "4"
                                },
                                {
                                    "TITLE": "Kurukshetra",
                                    "BOOK_ID": "manas",
                                    "AUTHOR": "Ramdhari Singh Dinkar",
                                    "RATING": "4"
                                },
                                {
                                    "TITLE": "Kurukshetra",
                                    "BOOK_ID": "rashmirathi",
                                    "AUTHOR": "Ramdhari Singh Dinkar",
                                    "RATING": "5"
                                },
                                {
                                    "TITLE": "Kurukshetra",
                                    "BOOK_ID": "accursed-child",
                                    "AUTHOR": "Ramdhari Singh Dinkar",
                                    "RATING": "5"
                                },
                                {
                                    "TITLE": "Kurukshetra",
                                    "BOOK_ID": "accursed-child",
                                    "AUTHOR": "Ramdhari Singh Dinkar",
                                    "RATING": "2"
                                },
                                {
                                    "TITLE": "Manas",
                                    "BOOK_ID": "the-accursed-god",
                                    "AUTHOR": "Vivek Dutta Mishra",
                                    "RATING": "5"
                                },
                                {
                                    "TITLE": "Manas",
                                    "BOOK_ID": "rashmirathi",
                                    "AUTHOR": "Vivek Dutta Mishra",
                                    "RATING": "5"
                                },
                                {
                                    "TITLE": "Manas",
                                    "BOOK_ID": "kane-and-abel",
                                    "AUTHOR": "Vivek Dutta Mishra",
                                    "RATING": "4"
                                },
                                {
                                    "TITLE": "Manas",
                                    "BOOK_ID": "harry-potter-1",
                                    "AUTHOR": "Vivek Dutta Mishra",
                                    "RATING": "4"
                                },
                                {
                                    "TITLE": "Manas",
                                    "BOOK_ID": "rashmirathi",
                                    "AUTHOR": "Vivek Dutta Mishra",
                                    "RATING": "3"
                                },
                                {
                                    "TITLE": "Manas",
                                    "BOOK_ID": "the-accursed-god",
                                    "AUTHOR": "Vivek Dutta Mishra",
                                    "RATING": "4"
                                },
                                {
                                    "TITLE": "Manas",
                                    "BOOK_ID": "the-accursed-god",
                                    "AUTHOR": "Vivek Dutta Mishra",
                                    "RATING": "5"
                                },
                                {
                                    "TITLE": "Manas",
                                    "BOOK_ID": "rashmirathi",
                                    "AUTHOR": "Vivek Dutta Mishra",
                                    "RATING": "5"
                                },
                                {
                                    "TITLE": "Manas",
                                    "BOOK_ID": "the-accursed-god",
                                    "AUTHOR": "Vivek Dutta Mishra",
                                    "RATING": "4"
                                },
                                {
                                    "TITLE": "Manas",
                                    "BOOK_ID": "harry-potter-2",
                                    "AUTHOR": "Vivek Dutta Mishra",
                                    "RATING": "4"
                                },
                                {
                                    "TITLE": "Manas",
                                    "BOOK_ID": "harry-potter-3",
                                    "AUTHOR": "Vivek Dutta Mishra",
                                    "RATING": "4"
                                },
                                {
                                    "TITLE": "Manas",
                                    "BOOK_ID": "harry-potter-4",
                                    "AUTHOR": "Vivek Dutta Mishra",
                                    "RATING": "4"
                                },
                                {
                                    "TITLE": "Manas",
                                    "BOOK_ID": "the-accursed-god",
                                    "AUTHOR": "Vivek Dutta Mishra",
                                    "RATING": "4"
                                },
                                {
                                    "TITLE": "Manas",
                                    "BOOK_ID": "rashmirathi",
                                    "AUTHOR": "Vivek Dutta Mishra",
                                    "RATING": "5"
                                },
                                {
                                    "TITLE": "Manas",
                                    "BOOK_ID": "the-accursed-god",
                                    "AUTHOR": "Vivek Dutta Mishra",
                                    "RATING": "4"
                                },
                                {
                                    "TITLE": "Manas",
                                    "BOOK_ID": "harry-potter-1",
                                    "AUTHOR": "Vivek Dutta Mishra",
                                    "RATING": "4"
                                },
                                {
                                    "TITLE": "Manas",
                                    "BOOK_ID": "harry-potter-1",
                                    "AUTHOR": "Vivek Dutta Mishra",
                                    "RATING": "5"
                                },
                                {
                                    "TITLE": "Manas",
                                    "BOOK_ID": "harry-potter-1",
                                    "AUTHOR": "Vivek Dutta Mishra",
                                    "RATING": "5"
                                },
                                {
                                    "TITLE": "Manas",
                                    "BOOK_ID": "harry-potter-1",
                                    "AUTHOR": "Vivek Dutta Mishra",
                                    "RATING": "4"
                                },
                                {
                                    "TITLE": "Manas",
                                    "BOOK_ID": "harry-potter-1",
                                    "AUTHOR": "Vivek Dutta Mishra",
                                    "RATING": "3"
                                },
                                {
                                    "TITLE": "Manas",
                                    "BOOK_ID": "the-accursed-god",
                                    "AUTHOR": "Vivek Dutta Mishra",
                                    "RATING": "4"
                                },
                                {
                                    "TITLE": "Manas",
                                    "BOOK_ID": "harry-potter-1",
                                    "AUTHOR": "Vivek Dutta Mishra",
                                    "RATING": "4"
                                },
                                {
                                    "TITLE": "Manas",
                                    "BOOK_ID": "harry-potter-5",
                                    "AUTHOR": "Vivek Dutta Mishra",
                                    "RATING": "5"
                                },
                                {
                                    "TITLE": "Manas",
                                    "BOOK_ID": "harry-potter-6",
                                    "AUTHOR": "Vivek Dutta Mishra",
                                    "RATING": "5"
                                },
                                {
                                    "TITLE": "Manas",
                                    "BOOK_ID": "harry-potter-7",
                                    "AUTHOR": "Vivek Dutta Mishra",
                                    "RATING": "3"
                                },
                                {
                                    "TITLE": "Manas",
                                    "BOOK_ID": "harry-potter-8",
                                    "AUTHOR": "Vivek Dutta Mishra",
                                    "RATING": "3"
                                },
                                {
                                    "TITLE": "Manas",
                                    "BOOK_ID": "harry-potter-7",
                                    "AUTHOR": "Vivek Dutta Mishra",
                                    "RATING": "4"
                                },
                                {
                                    "TITLE": "Manas",
                                    "BOOK_ID": "harry-potter-7",
                                    "AUTHOR": "Vivek Dutta Mishra",
                                    "RATING": "5"
                                },
                                {
                                    "TITLE": "Manas",
                                    "BOOK_ID": "harry-potter-7",
                                    "AUTHOR": "Vivek Dutta Mishra",
                                    "RATING": "5"
                                },
                                {
                                    "TITLE": "Manas",
                                    "BOOK_ID": "harry-potter-6",
                                    "AUTHOR": "Vivek Dutta Mishra",
                                    "RATING": "5"
                                },
                                {
                                    "TITLE": "Manas",
                                    "BOOK_ID": "harry-potter-6",
                                    "AUTHOR": "Vivek Dutta Mishra",
                                    "RATING": "5"
                                },
                                {
                                    "TITLE": "Manas",
                                    "BOOK_ID": "harry-potter-3",
                                    "AUTHOR": "Vivek Dutta Mishra",
                                    "RATING": "4"
                                },
                                {
                                    "TITLE": "Manas",
                                    "BOOK_ID": "manas",
                                    "AUTHOR": "Vivek Dutta Mishra",
                                    "RATING": "5"
                                },
                                {
                                    "TITLE": "Manas",
                                    "BOOK_ID": "kurukshetra",
                                    "AUTHOR": "Vivek Dutta Mishra",
                                    "RATING": "4"
                                },
                                {
                                    "TITLE": "Manas",
                                    "BOOK_ID": "kurukshetra",
                                    "AUTHOR": "Vivek Dutta Mishra",
                                    "RATING": "4"
                                },
                                {
                                    "TITLE": "Manas",
                                    "BOOK_ID": "rashmirathi",
                                    "AUTHOR": "Vivek Dutta Mishra",
                                    "RATING": "5"
                                },
                                {
                                    "TITLE": "Manas",
                                    "BOOK_ID": "manas",
                                    "AUTHOR": "Vivek Dutta Mishra",
                                    "RATING": "5"
                                },
                                {
                                    "TITLE": "Manas",
                                    "BOOK_ID": "manas",
                                    "AUTHOR": "Vivek Dutta Mishra",
                                    "RATING": "4"
                                },
                                {
                                    "TITLE": "Manas",
                                    "BOOK_ID": "manas",
                                    "AUTHOR": "Vivek Dutta Mishra",
                                    "RATING": "4"
                                },
                                {
                                    "TITLE": "Manas",
                                    "BOOK_ID": "rashmirathi",
                                    "AUTHOR": "Vivek Dutta Mishra",
                                    "RATING": "5"
                                },
                                {
                                    "TITLE": "Manas",
                                    "BOOK_ID": "accursed-child",
                                    "AUTHOR": "Vivek Dutta Mishra",
                                    "RATING": "5"
                                },
                                {
                                    "TITLE": "Manas",
                                    "BOOK_ID": "accursed-child",
                                    "AUTHOR": "Vivek Dutta Mishra",
                                    "RATING": "2"
                                },
                                {
                                    "TITLE": "Rashmirathi",
                                    "BOOK_ID": "the-accursed-god",
                                    "AUTHOR": "Ramdhari Singh Dinkar",
                                    "RATING": "5"
                                },
                                {
                                    "TITLE": "Rashmirathi",
                                    "BOOK_ID": "rashmirathi",
                                    "AUTHOR": "Ramdhari Singh Dinkar",
                                    "RATING": "5"
                                },
                                {
                                    "TITLE": "Rashmirathi",
                                    "BOOK_ID": "kane-and-abel",
                                    "AUTHOR": "Ramdhari Singh Dinkar",
                                    "RATING": "4"
                                },
                                {
                                    "TITLE": "Rashmirathi",
                                    "BOOK_ID": "harry-potter-1",
                                    "AUTHOR": "Ramdhari Singh Dinkar",
                                    "RATING": "4"
                                },
                                {
                                    "TITLE": "Rashmirathi",
                                    "BOOK_ID": "rashmirathi",
                                    "AUTHOR": "Ramdhari Singh Dinkar",
                                    "RATING": "3"
                                },
                                {
                                    "TITLE": "Rashmirathi",
                                    "BOOK_ID": "the-accursed-god",
                                    "AUTHOR": "Ramdhari Singh Dinkar",
                                    "RATING": "4"
                                },
                                {
                                    "TITLE": "Rashmirathi",
                                    "BOOK_ID": "the-accursed-god",
                                    "AUTHOR": "Ramdhari Singh Dinkar",
                                    "RATING": "5"
                                },
                                {
                                    "TITLE": "Rashmirathi",
                                    "BOOK_ID": "rashmirathi",
                                    "AUTHOR": "Ramdhari Singh Dinkar",
                                    "RATING": "5"
                                },
                                {
                                    "TITLE": "Rashmirathi",
                                    "BOOK_ID": "the-accursed-god",
                                    "AUTHOR": "Ramdhari Singh Dinkar",
                                    "RATING": "4"
                                },
                                {
                                    "TITLE": "Rashmirathi",
                                    "BOOK_ID": "harry-potter-2",
                                    "AUTHOR": "Ramdhari Singh Dinkar",
                                    "RATING": "4"
                                },
                                {
                                    "TITLE": "Rashmirathi",
                                    "BOOK_ID": "harry-potter-3",
                                    "AUTHOR": "Ramdhari Singh Dinkar",
                                    "RATING": "4"
                                },
                                {
                                    "TITLE": "Rashmirathi",
                                    "BOOK_ID": "harry-potter-4",
                                    "AUTHOR": "Ramdhari Singh Dinkar",
                                    "RATING": "4"
                                },
                                {
                                    "TITLE": "Rashmirathi",
                                    "BOOK_ID": "the-accursed-god",
                                    "AUTHOR": "Ramdhari Singh Dinkar",
                                    "RATING": "4"
                                },
                                {
                                    "TITLE": "Rashmirathi",
                                    "BOOK_ID": "rashmirathi",
                                    "AUTHOR": "Ramdhari Singh Dinkar",
                                    "RATING": "5"
                                },
                                {
                                    "TITLE": "Rashmirathi",
                                    "BOOK_ID": "the-accursed-god",
                                    "AUTHOR": "Ramdhari Singh Dinkar",
                                    "RATING": "4"
                                },
                                {
                                    "TITLE": "Rashmirathi",
                                    "BOOK_ID": "harry-potter-1",
                                    "AUTHOR": "Ramdhari Singh Dinkar",
                                    "RATING": "4"
                                },
                                {
                                    "TITLE": "Rashmirathi",
                                    "BOOK_ID": "harry-potter-1",
                                    "AUTHOR": "Ramdhari Singh Dinkar",
                                    "RATING": "5"
                                },
                                {
                                    "TITLE": "Rashmirathi",
                                    "BOOK_ID": "harry-potter-1",
                                    "AUTHOR": "Ramdhari Singh Dinkar",
                                    "RATING": "5"
                                },
                                {
                                    "TITLE": "Rashmirathi",
                                    "BOOK_ID": "harry-potter-1",
                                    "AUTHOR": "Ramdhari Singh Dinkar",
                                    "RATING": "4"
                                },
                                {
                                    "TITLE": "Rashmirathi",
                                    "BOOK_ID": "harry-potter-1",
                                    "AUTHOR": "Ramdhari Singh Dinkar",
                                    "RATING": "3"
                                },
                                {
                                    "TITLE": "Rashmirathi",
                                    "BOOK_ID": "the-accursed-god",
                                    "AUTHOR": "Ramdhari Singh Dinkar",
                                    "RATING": "4"
                                },
                                {
                                    "TITLE": "Rashmirathi",
                                    "BOOK_ID": "harry-potter-1",
                                    "AUTHOR": "Ramdhari Singh Dinkar",
                                    "RATING": "4"
                                },
                                {
                                    "TITLE": "Rashmirathi",
                                    "BOOK_ID": "harry-potter-5",
                                    "AUTHOR": "Ramdhari Singh Dinkar",
                                    "RATING": "5"
                                },
                                {
                                    "TITLE": "Rashmirathi",
                                    "BOOK_ID": "harry-potter-6",
                                    "AUTHOR": "Ramdhari Singh Dinkar",
                                    "RATING": "5"
                                },
                                {
                                    "TITLE": "Rashmirathi",
                                    "BOOK_ID": "harry-potter-7",
                                    "AUTHOR": "Ramdhari Singh Dinkar",
                                    "RATING": "3"
                                },
                                {
                                    "TITLE": "Rashmirathi",
                                    "BOOK_ID": "harry-potter-8",
                                    "AUTHOR": "Ramdhari Singh Dinkar",
                                    "RATING": "3"
                                },
                                {
                                    "TITLE": "Rashmirathi",
                                    "BOOK_ID": "harry-potter-7",
                                    "AUTHOR": "Ramdhari Singh Dinkar",
                                    "RATING": "4"
                                },
                                {
                                    "TITLE": "Rashmirathi",
                                    "BOOK_ID": "harry-potter-7",
                                    "AUTHOR": "Ramdhari Singh Dinkar",
                                    "RATING": "5"
                                },
                                {
                                    "TITLE": "Rashmirathi",
                                    "BOOK_ID": "harry-potter-7",
                                    "AUTHOR": "Ramdhari Singh Dinkar",
                                    "RATING": "5"
                                },
                                {
                                    "TITLE": "Rashmirathi",
                                    "BOOK_ID": "harry-potter-6",
                                    "AUTHOR": "Ramdhari Singh Dinkar",
                                    "RATING": "5"
                                },
                                {
                                    "TITLE": "Rashmirathi",
                                    "BOOK_ID": "harry-potter-6",
                                    "AUTHOR": "Ramdhari Singh Dinkar",
                                    "RATING": "5"
                                },
                                {
                                    "TITLE": "Rashmirathi",
                                    "BOOK_ID": "harry-potter-3",
                                    "AUTHOR": "Ramdhari Singh Dinkar",
                                    "RATING": "4"
                                },
                                {
                                    "TITLE": "Rashmirathi",
                                    "BOOK_ID": "manas",
                                    "AUTHOR": "Ramdhari Singh Dinkar",
                                    "RATING": "5"
                                },
                                {
                                    "TITLE": "Rashmirathi",
                                    "BOOK_ID": "kurukshetra",
                                    "AUTHOR": "Ramdhari Singh Dinkar",
                                    "RATING": "4"
                                },
                                {
                                    "TITLE": "Rashmirathi",
                                    "BOOK_ID": "kurukshetra",
                                    "AUTHOR": "Ramdhari Singh Dinkar",
                                    "RATING": "4"
                                },
                                {
                                    "TITLE": "Rashmirathi",
                                    "BOOK_ID": "rashmirathi",
                                    "AUTHOR": "Ramdhari Singh Dinkar",
                                    "RATING": "5"
                                },
                                {
                                    "TITLE": "Rashmirathi",
                                    "BOOK_ID": "manas",
                                    "AUTHOR": "Ramdhari Singh Dinkar",
                                    "RATING": "5"
                                },
                                {
                                    "TITLE": "Rashmirathi",
                                    "BOOK_ID": "manas",
                                    "AUTHOR": "Ramdhari Singh Dinkar",
                                    "RATING": "4"
                                },
                                {
                                    "TITLE": "Rashmirathi",
                                    "BOOK_ID": "manas",
                                    "AUTHOR": "Ramdhari Singh Dinkar",
                                    "RATING": "4"
                                },
                                {
                                    "TITLE": "Rashmirathi",
                                    "BOOK_ID": "rashmirathi",
                                    "AUTHOR": "Ramdhari Singh Dinkar",
                                    "RATING": "5"
                                },
                                {
                                    "TITLE": "Rashmirathi",
                                    "BOOK_ID": "accursed-child",
                                    "AUTHOR": "Ramdhari Singh Dinkar",
                                    "RATING": "5"
                                },
                                {
                                    "TITLE": "Rashmirathi",
                                    "BOOK_ID": "accursed-child",
                                    "AUTHOR": "Ramdhari Singh Dinkar",
                                    "RATING": "2"
                                },
                                {
                                    "TITLE": "Summons",
                                    "BOOK_ID": "the-accursed-god",
                                    "AUTHOR": "John Grisham",
                                    "RATING": "5"
                                },
                                {
                                    "TITLE": "Summons",
                                    "BOOK_ID": "rashmirathi",
                                    "AUTHOR": "John Grisham",
                                    "RATING": "5"
                                },
                                {
                                    "TITLE": "Summons",
                                    "BOOK_ID": "kane-and-abel",
                                    "AUTHOR": "John Grisham",
                                    "RATING": "4"
                                },
                                {
                                    "TITLE": "Summons",
                                    "BOOK_ID": "harry-potter-1",
                                    "AUTHOR": "John Grisham",
                                    "RATING": "4"
                                },
                                {
                                    "TITLE": "Summons",
                                    "BOOK_ID": "rashmirathi",
                                    "AUTHOR": "John Grisham",
                                    "RATING": "3"
                                },
                                {
                                    "TITLE": "Summons",
                                    "BOOK_ID": "the-accursed-god",
                                    "AUTHOR": "John Grisham",
                                    "RATING": "4"
                                },
                                {
                                    "TITLE": "Summons",
                                    "BOOK_ID": "the-accursed-god",
                                    "AUTHOR": "John Grisham",
                                    "RATING": "5"
                                },
                                {
                                    "TITLE": "Summons",
                                    "BOOK_ID": "rashmirathi",
                                    "AUTHOR": "John Grisham",
                                    "RATING": "5"
                                },
                                {
                                    "TITLE": "Summons",
                                    "BOOK_ID": "the-accursed-god",
                                    "AUTHOR": "John Grisham",
                                    "RATING": "4"
                                },
                                {
                                    "TITLE": "Summons",
                                    "BOOK_ID": "harry-potter-2",
                                    "AUTHOR": "John Grisham",
                                    "RATING": "4"
                                },
                                {
                                    "TITLE": "Summons",
                                    "BOOK_ID": "harry-potter-3",
                                    "AUTHOR": "John Grisham",
                                    "RATING": "4"
                                },
                                {
                                    "TITLE": "Summons",
                                    "BOOK_ID": "harry-potter-4",
                                    "AUTHOR": "John Grisham",
                                    "RATING": "4"
                                },
                                {
                                    "TITLE": "Summons",
                                    "BOOK_ID": "the-accursed-god",
                                    "AUTHOR": "John Grisham",
                                    "RATING": "4"
                                },
                                {
                                    "TITLE": "Summons",
                                    "BOOK_ID": "rashmirathi",
                                    "AUTHOR": "John Grisham",
                                    "RATING": "5"
                                },
                                {
                                    "TITLE": "Summons",
                                    "BOOK_ID": "the-accursed-god",
                                    "AUTHOR": "John Grisham",
                                    "RATING": "4"
                                },
                                {
                                    "TITLE": "Summons",
                                    "BOOK_ID": "harry-potter-1",
                                    "AUTHOR": "John Grisham",
                                    "RATING": "4"
                                },
                                {
                                    "TITLE": "Summons",
                                    "BOOK_ID": "harry-potter-1",
                                    "AUTHOR": "John Grisham",
                                    "RATING": "5"
                                },
                                {
                                    "TITLE": "Summons",
                                    "BOOK_ID": "harry-potter-1",
                                    "AUTHOR": "John Grisham",
                                    "RATING": "5"
                                },
                                {
                                    "TITLE": "Summons",
                                    "BOOK_ID": "harry-potter-1",
                                    "AUTHOR": "John Grisham",
                                    "RATING": "4"
                                },
                                {
                                    "TITLE": "Summons",
                                    "BOOK_ID": "harry-potter-1",
                                    "AUTHOR": "John Grisham",
                                    "RATING": "3"
                                },
                                {
                                    "TITLE": "Summons",
                                    "BOOK_ID": "the-accursed-god",
                                    "AUTHOR": "John Grisham",
                                    "RATING": "4"
                                },
                                {
                                    "TITLE": "Summons",
                                    "BOOK_ID": "harry-potter-1",
                                    "AUTHOR": "John Grisham",
                                    "RATING": "4"
                                },
                                {
                                    "TITLE": "Summons",
                                    "BOOK_ID": "harry-potter-5",
                                    "AUTHOR": "John Grisham",
                                    "RATING": "5"
                                },
                                {
                                    "TITLE": "Summons",
                                    "BOOK_ID": "harry-potter-6",
                                    "AUTHOR": "John Grisham",
                                    "RATING": "5"
                                },
                                {
                                    "TITLE": "Summons",
                                    "BOOK_ID": "harry-potter-7",
                                    "AUTHOR": "John Grisham",
                                    "RATING": "3"
                                },
                                {
                                    "TITLE": "Summons",
                                    "BOOK_ID": "harry-potter-8",
                                    "AUTHOR": "John Grisham",
                                    "RATING": "3"
                                },
                                {
                                    "TITLE": "Summons",
                                    "BOOK_ID": "harry-potter-7",
                                    "AUTHOR": "John Grisham",
                                    "RATING": "4"
                                },
                                {
                                    "TITLE": "Summons",
                                    "BOOK_ID": "harry-potter-7",
                                    "AUTHOR": "John Grisham",
                                    "RATING": "5"
                                },
                                {
                                    "TITLE": "Summons",
                                    "BOOK_ID": "harry-potter-7",
                                    "AUTHOR": "John Grisham",
                                    "RATING": "5"
                                },
                                {
                                    "TITLE": "Summons",
                                    "BOOK_ID": "harry-potter-6",
                                    "AUTHOR": "John Grisham",
                                    "RATING": "5"
                                },
                                {
                                    "TITLE": "Summons",
                                    "BOOK_ID": "harry-potter-6",
                                    "AUTHOR": "John Grisham",
                                    "RATING": "5"
                                },
                                {
                                    "TITLE": "Summons",
                                    "BOOK_ID": "harry-potter-3",
                                    "AUTHOR": "John Grisham",
                                    "RATING": "4"
                                },
                                {
                                    "TITLE": "Summons",
                                    "BOOK_ID": "manas",
                                    "AUTHOR": "John Grisham",
                                    "RATING": "5"
                                },
                                {
                                    "TITLE": "Summons",
                                    "BOOK_ID": "kurukshetra",
                                    "AUTHOR": "John Grisham",
                                    "RATING": "4"
                                },
                                {
                                    "TITLE": "Summons",
                                    "BOOK_ID": "kurukshetra",
                                    "AUTHOR": "John Grisham",
                                    "RATING": "4"
                                },
                                {
                                    "TITLE": "Summons",
                                    "BOOK_ID": "rashmirathi",
                                    "AUTHOR": "John Grisham",
                                    "RATING": "5"
                                },
                                {
                                    "TITLE": "Summons",
                                    "BOOK_ID": "manas",
                                    "AUTHOR": "John Grisham",
                                    "RATING": "5"
                                },
                                {
                                    "TITLE": "Summons",
                                    "BOOK_ID": "manas",
                                    "AUTHOR": "John Grisham",
                                    "RATING": "4"
                                },
                                {
                                    "TITLE": "Summons",
                                    "BOOK_ID": "manas",
                                    "AUTHOR": "John Grisham",
                                    "RATING": "4"
                                },
                                {
                                    "TITLE": "Summons",
                                    "BOOK_ID": "rashmirathi",
                                    "AUTHOR": "John Grisham",
                                    "RATING": "5"
                                },
                                {
                                    "TITLE": "Summons",
                                    "BOOK_ID": "accursed-child",
                                    "AUTHOR": "John Grisham",
                                    "RATING": "5"
                                },
                                {
                                    "TITLE": "Summons",
                                    "BOOK_ID": "accursed-child",
                                    "AUTHOR": "John Grisham",
                                    "RATING": "2"
                                },
                                {
                                    "TITLE": "The Accursed God",
                                    "BOOK_ID": "the-accursed-god",
                                    "AUTHOR": "Vivek Dutta Mishra",
                                    "RATING": "5"
                                },
                                {
                                    "TITLE": "The Accursed God",
                                    "BOOK_ID": "rashmirathi",
                                    "AUTHOR": "Vivek Dutta Mishra",
                                    "RATING": "5"
                                },
                                {
                                    "TITLE": "The Accursed God",
                                    "BOOK_ID": "kane-and-abel",
                                    "AUTHOR": "Vivek Dutta Mishra",
                                    "RATING": "4"
                                },
                                {
                                    "TITLE": "The Accursed God",
                                    "BOOK_ID": "harry-potter-1",
                                    "AUTHOR": "Vivek Dutta Mishra",
                                    "RATING": "4"
                                },
                                {
                                    "TITLE": "The Accursed God",
                                    "BOOK_ID": "rashmirathi",
                                    "AUTHOR": "Vivek Dutta Mishra",
                                    "RATING": "3"
                                },
                                {
                                    "TITLE": "The Accursed God",
                                    "BOOK_ID": "the-accursed-god",
                                    "AUTHOR": "Vivek Dutta Mishra",
                                    "RATING": "4"
                                },
                                {
                                    "TITLE": "The Accursed God",
                                    "BOOK_ID": "the-accursed-god",
                                    "AUTHOR": "Vivek Dutta Mishra",
                                    "RATING": "5"
                                },
                                {
                                    "TITLE": "The Accursed God",
                                    "BOOK_ID": "rashmirathi",
                                    "AUTHOR": "Vivek Dutta Mishra",
                                    "RATING": "5"
                                },
                                {
                                    "TITLE": "The Accursed God",
                                    "BOOK_ID": "the-accursed-god",
                                    "AUTHOR": "Vivek Dutta Mishra",
                                    "RATING": "4"
                                },
                                {
                                    "TITLE": "The Accursed God",
                                    "BOOK_ID": "harry-potter-2",
                                    "AUTHOR": "Vivek Dutta Mishra",
                                    "RATING": "4"
                                },
                                {
                                    "TITLE": "The Accursed God",
                                    "BOOK_ID": "harry-potter-3",
                                    "AUTHOR": "Vivek Dutta Mishra",
                                    "RATING": "4"
                                },
                                {
                                    "TITLE": "The Accursed God",
                                    "BOOK_ID": "harry-potter-4",
                                    "AUTHOR": "Vivek Dutta Mishra",
                                    "RATING": "4"
                                },
                                {
                                    "TITLE": "The Accursed God",
                                    "BOOK_ID": "the-accursed-god",
                                    "AUTHOR": "Vivek Dutta Mishra",
                                    "RATING": "4"
                                },
                                {
                                    "TITLE": "The Accursed God",
                                    "BOOK_ID": "rashmirathi",
                                    "AUTHOR": "Vivek Dutta Mishra",
                                    "RATING": "5"
                                },
                                {
                                    "TITLE": "The Accursed God",
                                    "BOOK_ID": "the-accursed-god",
                                    "AUTHOR": "Vivek Dutta Mishra",
                                    "RATING": "4"
                                },
                                {
                                    "TITLE": "The Accursed God",
                                    "BOOK_ID": "harry-potter-1",
                                    "AUTHOR": "Vivek Dutta Mishra",
                                    "RATING": "4"
                                },
                                {
                                    "TITLE": "The Accursed God",
                                    "BOOK_ID": "harry-potter-1",
                                    "AUTHOR": "Vivek Dutta Mishra",
                                    "RATING": "5"
                                },
                                {
                                    "TITLE": "The Accursed God",
                                    "BOOK_ID": "harry-potter-1",
                                    "AUTHOR": "Vivek Dutta Mishra",
                                    "RATING": "5"
                                },
                                {
                                    "TITLE": "The Accursed God",
                                    "BOOK_ID": "harry-potter-1",
                                    "AUTHOR": "Vivek Dutta Mishra",
                                    "RATING": "4"
                                },
                                {
                                    "TITLE": "The Accursed God",
                                    "BOOK_ID": "harry-potter-1",
                                    "AUTHOR": "Vivek Dutta Mishra",
                                    "RATING": "3"
                                },
                                {
                                    "TITLE": "The Accursed God",
                                    "BOOK_ID": "the-accursed-god",
                                    "AUTHOR": "Vivek Dutta Mishra",
                                    "RATING": "4"
                                },
                                {
                                    "TITLE": "The Accursed God",
                                    "BOOK_ID": "harry-potter-1",
                                    "AUTHOR": "Vivek Dutta Mishra",
                                    "RATING": "4"
                                },
                                {
                                    "TITLE": "The Accursed God",
                                    "BOOK_ID": "harry-potter-5",
                                    "AUTHOR": "Vivek Dutta Mishra",
                                    "RATING": "5"
                                },
                                {
                                    "TITLE": "The Accursed God",
                                    "BOOK_ID": "harry-potter-6",
                                    "AUTHOR": "Vivek Dutta Mishra",
                                    "RATING": "5"
                                },
                                {
                                    "TITLE": "The Accursed God",
                                    "BOOK_ID": "harry-potter-7",
                                    "AUTHOR": "Vivek Dutta Mishra",
                                    "RATING": "3"
                                },
                                {
                                    "TITLE": "The Accursed God",
                                    "BOOK_ID": "harry-potter-8",
                                    "AUTHOR": "Vivek Dutta Mishra",
                                    "RATING": "3"
                                },
                                {
                                    "TITLE": "The Accursed God",
                                    "BOOK_ID": "harry-potter-7",
                                    "AUTHOR": "Vivek Dutta Mishra",
                                    "RATING": "4"
                                },
                                {
                                    "TITLE": "The Accursed God",
                                    "BOOK_ID": "harry-potter-7",
                                    "AUTHOR": "Vivek Dutta Mishra",
                                    "RATING": "5"
                                },
                                {
                                    "TITLE": "The Accursed God",
                                    "BOOK_ID": "harry-potter-7",
                                    "AUTHOR": "Vivek Dutta Mishra",
                                    "RATING": "5"
                                },
                                {
                                    "TITLE": "The Accursed God",
                                    "BOOK_ID": "harry-potter-6",
                                    "AUTHOR": "Vivek Dutta Mishra",
                                    "RATING": "5"
                                },
                                {
                                    "TITLE": "The Accursed God",
                                    "BOOK_ID": "harry-potter-6",
                                    "AUTHOR": "Vivek Dutta Mishra",
                                    "RATING": "5"
                                },
                                {
                                    "TITLE": "The Accursed God",
                                    "BOOK_ID": "harry-potter-3",
                                    "AUTHOR": "Vivek Dutta Mishra",
                                    "RATING": "4"
                                },
                                {
                                    "TITLE": "The Accursed God",
                                    "BOOK_ID": "manas",
                                    "AUTHOR": "Vivek Dutta Mishra",
                                    "RATING": "5"
                                },
                                {
                                    "TITLE": "The Accursed God",
                                    "BOOK_ID": "kurukshetra",
                                    "AUTHOR": "Vivek Dutta Mishra",
                                    "RATING": "4"
                                },
                                {
                                    "TITLE": "The Accursed God",
                                    "BOOK_ID": "kurukshetra",
                                    "AUTHOR": "Vivek Dutta Mishra",
                                    "RATING": "4"
                                },
                                {
                                    "TITLE": "The Accursed God",
                                    "BOOK_ID": "rashmirathi",
                                    "AUTHOR": "Vivek Dutta Mishra",
                                    "RATING": "5"
                                },
                                {
                                    "TITLE": "The Accursed God",
                                    "BOOK_ID": "manas",
                                    "AUTHOR": "Vivek Dutta Mishra",
                                    "RATING": "5"
                                },
                                {
                                    "TITLE": "The Accursed God",
                                    "BOOK_ID": "manas",
                                    "AUTHOR": "Vivek Dutta Mishra",
                                    "RATING": "4"
                                },
                                {
                                    "TITLE": "The Accursed God",
                                    "BOOK_ID": "manas",
                                    "AUTHOR": "Vivek Dutta Mishra",
                                    "RATING": "4"
                                },
                                {
                                    "TITLE": "The Accursed God",
                                    "BOOK_ID": "rashmirathi",
                                    "AUTHOR": "Vivek Dutta Mishra",
                                    "RATING": "5"
                                },
                                {
                                    "TITLE": "The Accursed God",
                                    "BOOK_ID": "accursed-child",
                                    "AUTHOR": "Vivek Dutta Mishra",
                                    "RATING": "5"
                                },
                                {
                                    "TITLE": "The Accursed God",
                                    "BOOK_ID": "accursed-child",
                                    "AUTHOR": "Vivek Dutta Mishra",
                                    "RATING": "2"
                                }
                            ]
                        },
                        "text/html": [
                            "<table>",
                            "<tr><th>TITLE</th><th>BOOK_ID</th><th>AUTHOR</th><th>RATING</th></tr>",
                            "<tr><td>The Accursed Child</td><td>the-accursed-god</td><td>JK Rowling</td><td>5</td></tr>",
                            "<tr><td>The Accursed Child</td><td>rashmirathi</td><td>JK Rowling</td><td>5</td></tr>",
                            "<tr><td>The Accursed Child</td><td>kane-and-abel</td><td>JK Rowling</td><td>4</td></tr>",
                            "<tr><td>The Accursed Child</td><td>harry-potter-1</td><td>JK Rowling</td><td>4</td></tr>",
                            "<tr><td>The Accursed Child</td><td>rashmirathi</td><td>JK Rowling</td><td>3</td></tr>",
                            "<tr><td>The Accursed Child</td><td>the-accursed-god</td><td>JK Rowling</td><td>4</td></tr>",
                            "<tr><td>The Accursed Child</td><td>the-accursed-god</td><td>JK Rowling</td><td>5</td></tr>",
                            "<tr><td>The Accursed Child</td><td>rashmirathi</td><td>JK Rowling</td><td>5</td></tr>",
                            "<tr><td>The Accursed Child</td><td>the-accursed-god</td><td>JK Rowling</td><td>4</td></tr>",
                            "<tr><td>The Accursed Child</td><td>harry-potter-2</td><td>JK Rowling</td><td>4</td></tr>",
                            "<tr><td>The Accursed Child</td><td>harry-potter-3</td><td>JK Rowling</td><td>4</td></tr>",
                            "<tr><td>The Accursed Child</td><td>harry-potter-4</td><td>JK Rowling</td><td>4</td></tr>",
                            "<tr><td>The Accursed Child</td><td>the-accursed-god</td><td>JK Rowling</td><td>4</td></tr>",
                            "<tr><td>The Accursed Child</td><td>rashmirathi</td><td>JK Rowling</td><td>5</td></tr>",
                            "<tr><td>The Accursed Child</td><td>the-accursed-god</td><td>JK Rowling</td><td>4</td></tr>",
                            "<tr><td>The Accursed Child</td><td>harry-potter-1</td><td>JK Rowling</td><td>4</td></tr>",
                            "<tr><td>The Accursed Child</td><td>harry-potter-1</td><td>JK Rowling</td><td>5</td></tr>",
                            "<tr><td>The Accursed Child</td><td>harry-potter-1</td><td>JK Rowling</td><td>5</td></tr>",
                            "<tr><td>The Accursed Child</td><td>harry-potter-1</td><td>JK Rowling</td><td>4</td></tr>",
                            "<tr><td>The Accursed Child</td><td>harry-potter-1</td><td>JK Rowling</td><td>3</td></tr>",
                            "<tr><td>The Accursed Child</td><td>the-accursed-god</td><td>JK Rowling</td><td>4</td></tr>",
                            "<tr><td>The Accursed Child</td><td>harry-potter-1</td><td>JK Rowling</td><td>4</td></tr>",
                            "<tr><td>The Accursed Child</td><td>harry-potter-5</td><td>JK Rowling</td><td>5</td></tr>",
                            "<tr><td>The Accursed Child</td><td>harry-potter-6</td><td>JK Rowling</td><td>5</td></tr>",
                            "<tr><td>The Accursed Child</td><td>harry-potter-7</td><td>JK Rowling</td><td>3</td></tr>",
                            "<tr><td>The Accursed Child</td><td>harry-potter-8</td><td>JK Rowling</td><td>3</td></tr>",
                            "<tr><td>The Accursed Child</td><td>harry-potter-7</td><td>JK Rowling</td><td>4</td></tr>",
                            "<tr><td>The Accursed Child</td><td>harry-potter-7</td><td>JK Rowling</td><td>5</td></tr>",
                            "<tr><td>The Accursed Child</td><td>harry-potter-7</td><td>JK Rowling</td><td>5</td></tr>",
                            "<tr><td>The Accursed Child</td><td>harry-potter-6</td><td>JK Rowling</td><td>5</td></tr>",
                            "<tr><td>The Accursed Child</td><td>harry-potter-6</td><td>JK Rowling</td><td>5</td></tr>",
                            "<tr><td>The Accursed Child</td><td>harry-potter-3</td><td>JK Rowling</td><td>4</td></tr>",
                            "<tr><td>The Accursed Child</td><td>manas</td><td>JK Rowling</td><td>5</td></tr>",
                            "<tr><td>The Accursed Child</td><td>kurukshetra</td><td>JK Rowling</td><td>4</td></tr>",
                            "<tr><td>The Accursed Child</td><td>kurukshetra</td><td>JK Rowling</td><td>4</td></tr>",
                            "<tr><td>The Accursed Child</td><td>rashmirathi</td><td>JK Rowling</td><td>5</td></tr>",
                            "<tr><td>The Accursed Child</td><td>manas</td><td>JK Rowling</td><td>5</td></tr>",
                            "<tr><td>The Accursed Child</td><td>manas</td><td>JK Rowling</td><td>4</td></tr>",
                            "<tr><td>The Accursed Child</td><td>manas</td><td>JK Rowling</td><td>4</td></tr>",
                            "<tr><td>The Accursed Child</td><td>rashmirathi</td><td>JK Rowling</td><td>5</td></tr>",
                            "<tr><td>The Accursed Child</td><td>accursed-child</td><td>JK Rowling</td><td>5</td></tr>",
                            "<tr><td>The Accursed Child</td><td>accursed-child</td><td>JK Rowling</td><td>2</td></tr>",
                            "<tr><td>Brethren</td><td>the-accursed-god</td><td>John Grisham</td><td>5</td></tr>",
                            "<tr><td>Brethren</td><td>rashmirathi</td><td>John Grisham</td><td>5</td></tr>",
                            "<tr><td>Brethren</td><td>kane-and-abel</td><td>John Grisham</td><td>4</td></tr>",
                            "<tr><td>Brethren</td><td>harry-potter-1</td><td>John Grisham</td><td>4</td></tr>",
                            "<tr><td>Brethren</td><td>rashmirathi</td><td>John Grisham</td><td>3</td></tr>",
                            "<tr><td>Brethren</td><td>the-accursed-god</td><td>John Grisham</td><td>4</td></tr>",
                            "<tr><td>Brethren</td><td>the-accursed-god</td><td>John Grisham</td><td>5</td></tr>",
                            "<tr><td>Brethren</td><td>rashmirathi</td><td>John Grisham</td><td>5</td></tr>",
                            "<tr><td>Brethren</td><td>the-accursed-god</td><td>John Grisham</td><td>4</td></tr>",
                            "<tr><td>Brethren</td><td>harry-potter-2</td><td>John Grisham</td><td>4</td></tr>",
                            "<tr><td>Brethren</td><td>harry-potter-3</td><td>John Grisham</td><td>4</td></tr>",
                            "<tr><td>Brethren</td><td>harry-potter-4</td><td>John Grisham</td><td>4</td></tr>",
                            "<tr><td>Brethren</td><td>the-accursed-god</td><td>John Grisham</td><td>4</td></tr>",
                            "<tr><td>Brethren</td><td>rashmirathi</td><td>John Grisham</td><td>5</td></tr>",
                            "<tr><td>Brethren</td><td>the-accursed-god</td><td>John Grisham</td><td>4</td></tr>",
                            "<tr><td>Brethren</td><td>harry-potter-1</td><td>John Grisham</td><td>4</td></tr>",
                            "<tr><td>Brethren</td><td>harry-potter-1</td><td>John Grisham</td><td>5</td></tr>",
                            "<tr><td>Brethren</td><td>harry-potter-1</td><td>John Grisham</td><td>5</td></tr>",
                            "<tr><td>Brethren</td><td>harry-potter-1</td><td>John Grisham</td><td>4</td></tr>",
                            "<tr><td>Brethren</td><td>harry-potter-1</td><td>John Grisham</td><td>3</td></tr>",
                            "<tr><td>Brethren</td><td>the-accursed-god</td><td>John Grisham</td><td>4</td></tr>",
                            "<tr><td>Brethren</td><td>harry-potter-1</td><td>John Grisham</td><td>4</td></tr>",
                            "<tr><td>Brethren</td><td>harry-potter-5</td><td>John Grisham</td><td>5</td></tr>",
                            "<tr><td>Brethren</td><td>harry-potter-6</td><td>John Grisham</td><td>5</td></tr>",
                            "<tr><td>Brethren</td><td>harry-potter-7</td><td>John Grisham</td><td>3</td></tr>",
                            "<tr><td>Brethren</td><td>harry-potter-8</td><td>John Grisham</td><td>3</td></tr>",
                            "<tr><td>Brethren</td><td>harry-potter-7</td><td>John Grisham</td><td>4</td></tr>",
                            "<tr><td>Brethren</td><td>harry-potter-7</td><td>John Grisham</td><td>5</td></tr>",
                            "<tr><td>Brethren</td><td>harry-potter-7</td><td>John Grisham</td><td>5</td></tr>",
                            "<tr><td>Brethren</td><td>harry-potter-6</td><td>John Grisham</td><td>5</td></tr>",
                            "<tr><td>Brethren</td><td>harry-potter-6</td><td>John Grisham</td><td>5</td></tr>",
                            "<tr><td>Brethren</td><td>harry-potter-3</td><td>John Grisham</td><td>4</td></tr>",
                            "<tr><td>Brethren</td><td>manas</td><td>John Grisham</td><td>5</td></tr>",
                            "<tr><td>Brethren</td><td>kurukshetra</td><td>John Grisham</td><td>4</td></tr>",
                            "<tr><td>Brethren</td><td>kurukshetra</td><td>John Grisham</td><td>4</td></tr>",
                            "<tr><td>Brethren</td><td>rashmirathi</td><td>John Grisham</td><td>5</td></tr>",
                            "<tr><td>Brethren</td><td>manas</td><td>John Grisham</td><td>5</td></tr>",
                            "<tr><td>Brethren</td><td>manas</td><td>John Grisham</td><td>4</td></tr>",
                            "<tr><td>Brethren</td><td>manas</td><td>John Grisham</td><td>4</td></tr>",
                            "<tr><td>Brethren</td><td>rashmirathi</td><td>John Grisham</td><td>5</td></tr>",
                            "<tr><td>Brethren</td><td>accursed-child</td><td>John Grisham</td><td>5</td></tr>",
                            "<tr><td>Brethren</td><td>accursed-child</td><td>John Grisham</td><td>2</td></tr>",
                            "<tr><td>Harry Potter, And the Philosophers stone</td><td>the-accursed-god</td><td>JK Rowling</td><td>5</td></tr>",
                            "<tr><td>Harry Potter, And the Philosophers stone</td><td>rashmirathi</td><td>JK Rowling</td><td>5</td></tr>",
                            "<tr><td>Harry Potter, And the Philosophers stone</td><td>kane-and-abel</td><td>JK Rowling</td><td>4</td></tr>",
                            "<tr><td>Harry Potter, And the Philosophers stone</td><td>harry-potter-1</td><td>JK Rowling</td><td>4</td></tr>",
                            "<tr><td>Harry Potter, And the Philosophers stone</td><td>rashmirathi</td><td>JK Rowling</td><td>3</td></tr>",
                            "<tr><td>Harry Potter, And the Philosophers stone</td><td>the-accursed-god</td><td>JK Rowling</td><td>4</td></tr>",
                            "<tr><td>Harry Potter, And the Philosophers stone</td><td>the-accursed-god</td><td>JK Rowling</td><td>5</td></tr>",
                            "<tr><td>Harry Potter, And the Philosophers stone</td><td>rashmirathi</td><td>JK Rowling</td><td>5</td></tr>",
                            "<tr><td>Harry Potter, And the Philosophers stone</td><td>the-accursed-god</td><td>JK Rowling</td><td>4</td></tr>",
                            "<tr><td>Harry Potter, And the Philosophers stone</td><td>harry-potter-2</td><td>JK Rowling</td><td>4</td></tr>",
                            "<tr><td>Harry Potter, And the Philosophers stone</td><td>harry-potter-3</td><td>JK Rowling</td><td>4</td></tr>",
                            "<tr><td>Harry Potter, And the Philosophers stone</td><td>harry-potter-4</td><td>JK Rowling</td><td>4</td></tr>",
                            "<tr><td>Harry Potter, And the Philosophers stone</td><td>the-accursed-god</td><td>JK Rowling</td><td>4</td></tr>",
                            "<tr><td>Harry Potter, And the Philosophers stone</td><td>rashmirathi</td><td>JK Rowling</td><td>5</td></tr>",
                            "<tr><td>Harry Potter, And the Philosophers stone</td><td>the-accursed-god</td><td>JK Rowling</td><td>4</td></tr>",
                            "<tr><td>Harry Potter, And the Philosophers stone</td><td>harry-potter-1</td><td>JK Rowling</td><td>4</td></tr>",
                            "<tr><td>Harry Potter, And the Philosophers stone</td><td>harry-potter-1</td><td>JK Rowling</td><td>5</td></tr>",
                            "<tr><td>Harry Potter, And the Philosophers stone</td><td>harry-potter-1</td><td>JK Rowling</td><td>5</td></tr>",
                            "<tr><td>Harry Potter, And the Philosophers stone</td><td>harry-potter-1</td><td>JK Rowling</td><td>4</td></tr>",
                            "<tr><td>Harry Potter, And the Philosophers stone</td><td>harry-potter-1</td><td>JK Rowling</td><td>3</td></tr>",
                            "<tr><td>Harry Potter, And the Philosophers stone</td><td>the-accursed-god</td><td>JK Rowling</td><td>4</td></tr>",
                            "<tr><td>Harry Potter, And the Philosophers stone</td><td>harry-potter-1</td><td>JK Rowling</td><td>4</td></tr>",
                            "<tr><td>Harry Potter, And the Philosophers stone</td><td>harry-potter-5</td><td>JK Rowling</td><td>5</td></tr>",
                            "<tr><td>Harry Potter, And the Philosophers stone</td><td>harry-potter-6</td><td>JK Rowling</td><td>5</td></tr>",
                            "<tr><td>Harry Potter, And the Philosophers stone</td><td>harry-potter-7</td><td>JK Rowling</td><td>3</td></tr>",
                            "<tr><td>Harry Potter, And the Philosophers stone</td><td>harry-potter-8</td><td>JK Rowling</td><td>3</td></tr>",
                            "<tr><td>Harry Potter, And the Philosophers stone</td><td>harry-potter-7</td><td>JK Rowling</td><td>4</td></tr>",
                            "<tr><td>Harry Potter, And the Philosophers stone</td><td>harry-potter-7</td><td>JK Rowling</td><td>5</td></tr>",
                            "<tr><td>Harry Potter, And the Philosophers stone</td><td>harry-potter-7</td><td>JK Rowling</td><td>5</td></tr>",
                            "<tr><td>Harry Potter, And the Philosophers stone</td><td>harry-potter-6</td><td>JK Rowling</td><td>5</td></tr>",
                            "<tr><td>Harry Potter, And the Philosophers stone</td><td>harry-potter-6</td><td>JK Rowling</td><td>5</td></tr>",
                            "<tr><td>Harry Potter, And the Philosophers stone</td><td>harry-potter-3</td><td>JK Rowling</td><td>4</td></tr>",
                            "<tr><td>Harry Potter, And the Philosophers stone</td><td>manas</td><td>JK Rowling</td><td>5</td></tr>",
                            "<tr><td>Harry Potter, And the Philosophers stone</td><td>kurukshetra</td><td>JK Rowling</td><td>4</td></tr>",
                            "<tr><td>Harry Potter, And the Philosophers stone</td><td>kurukshetra</td><td>JK Rowling</td><td>4</td></tr>",
                            "<tr><td>Harry Potter, And the Philosophers stone</td><td>rashmirathi</td><td>JK Rowling</td><td>5</td></tr>",
                            "<tr><td>Harry Potter, And the Philosophers stone</td><td>manas</td><td>JK Rowling</td><td>5</td></tr>",
                            "<tr><td>Harry Potter, And the Philosophers stone</td><td>manas</td><td>JK Rowling</td><td>4</td></tr>",
                            "<tr><td>Harry Potter, And the Philosophers stone</td><td>manas</td><td>JK Rowling</td><td>4</td></tr>",
                            "<tr><td>Harry Potter, And the Philosophers stone</td><td>rashmirathi</td><td>JK Rowling</td><td>5</td></tr>",
                            "<tr><td>Harry Potter, And the Philosophers stone</td><td>accursed-child</td><td>JK Rowling</td><td>5</td></tr>",
                            "<tr><td>Harry Potter, And the Philosophers stone</td><td>accursed-child</td><td>JK Rowling</td><td>2</td></tr>",
                            "<tr><td>Harry Potter and the chamber of secrets</td><td>the-accursed-god</td><td>JK Rowling</td><td>5</td></tr>",
                            "<tr><td>Harry Potter and the chamber of secrets</td><td>rashmirathi</td><td>JK Rowling</td><td>5</td></tr>",
                            "<tr><td>Harry Potter and the chamber of secrets</td><td>kane-and-abel</td><td>JK Rowling</td><td>4</td></tr>",
                            "<tr><td>Harry Potter and the chamber of secrets</td><td>harry-potter-1</td><td>JK Rowling</td><td>4</td></tr>",
                            "<tr><td>Harry Potter and the chamber of secrets</td><td>rashmirathi</td><td>JK Rowling</td><td>3</td></tr>",
                            "<tr><td>Harry Potter and the chamber of secrets</td><td>the-accursed-god</td><td>JK Rowling</td><td>4</td></tr>",
                            "<tr><td>Harry Potter and the chamber of secrets</td><td>the-accursed-god</td><td>JK Rowling</td><td>5</td></tr>",
                            "<tr><td>Harry Potter and the chamber of secrets</td><td>rashmirathi</td><td>JK Rowling</td><td>5</td></tr>",
                            "<tr><td>Harry Potter and the chamber of secrets</td><td>the-accursed-god</td><td>JK Rowling</td><td>4</td></tr>",
                            "<tr><td>Harry Potter and the chamber of secrets</td><td>harry-potter-2</td><td>JK Rowling</td><td>4</td></tr>",
                            "<tr><td>Harry Potter and the chamber of secrets</td><td>harry-potter-3</td><td>JK Rowling</td><td>4</td></tr>",
                            "<tr><td>Harry Potter and the chamber of secrets</td><td>harry-potter-4</td><td>JK Rowling</td><td>4</td></tr>",
                            "<tr><td>Harry Potter and the chamber of secrets</td><td>the-accursed-god</td><td>JK Rowling</td><td>4</td></tr>",
                            "<tr><td>Harry Potter and the chamber of secrets</td><td>rashmirathi</td><td>JK Rowling</td><td>5</td></tr>",
                            "<tr><td>Harry Potter and the chamber of secrets</td><td>the-accursed-god</td><td>JK Rowling</td><td>4</td></tr>",
                            "<tr><td>Harry Potter and the chamber of secrets</td><td>harry-potter-1</td><td>JK Rowling</td><td>4</td></tr>",
                            "<tr><td>Harry Potter and the chamber of secrets</td><td>harry-potter-1</td><td>JK Rowling</td><td>5</td></tr>",
                            "<tr><td>Harry Potter and the chamber of secrets</td><td>harry-potter-1</td><td>JK Rowling</td><td>5</td></tr>",
                            "<tr><td>Harry Potter and the chamber of secrets</td><td>harry-potter-1</td><td>JK Rowling</td><td>4</td></tr>",
                            "<tr><td>Harry Potter and the chamber of secrets</td><td>harry-potter-1</td><td>JK Rowling</td><td>3</td></tr>",
                            "<tr><td>Harry Potter and the chamber of secrets</td><td>the-accursed-god</td><td>JK Rowling</td><td>4</td></tr>",
                            "<tr><td>Harry Potter and the chamber of secrets</td><td>harry-potter-1</td><td>JK Rowling</td><td>4</td></tr>",
                            "<tr><td>Harry Potter and the chamber of secrets</td><td>harry-potter-5</td><td>JK Rowling</td><td>5</td></tr>",
                            "<tr><td>Harry Potter and the chamber of secrets</td><td>harry-potter-6</td><td>JK Rowling</td><td>5</td></tr>",
                            "<tr><td>Harry Potter and the chamber of secrets</td><td>harry-potter-7</td><td>JK Rowling</td><td>3</td></tr>",
                            "<tr><td>Harry Potter and the chamber of secrets</td><td>harry-potter-8</td><td>JK Rowling</td><td>3</td></tr>",
                            "<tr><td>Harry Potter and the chamber of secrets</td><td>harry-potter-7</td><td>JK Rowling</td><td>4</td></tr>",
                            "<tr><td>Harry Potter and the chamber of secrets</td><td>harry-potter-7</td><td>JK Rowling</td><td>5</td></tr>",
                            "<tr><td>Harry Potter and the chamber of secrets</td><td>harry-potter-7</td><td>JK Rowling</td><td>5</td></tr>",
                            "<tr><td>Harry Potter and the chamber of secrets</td><td>harry-potter-6</td><td>JK Rowling</td><td>5</td></tr>",
                            "<tr><td>Harry Potter and the chamber of secrets</td><td>harry-potter-6</td><td>JK Rowling</td><td>5</td></tr>",
                            "<tr><td>Harry Potter and the chamber of secrets</td><td>harry-potter-3</td><td>JK Rowling</td><td>4</td></tr>",
                            "<tr><td>Harry Potter and the chamber of secrets</td><td>manas</td><td>JK Rowling</td><td>5</td></tr>",
                            "<tr><td>Harry Potter and the chamber of secrets</td><td>kurukshetra</td><td>JK Rowling</td><td>4</td></tr>",
                            "<tr><td>Harry Potter and the chamber of secrets</td><td>kurukshetra</td><td>JK Rowling</td><td>4</td></tr>",
                            "<tr><td>Harry Potter and the chamber of secrets</td><td>rashmirathi</td><td>JK Rowling</td><td>5</td></tr>",
                            "<tr><td>Harry Potter and the chamber of secrets</td><td>manas</td><td>JK Rowling</td><td>5</td></tr>",
                            "<tr><td>Harry Potter and the chamber of secrets</td><td>manas</td><td>JK Rowling</td><td>4</td></tr>",
                            "<tr><td>Harry Potter and the chamber of secrets</td><td>manas</td><td>JK Rowling</td><td>4</td></tr>",
                            "<tr><td>Harry Potter and the chamber of secrets</td><td>rashmirathi</td><td>JK Rowling</td><td>5</td></tr>",
                            "<tr><td>Harry Potter and the chamber of secrets</td><td>accursed-child</td><td>JK Rowling</td><td>5</td></tr>",
                            "<tr><td>Harry Potter and the chamber of secrets</td><td>accursed-child</td><td>JK Rowling</td><td>2</td></tr>",
                            "<tr><td>Harry Potter, And the Prisoner of Asbakan</td><td>the-accursed-god</td><td>JK Rowling</td><td>5</td></tr>",
                            "<tr><td>Harry Potter, And the Prisoner of Asbakan</td><td>rashmirathi</td><td>JK Rowling</td><td>5</td></tr>",
                            "<tr><td>Harry Potter, And the Prisoner of Asbakan</td><td>kane-and-abel</td><td>JK Rowling</td><td>4</td></tr>",
                            "<tr><td>Harry Potter, And the Prisoner of Asbakan</td><td>harry-potter-1</td><td>JK Rowling</td><td>4</td></tr>",
                            "<tr><td>Harry Potter, And the Prisoner of Asbakan</td><td>rashmirathi</td><td>JK Rowling</td><td>3</td></tr>",
                            "<tr><td>Harry Potter, And the Prisoner of Asbakan</td><td>the-accursed-god</td><td>JK Rowling</td><td>4</td></tr>",
                            "<tr><td>Harry Potter, And the Prisoner of Asbakan</td><td>the-accursed-god</td><td>JK Rowling</td><td>5</td></tr>",
                            "<tr><td>Harry Potter, And the Prisoner of Asbakan</td><td>rashmirathi</td><td>JK Rowling</td><td>5</td></tr>",
                            "<tr><td>Harry Potter, And the Prisoner of Asbakan</td><td>the-accursed-god</td><td>JK Rowling</td><td>4</td></tr>",
                            "<tr><td>Harry Potter, And the Prisoner of Asbakan</td><td>harry-potter-2</td><td>JK Rowling</td><td>4</td></tr>",
                            "<tr><td>Harry Potter, And the Prisoner of Asbakan</td><td>harry-potter-3</td><td>JK Rowling</td><td>4</td></tr>",
                            "<tr><td>Harry Potter, And the Prisoner of Asbakan</td><td>harry-potter-4</td><td>JK Rowling</td><td>4</td></tr>",
                            "<tr><td>Harry Potter, And the Prisoner of Asbakan</td><td>the-accursed-god</td><td>JK Rowling</td><td>4</td></tr>",
                            "<tr><td>Harry Potter, And the Prisoner of Asbakan</td><td>rashmirathi</td><td>JK Rowling</td><td>5</td></tr>",
                            "<tr><td>Harry Potter, And the Prisoner of Asbakan</td><td>the-accursed-god</td><td>JK Rowling</td><td>4</td></tr>",
                            "<tr><td>Harry Potter, And the Prisoner of Asbakan</td><td>harry-potter-1</td><td>JK Rowling</td><td>4</td></tr>",
                            "<tr><td>Harry Potter, And the Prisoner of Asbakan</td><td>harry-potter-1</td><td>JK Rowling</td><td>5</td></tr>",
                            "<tr><td>Harry Potter, And the Prisoner of Asbakan</td><td>harry-potter-1</td><td>JK Rowling</td><td>5</td></tr>",
                            "<tr><td>Harry Potter, And the Prisoner of Asbakan</td><td>harry-potter-1</td><td>JK Rowling</td><td>4</td></tr>",
                            "<tr><td>Harry Potter, And the Prisoner of Asbakan</td><td>harry-potter-1</td><td>JK Rowling</td><td>3</td></tr>",
                            "<tr><td>Harry Potter, And the Prisoner of Asbakan</td><td>the-accursed-god</td><td>JK Rowling</td><td>4</td></tr>",
                            "<tr><td>Harry Potter, And the Prisoner of Asbakan</td><td>harry-potter-1</td><td>JK Rowling</td><td>4</td></tr>",
                            "<tr><td>Harry Potter, And the Prisoner of Asbakan</td><td>harry-potter-5</td><td>JK Rowling</td><td>5</td></tr>",
                            "<tr><td>Harry Potter, And the Prisoner of Asbakan</td><td>harry-potter-6</td><td>JK Rowling</td><td>5</td></tr>",
                            "<tr><td>Harry Potter, And the Prisoner of Asbakan</td><td>harry-potter-7</td><td>JK Rowling</td><td>3</td></tr>",
                            "<tr><td>Harry Potter, And the Prisoner of Asbakan</td><td>harry-potter-8</td><td>JK Rowling</td><td>3</td></tr>",
                            "<tr><td>Harry Potter, And the Prisoner of Asbakan</td><td>harry-potter-7</td><td>JK Rowling</td><td>4</td></tr>",
                            "<tr><td>Harry Potter, And the Prisoner of Asbakan</td><td>harry-potter-7</td><td>JK Rowling</td><td>5</td></tr>",
                            "<tr><td>Harry Potter, And the Prisoner of Asbakan</td><td>harry-potter-7</td><td>JK Rowling</td><td>5</td></tr>",
                            "<tr><td>Harry Potter, And the Prisoner of Asbakan</td><td>harry-potter-6</td><td>JK Rowling</td><td>5</td></tr>",
                            "<tr><td>Harry Potter, And the Prisoner of Asbakan</td><td>harry-potter-6</td><td>JK Rowling</td><td>5</td></tr>",
                            "<tr><td>Harry Potter, And the Prisoner of Asbakan</td><td>harry-potter-3</td><td>JK Rowling</td><td>4</td></tr>",
                            "<tr><td>Harry Potter, And the Prisoner of Asbakan</td><td>manas</td><td>JK Rowling</td><td>5</td></tr>",
                            "<tr><td>Harry Potter, And the Prisoner of Asbakan</td><td>kurukshetra</td><td>JK Rowling</td><td>4</td></tr>",
                            "<tr><td>Harry Potter, And the Prisoner of Asbakan</td><td>kurukshetra</td><td>JK Rowling</td><td>4</td></tr>",
                            "<tr><td>Harry Potter, And the Prisoner of Asbakan</td><td>rashmirathi</td><td>JK Rowling</td><td>5</td></tr>",
                            "<tr><td>Harry Potter, And the Prisoner of Asbakan</td><td>manas</td><td>JK Rowling</td><td>5</td></tr>",
                            "<tr><td>Harry Potter, And the Prisoner of Asbakan</td><td>manas</td><td>JK Rowling</td><td>4</td></tr>",
                            "<tr><td>Harry Potter, And the Prisoner of Asbakan</td><td>manas</td><td>JK Rowling</td><td>4</td></tr>",
                            "<tr><td>Harry Potter, And the Prisoner of Asbakan</td><td>rashmirathi</td><td>JK Rowling</td><td>5</td></tr>",
                            "<tr><td>Harry Potter, And the Prisoner of Asbakan</td><td>accursed-child</td><td>JK Rowling</td><td>5</td></tr>",
                            "<tr><td>Harry Potter, And the Prisoner of Asbakan</td><td>accursed-child</td><td>JK Rowling</td><td>2</td></tr>",
                            "<tr><td>Harry Potter and the goblet of fire</td><td>the-accursed-god</td><td>JK Rowling</td><td>5</td></tr>",
                            "<tr><td>Harry Potter and the goblet of fire</td><td>rashmirathi</td><td>JK Rowling</td><td>5</td></tr>",
                            "<tr><td>Harry Potter and the goblet of fire</td><td>kane-and-abel</td><td>JK Rowling</td><td>4</td></tr>",
                            "<tr><td>Harry Potter and the goblet of fire</td><td>harry-potter-1</td><td>JK Rowling</td><td>4</td></tr>",
                            "<tr><td>Harry Potter and the goblet of fire</td><td>rashmirathi</td><td>JK Rowling</td><td>3</td></tr>",
                            "<tr><td>Harry Potter and the goblet of fire</td><td>the-accursed-god</td><td>JK Rowling</td><td>4</td></tr>",
                            "<tr><td>Harry Potter and the goblet of fire</td><td>the-accursed-god</td><td>JK Rowling</td><td>5</td></tr>",
                            "<tr><td>Harry Potter and the goblet of fire</td><td>rashmirathi</td><td>JK Rowling</td><td>5</td></tr>",
                            "<tr><td>Harry Potter and the goblet of fire</td><td>the-accursed-god</td><td>JK Rowling</td><td>4</td></tr>",
                            "<tr><td>Harry Potter and the goblet of fire</td><td>harry-potter-2</td><td>JK Rowling</td><td>4</td></tr>",
                            "<tr><td>Harry Potter and the goblet of fire</td><td>harry-potter-3</td><td>JK Rowling</td><td>4</td></tr>",
                            "<tr><td>Harry Potter and the goblet of fire</td><td>harry-potter-4</td><td>JK Rowling</td><td>4</td></tr>",
                            "<tr><td>Harry Potter and the goblet of fire</td><td>the-accursed-god</td><td>JK Rowling</td><td>4</td></tr>",
                            "<tr><td>Harry Potter and the goblet of fire</td><td>rashmirathi</td><td>JK Rowling</td><td>5</td></tr>",
                            "<tr><td>Harry Potter and the goblet of fire</td><td>the-accursed-god</td><td>JK Rowling</td><td>4</td></tr>",
                            "<tr><td>Harry Potter and the goblet of fire</td><td>harry-potter-1</td><td>JK Rowling</td><td>4</td></tr>",
                            "<tr><td>Harry Potter and the goblet of fire</td><td>harry-potter-1</td><td>JK Rowling</td><td>5</td></tr>",
                            "<tr><td>Harry Potter and the goblet of fire</td><td>harry-potter-1</td><td>JK Rowling</td><td>5</td></tr>",
                            "<tr><td>Harry Potter and the goblet of fire</td><td>harry-potter-1</td><td>JK Rowling</td><td>4</td></tr>",
                            "<tr><td>Harry Potter and the goblet of fire</td><td>harry-potter-1</td><td>JK Rowling</td><td>3</td></tr>",
                            "<tr><td>Harry Potter and the goblet of fire</td><td>the-accursed-god</td><td>JK Rowling</td><td>4</td></tr>",
                            "<tr><td>Harry Potter and the goblet of fire</td><td>harry-potter-1</td><td>JK Rowling</td><td>4</td></tr>",
                            "<tr><td>Harry Potter and the goblet of fire</td><td>harry-potter-5</td><td>JK Rowling</td><td>5</td></tr>",
                            "<tr><td>Harry Potter and the goblet of fire</td><td>harry-potter-6</td><td>JK Rowling</td><td>5</td></tr>",
                            "<tr><td>Harry Potter and the goblet of fire</td><td>harry-potter-7</td><td>JK Rowling</td><td>3</td></tr>",
                            "<tr><td>Harry Potter and the goblet of fire</td><td>harry-potter-8</td><td>JK Rowling</td><td>3</td></tr>",
                            "<tr><td>Harry Potter and the goblet of fire</td><td>harry-potter-7</td><td>JK Rowling</td><td>4</td></tr>",
                            "<tr><td>Harry Potter and the goblet of fire</td><td>harry-potter-7</td><td>JK Rowling</td><td>5</td></tr>",
                            "<tr><td>Harry Potter and the goblet of fire</td><td>harry-potter-7</td><td>JK Rowling</td><td>5</td></tr>",
                            "<tr><td>Harry Potter and the goblet of fire</td><td>harry-potter-6</td><td>JK Rowling</td><td>5</td></tr>",
                            "<tr><td>Harry Potter and the goblet of fire</td><td>harry-potter-6</td><td>JK Rowling</td><td>5</td></tr>",
                            "<tr><td>Harry Potter and the goblet of fire</td><td>harry-potter-3</td><td>JK Rowling</td><td>4</td></tr>",
                            "<tr><td>Harry Potter and the goblet of fire</td><td>manas</td><td>JK Rowling</td><td>5</td></tr>",
                            "<tr><td>Harry Potter and the goblet of fire</td><td>kurukshetra</td><td>JK Rowling</td><td>4</td></tr>",
                            "<tr><td>Harry Potter and the goblet of fire</td><td>kurukshetra</td><td>JK Rowling</td><td>4</td></tr>",
                            "<tr><td>Harry Potter and the goblet of fire</td><td>rashmirathi</td><td>JK Rowling</td><td>5</td></tr>",
                            "<tr><td>Harry Potter and the goblet of fire</td><td>manas</td><td>JK Rowling</td><td>5</td></tr>",
                            "<tr><td>Harry Potter and the goblet of fire</td><td>manas</td><td>JK Rowling</td><td>4</td></tr>",
                            "<tr><td>Harry Potter and the goblet of fire</td><td>manas</td><td>JK Rowling</td><td>4</td></tr>",
                            "<tr><td>Harry Potter and the goblet of fire</td><td>rashmirathi</td><td>JK Rowling</td><td>5</td></tr>",
                            "<tr><td>Harry Potter and the goblet of fire</td><td>accursed-child</td><td>JK Rowling</td><td>5</td></tr>",
                            "<tr><td>Harry Potter and the goblet of fire</td><td>accursed-child</td><td>JK Rowling</td><td>2</td></tr>",
                            "<tr><td>Harry Potter, And the Order of Phoinix</td><td>the-accursed-god</td><td>JK Rowling</td><td>5</td></tr>",
                            "<tr><td>Harry Potter, And the Order of Phoinix</td><td>rashmirathi</td><td>JK Rowling</td><td>5</td></tr>",
                            "<tr><td>Harry Potter, And the Order of Phoinix</td><td>kane-and-abel</td><td>JK Rowling</td><td>4</td></tr>",
                            "<tr><td>Harry Potter, And the Order of Phoinix</td><td>harry-potter-1</td><td>JK Rowling</td><td>4</td></tr>",
                            "<tr><td>Harry Potter, And the Order of Phoinix</td><td>rashmirathi</td><td>JK Rowling</td><td>3</td></tr>",
                            "<tr><td>Harry Potter, And the Order of Phoinix</td><td>the-accursed-god</td><td>JK Rowling</td><td>4</td></tr>",
                            "<tr><td>Harry Potter, And the Order of Phoinix</td><td>the-accursed-god</td><td>JK Rowling</td><td>5</td></tr>",
                            "<tr><td>Harry Potter, And the Order of Phoinix</td><td>rashmirathi</td><td>JK Rowling</td><td>5</td></tr>",
                            "<tr><td>Harry Potter, And the Order of Phoinix</td><td>the-accursed-god</td><td>JK Rowling</td><td>4</td></tr>",
                            "<tr><td>Harry Potter, And the Order of Phoinix</td><td>harry-potter-2</td><td>JK Rowling</td><td>4</td></tr>",
                            "<tr><td>Harry Potter, And the Order of Phoinix</td><td>harry-potter-3</td><td>JK Rowling</td><td>4</td></tr>",
                            "<tr><td>Harry Potter, And the Order of Phoinix</td><td>harry-potter-4</td><td>JK Rowling</td><td>4</td></tr>",
                            "<tr><td>Harry Potter, And the Order of Phoinix</td><td>the-accursed-god</td><td>JK Rowling</td><td>4</td></tr>",
                            "<tr><td>Harry Potter, And the Order of Phoinix</td><td>rashmirathi</td><td>JK Rowling</td><td>5</td></tr>",
                            "<tr><td>Harry Potter, And the Order of Phoinix</td><td>the-accursed-god</td><td>JK Rowling</td><td>4</td></tr>",
                            "<tr><td>Harry Potter, And the Order of Phoinix</td><td>harry-potter-1</td><td>JK Rowling</td><td>4</td></tr>",
                            "<tr><td>Harry Potter, And the Order of Phoinix</td><td>harry-potter-1</td><td>JK Rowling</td><td>5</td></tr>",
                            "<tr><td>Harry Potter, And the Order of Phoinix</td><td>harry-potter-1</td><td>JK Rowling</td><td>5</td></tr>",
                            "<tr><td>Harry Potter, And the Order of Phoinix</td><td>harry-potter-1</td><td>JK Rowling</td><td>4</td></tr>",
                            "<tr><td>Harry Potter, And the Order of Phoinix</td><td>harry-potter-1</td><td>JK Rowling</td><td>3</td></tr>",
                            "<tr><td>Harry Potter, And the Order of Phoinix</td><td>the-accursed-god</td><td>JK Rowling</td><td>4</td></tr>",
                            "<tr><td>Harry Potter, And the Order of Phoinix</td><td>harry-potter-1</td><td>JK Rowling</td><td>4</td></tr>",
                            "<tr><td>Harry Potter, And the Order of Phoinix</td><td>harry-potter-5</td><td>JK Rowling</td><td>5</td></tr>",
                            "<tr><td>Harry Potter, And the Order of Phoinix</td><td>harry-potter-6</td><td>JK Rowling</td><td>5</td></tr>",
                            "<tr><td>Harry Potter, And the Order of Phoinix</td><td>harry-potter-7</td><td>JK Rowling</td><td>3</td></tr>",
                            "<tr><td>Harry Potter, And the Order of Phoinix</td><td>harry-potter-8</td><td>JK Rowling</td><td>3</td></tr>",
                            "<tr><td>Harry Potter, And the Order of Phoinix</td><td>harry-potter-7</td><td>JK Rowling</td><td>4</td></tr>",
                            "<tr><td>Harry Potter, And the Order of Phoinix</td><td>harry-potter-7</td><td>JK Rowling</td><td>5</td></tr>",
                            "<tr><td>Harry Potter, And the Order of Phoinix</td><td>harry-potter-7</td><td>JK Rowling</td><td>5</td></tr>",
                            "<tr><td>Harry Potter, And the Order of Phoinix</td><td>harry-potter-6</td><td>JK Rowling</td><td>5</td></tr>",
                            "<tr><td>Harry Potter, And the Order of Phoinix</td><td>harry-potter-6</td><td>JK Rowling</td><td>5</td></tr>",
                            "<tr><td>Harry Potter, And the Order of Phoinix</td><td>harry-potter-3</td><td>JK Rowling</td><td>4</td></tr>",
                            "<tr><td>Harry Potter, And the Order of Phoinix</td><td>manas</td><td>JK Rowling</td><td>5</td></tr>",
                            "<tr><td>Harry Potter, And the Order of Phoinix</td><td>kurukshetra</td><td>JK Rowling</td><td>4</td></tr>",
                            "<tr><td>Harry Potter, And the Order of Phoinix</td><td>kurukshetra</td><td>JK Rowling</td><td>4</td></tr>",
                            "<tr><td>Harry Potter, And the Order of Phoinix</td><td>rashmirathi</td><td>JK Rowling</td><td>5</td></tr>",
                            "<tr><td>Harry Potter, And the Order of Phoinix</td><td>manas</td><td>JK Rowling</td><td>5</td></tr>",
                            "<tr><td>Harry Potter, And the Order of Phoinix</td><td>manas</td><td>JK Rowling</td><td>4</td></tr>",
                            "<tr><td>Harry Potter, And the Order of Phoinix</td><td>manas</td><td>JK Rowling</td><td>4</td></tr>",
                            "<tr><td>Harry Potter, And the Order of Phoinix</td><td>rashmirathi</td><td>JK Rowling</td><td>5</td></tr>",
                            "<tr><td>Harry Potter, And the Order of Phoinix</td><td>accursed-child</td><td>JK Rowling</td><td>5</td></tr>",
                            "<tr><td>Harry Potter, And the Order of Phoinix</td><td>accursed-child</td><td>JK Rowling</td><td>2</td></tr>",
                            "<tr><td>Harry Potter and the half blood prince</td><td>the-accursed-god</td><td>JK Rowling</td><td>5</td></tr>",
                            "<tr><td>Harry Potter and the half blood prince</td><td>rashmirathi</td><td>JK Rowling</td><td>5</td></tr>",
                            "<tr><td>Harry Potter and the half blood prince</td><td>kane-and-abel</td><td>JK Rowling</td><td>4</td></tr>",
                            "<tr><td>Harry Potter and the half blood prince</td><td>harry-potter-1</td><td>JK Rowling</td><td>4</td></tr>",
                            "<tr><td>Harry Potter and the half blood prince</td><td>rashmirathi</td><td>JK Rowling</td><td>3</td></tr>",
                            "<tr><td>Harry Potter and the half blood prince</td><td>the-accursed-god</td><td>JK Rowling</td><td>4</td></tr>",
                            "<tr><td>Harry Potter and the half blood prince</td><td>the-accursed-god</td><td>JK Rowling</td><td>5</td></tr>",
                            "<tr><td>Harry Potter and the half blood prince</td><td>rashmirathi</td><td>JK Rowling</td><td>5</td></tr>",
                            "<tr><td>Harry Potter and the half blood prince</td><td>the-accursed-god</td><td>JK Rowling</td><td>4</td></tr>",
                            "<tr><td>Harry Potter and the half blood prince</td><td>harry-potter-2</td><td>JK Rowling</td><td>4</td></tr>",
                            "<tr><td>Harry Potter and the half blood prince</td><td>harry-potter-3</td><td>JK Rowling</td><td>4</td></tr>",
                            "<tr><td>Harry Potter and the half blood prince</td><td>harry-potter-4</td><td>JK Rowling</td><td>4</td></tr>",
                            "<tr><td>Harry Potter and the half blood prince</td><td>the-accursed-god</td><td>JK Rowling</td><td>4</td></tr>",
                            "<tr><td>Harry Potter and the half blood prince</td><td>rashmirathi</td><td>JK Rowling</td><td>5</td></tr>",
                            "<tr><td>Harry Potter and the half blood prince</td><td>the-accursed-god</td><td>JK Rowling</td><td>4</td></tr>",
                            "<tr><td>Harry Potter and the half blood prince</td><td>harry-potter-1</td><td>JK Rowling</td><td>4</td></tr>",
                            "<tr><td>Harry Potter and the half blood prince</td><td>harry-potter-1</td><td>JK Rowling</td><td>5</td></tr>",
                            "<tr><td>Harry Potter and the half blood prince</td><td>harry-potter-1</td><td>JK Rowling</td><td>5</td></tr>",
                            "<tr><td>Harry Potter and the half blood prince</td><td>harry-potter-1</td><td>JK Rowling</td><td>4</td></tr>",
                            "<tr><td>Harry Potter and the half blood prince</td><td>harry-potter-1</td><td>JK Rowling</td><td>3</td></tr>",
                            "<tr><td>Harry Potter and the half blood prince</td><td>the-accursed-god</td><td>JK Rowling</td><td>4</td></tr>",
                            "<tr><td>Harry Potter and the half blood prince</td><td>harry-potter-1</td><td>JK Rowling</td><td>4</td></tr>",
                            "<tr><td>Harry Potter and the half blood prince</td><td>harry-potter-5</td><td>JK Rowling</td><td>5</td></tr>",
                            "<tr><td>Harry Potter and the half blood prince</td><td>harry-potter-6</td><td>JK Rowling</td><td>5</td></tr>",
                            "<tr><td>Harry Potter and the half blood prince</td><td>harry-potter-7</td><td>JK Rowling</td><td>3</td></tr>",
                            "<tr><td>Harry Potter and the half blood prince</td><td>harry-potter-8</td><td>JK Rowling</td><td>3</td></tr>",
                            "<tr><td>Harry Potter and the half blood prince</td><td>harry-potter-7</td><td>JK Rowling</td><td>4</td></tr>",
                            "<tr><td>Harry Potter and the half blood prince</td><td>harry-potter-7</td><td>JK Rowling</td><td>5</td></tr>",
                            "<tr><td>Harry Potter and the half blood prince</td><td>harry-potter-7</td><td>JK Rowling</td><td>5</td></tr>",
                            "<tr><td>Harry Potter and the half blood prince</td><td>harry-potter-6</td><td>JK Rowling</td><td>5</td></tr>",
                            "<tr><td>Harry Potter and the half blood prince</td><td>harry-potter-6</td><td>JK Rowling</td><td>5</td></tr>",
                            "<tr><td>Harry Potter and the half blood prince</td><td>harry-potter-3</td><td>JK Rowling</td><td>4</td></tr>",
                            "<tr><td>Harry Potter and the half blood prince</td><td>manas</td><td>JK Rowling</td><td>5</td></tr>",
                            "<tr><td>Harry Potter and the half blood prince</td><td>kurukshetra</td><td>JK Rowling</td><td>4</td></tr>",
                            "<tr><td>Harry Potter and the half blood prince</td><td>kurukshetra</td><td>JK Rowling</td><td>4</td></tr>",
                            "<tr><td>Harry Potter and the half blood prince</td><td>rashmirathi</td><td>JK Rowling</td><td>5</td></tr>",
                            "<tr><td>Harry Potter and the half blood prince</td><td>manas</td><td>JK Rowling</td><td>5</td></tr>",
                            "<tr><td>Harry Potter and the half blood prince</td><td>manas</td><td>JK Rowling</td><td>4</td></tr>",
                            "<tr><td>Harry Potter and the half blood prince</td><td>manas</td><td>JK Rowling</td><td>4</td></tr>",
                            "<tr><td>Harry Potter and the half blood prince</td><td>rashmirathi</td><td>JK Rowling</td><td>5</td></tr>",
                            "<tr><td>Harry Potter and the half blood prince</td><td>accursed-child</td><td>JK Rowling</td><td>5</td></tr>",
                            "<tr><td>Harry Potter and the half blood prince</td><td>accursed-child</td><td>JK Rowling</td><td>2</td></tr>",
                            "<tr><td>Harry Potter and the deathly hollows</td><td>the-accursed-god</td><td>JK Rowling</td><td>5</td></tr>",
                            "<tr><td>Harry Potter and the deathly hollows</td><td>rashmirathi</td><td>JK Rowling</td><td>5</td></tr>",
                            "<tr><td>Harry Potter and the deathly hollows</td><td>kane-and-abel</td><td>JK Rowling</td><td>4</td></tr>",
                            "<tr><td>Harry Potter and the deathly hollows</td><td>harry-potter-1</td><td>JK Rowling</td><td>4</td></tr>",
                            "<tr><td>Harry Potter and the deathly hollows</td><td>rashmirathi</td><td>JK Rowling</td><td>3</td></tr>",
                            "<tr><td>Harry Potter and the deathly hollows</td><td>the-accursed-god</td><td>JK Rowling</td><td>4</td></tr>",
                            "<tr><td>Harry Potter and the deathly hollows</td><td>the-accursed-god</td><td>JK Rowling</td><td>5</td></tr>",
                            "<tr><td>Harry Potter and the deathly hollows</td><td>rashmirathi</td><td>JK Rowling</td><td>5</td></tr>",
                            "<tr><td>Harry Potter and the deathly hollows</td><td>the-accursed-god</td><td>JK Rowling</td><td>4</td></tr>",
                            "<tr><td>Harry Potter and the deathly hollows</td><td>harry-potter-2</td><td>JK Rowling</td><td>4</td></tr>",
                            "<tr><td>Harry Potter and the deathly hollows</td><td>harry-potter-3</td><td>JK Rowling</td><td>4</td></tr>",
                            "<tr><td>Harry Potter and the deathly hollows</td><td>harry-potter-4</td><td>JK Rowling</td><td>4</td></tr>",
                            "<tr><td>Harry Potter and the deathly hollows</td><td>the-accursed-god</td><td>JK Rowling</td><td>4</td></tr>",
                            "<tr><td>Harry Potter and the deathly hollows</td><td>rashmirathi</td><td>JK Rowling</td><td>5</td></tr>",
                            "<tr><td>Harry Potter and the deathly hollows</td><td>the-accursed-god</td><td>JK Rowling</td><td>4</td></tr>",
                            "<tr><td>Harry Potter and the deathly hollows</td><td>harry-potter-1</td><td>JK Rowling</td><td>4</td></tr>",
                            "<tr><td>Harry Potter and the deathly hollows</td><td>harry-potter-1</td><td>JK Rowling</td><td>5</td></tr>",
                            "<tr><td>Harry Potter and the deathly hollows</td><td>harry-potter-1</td><td>JK Rowling</td><td>5</td></tr>",
                            "<tr><td>Harry Potter and the deathly hollows</td><td>harry-potter-1</td><td>JK Rowling</td><td>4</td></tr>",
                            "<tr><td>Harry Potter and the deathly hollows</td><td>harry-potter-1</td><td>JK Rowling</td><td>3</td></tr>",
                            "<tr><td>Harry Potter and the deathly hollows</td><td>the-accursed-god</td><td>JK Rowling</td><td>4</td></tr>",
                            "<tr><td>Harry Potter and the deathly hollows</td><td>harry-potter-1</td><td>JK Rowling</td><td>4</td></tr>",
                            "<tr><td>Harry Potter and the deathly hollows</td><td>harry-potter-5</td><td>JK Rowling</td><td>5</td></tr>",
                            "<tr><td>Harry Potter and the deathly hollows</td><td>harry-potter-6</td><td>JK Rowling</td><td>5</td></tr>",
                            "<tr><td>Harry Potter and the deathly hollows</td><td>harry-potter-7</td><td>JK Rowling</td><td>3</td></tr>",
                            "<tr><td>Harry Potter and the deathly hollows</td><td>harry-potter-8</td><td>JK Rowling</td><td>3</td></tr>",
                            "<tr><td>Harry Potter and the deathly hollows</td><td>harry-potter-7</td><td>JK Rowling</td><td>4</td></tr>",
                            "<tr><td>Harry Potter and the deathly hollows</td><td>harry-potter-7</td><td>JK Rowling</td><td>5</td></tr>",
                            "<tr><td>Harry Potter and the deathly hollows</td><td>harry-potter-7</td><td>JK Rowling</td><td>5</td></tr>",
                            "<tr><td>Harry Potter and the deathly hollows</td><td>harry-potter-6</td><td>JK Rowling</td><td>5</td></tr>",
                            "<tr><td>Harry Potter and the deathly hollows</td><td>harry-potter-6</td><td>JK Rowling</td><td>5</td></tr>",
                            "<tr><td>Harry Potter and the deathly hollows</td><td>harry-potter-3</td><td>JK Rowling</td><td>4</td></tr>",
                            "<tr><td>Harry Potter and the deathly hollows</td><td>manas</td><td>JK Rowling</td><td>5</td></tr>",
                            "<tr><td>Harry Potter and the deathly hollows</td><td>kurukshetra</td><td>JK Rowling</td><td>4</td></tr>",
                            "<tr><td>Harry Potter and the deathly hollows</td><td>kurukshetra</td><td>JK Rowling</td><td>4</td></tr>",
                            "<tr><td>Harry Potter and the deathly hollows</td><td>rashmirathi</td><td>JK Rowling</td><td>5</td></tr>",
                            "<tr><td>Harry Potter and the deathly hollows</td><td>manas</td><td>JK Rowling</td><td>5</td></tr>",
                            "<tr><td>Harry Potter and the deathly hollows</td><td>manas</td><td>JK Rowling</td><td>4</td></tr>",
                            "<tr><td>Harry Potter and the deathly hollows</td><td>manas</td><td>JK Rowling</td><td>4</td></tr>",
                            "<tr><td>Harry Potter and the deathly hollows</td><td>rashmirathi</td><td>JK Rowling</td><td>5</td></tr>",
                            "<tr><td>Harry Potter and the deathly hollows</td><td>accursed-child</td><td>JK Rowling</td><td>5</td></tr>",
                            "<tr><td>Harry Potter and the deathly hollows</td><td>accursed-child</td><td>JK Rowling</td><td>2</td></tr>",
                            "<tr><td>Kane and Abel</td><td>the-accursed-god</td><td>Jeffrey Archer</td><td>5</td></tr>",
                            "<tr><td>Kane and Abel</td><td>rashmirathi</td><td>Jeffrey Archer</td><td>5</td></tr>",
                            "<tr><td>Kane and Abel</td><td>kane-and-abel</td><td>Jeffrey Archer</td><td>4</td></tr>",
                            "<tr><td>Kane and Abel</td><td>harry-potter-1</td><td>Jeffrey Archer</td><td>4</td></tr>",
                            "<tr><td>Kane and Abel</td><td>rashmirathi</td><td>Jeffrey Archer</td><td>3</td></tr>",
                            "<tr><td>Kane and Abel</td><td>the-accursed-god</td><td>Jeffrey Archer</td><td>4</td></tr>",
                            "<tr><td>Kane and Abel</td><td>the-accursed-god</td><td>Jeffrey Archer</td><td>5</td></tr>",
                            "<tr><td>Kane and Abel</td><td>rashmirathi</td><td>Jeffrey Archer</td><td>5</td></tr>",
                            "<tr><td>Kane and Abel</td><td>the-accursed-god</td><td>Jeffrey Archer</td><td>4</td></tr>",
                            "<tr><td>Kane and Abel</td><td>harry-potter-2</td><td>Jeffrey Archer</td><td>4</td></tr>",
                            "<tr><td>Kane and Abel</td><td>harry-potter-3</td><td>Jeffrey Archer</td><td>4</td></tr>",
                            "<tr><td>Kane and Abel</td><td>harry-potter-4</td><td>Jeffrey Archer</td><td>4</td></tr>",
                            "<tr><td>Kane and Abel</td><td>the-accursed-god</td><td>Jeffrey Archer</td><td>4</td></tr>",
                            "<tr><td>Kane and Abel</td><td>rashmirathi</td><td>Jeffrey Archer</td><td>5</td></tr>",
                            "<tr><td>Kane and Abel</td><td>the-accursed-god</td><td>Jeffrey Archer</td><td>4</td></tr>",
                            "<tr><td>Kane and Abel</td><td>harry-potter-1</td><td>Jeffrey Archer</td><td>4</td></tr>",
                            "<tr><td>Kane and Abel</td><td>harry-potter-1</td><td>Jeffrey Archer</td><td>5</td></tr>",
                            "<tr><td>Kane and Abel</td><td>harry-potter-1</td><td>Jeffrey Archer</td><td>5</td></tr>",
                            "<tr><td>Kane and Abel</td><td>harry-potter-1</td><td>Jeffrey Archer</td><td>4</td></tr>",
                            "<tr><td>Kane and Abel</td><td>harry-potter-1</td><td>Jeffrey Archer</td><td>3</td></tr>",
                            "<tr><td>Kane and Abel</td><td>the-accursed-god</td><td>Jeffrey Archer</td><td>4</td></tr>",
                            "<tr><td>Kane and Abel</td><td>harry-potter-1</td><td>Jeffrey Archer</td><td>4</td></tr>",
                            "<tr><td>Kane and Abel</td><td>harry-potter-5</td><td>Jeffrey Archer</td><td>5</td></tr>",
                            "<tr><td>Kane and Abel</td><td>harry-potter-6</td><td>Jeffrey Archer</td><td>5</td></tr>",
                            "<tr><td>Kane and Abel</td><td>harry-potter-7</td><td>Jeffrey Archer</td><td>3</td></tr>",
                            "<tr><td>Kane and Abel</td><td>harry-potter-8</td><td>Jeffrey Archer</td><td>3</td></tr>",
                            "<tr><td>Kane and Abel</td><td>harry-potter-7</td><td>Jeffrey Archer</td><td>4</td></tr>",
                            "<tr><td>Kane and Abel</td><td>harry-potter-7</td><td>Jeffrey Archer</td><td>5</td></tr>",
                            "<tr><td>Kane and Abel</td><td>harry-potter-7</td><td>Jeffrey Archer</td><td>5</td></tr>",
                            "<tr><td>Kane and Abel</td><td>harry-potter-6</td><td>Jeffrey Archer</td><td>5</td></tr>",
                            "<tr><td>Kane and Abel</td><td>harry-potter-6</td><td>Jeffrey Archer</td><td>5</td></tr>",
                            "<tr><td>Kane and Abel</td><td>harry-potter-3</td><td>Jeffrey Archer</td><td>4</td></tr>",
                            "<tr><td>Kane and Abel</td><td>manas</td><td>Jeffrey Archer</td><td>5</td></tr>",
                            "<tr><td>Kane and Abel</td><td>kurukshetra</td><td>Jeffrey Archer</td><td>4</td></tr>",
                            "<tr><td>Kane and Abel</td><td>kurukshetra</td><td>Jeffrey Archer</td><td>4</td></tr>",
                            "<tr><td>Kane and Abel</td><td>rashmirathi</td><td>Jeffrey Archer</td><td>5</td></tr>",
                            "<tr><td>Kane and Abel</td><td>manas</td><td>Jeffrey Archer</td><td>5</td></tr>",
                            "<tr><td>Kane and Abel</td><td>manas</td><td>Jeffrey Archer</td><td>4</td></tr>",
                            "<tr><td>Kane and Abel</td><td>manas</td><td>Jeffrey Archer</td><td>4</td></tr>",
                            "<tr><td>Kane and Abel</td><td>rashmirathi</td><td>Jeffrey Archer</td><td>5</td></tr>",
                            "<tr><td>Kane and Abel</td><td>accursed-child</td><td>Jeffrey Archer</td><td>5</td></tr>",
                            "<tr><td>Kane and Abel</td><td>accursed-child</td><td>Jeffrey Archer</td><td>2</td></tr>",
                            "<tr><td>Kurukshetra</td><td>the-accursed-god</td><td>Ramdhari Singh Dinkar</td><td>5</td></tr>",
                            "<tr><td>Kurukshetra</td><td>rashmirathi</td><td>Ramdhari Singh Dinkar</td><td>5</td></tr>",
                            "<tr><td>Kurukshetra</td><td>kane-and-abel</td><td>Ramdhari Singh Dinkar</td><td>4</td></tr>",
                            "<tr><td>Kurukshetra</td><td>harry-potter-1</td><td>Ramdhari Singh Dinkar</td><td>4</td></tr>",
                            "<tr><td>Kurukshetra</td><td>rashmirathi</td><td>Ramdhari Singh Dinkar</td><td>3</td></tr>",
                            "<tr><td>Kurukshetra</td><td>the-accursed-god</td><td>Ramdhari Singh Dinkar</td><td>4</td></tr>",
                            "<tr><td>Kurukshetra</td><td>the-accursed-god</td><td>Ramdhari Singh Dinkar</td><td>5</td></tr>",
                            "<tr><td>Kurukshetra</td><td>rashmirathi</td><td>Ramdhari Singh Dinkar</td><td>5</td></tr>",
                            "<tr><td>Kurukshetra</td><td>the-accursed-god</td><td>Ramdhari Singh Dinkar</td><td>4</td></tr>",
                            "<tr><td>Kurukshetra</td><td>harry-potter-2</td><td>Ramdhari Singh Dinkar</td><td>4</td></tr>",
                            "<tr><td>Kurukshetra</td><td>harry-potter-3</td><td>Ramdhari Singh Dinkar</td><td>4</td></tr>",
                            "<tr><td>Kurukshetra</td><td>harry-potter-4</td><td>Ramdhari Singh Dinkar</td><td>4</td></tr>",
                            "<tr><td>Kurukshetra</td><td>the-accursed-god</td><td>Ramdhari Singh Dinkar</td><td>4</td></tr>",
                            "<tr><td>Kurukshetra</td><td>rashmirathi</td><td>Ramdhari Singh Dinkar</td><td>5</td></tr>",
                            "<tr><td>Kurukshetra</td><td>the-accursed-god</td><td>Ramdhari Singh Dinkar</td><td>4</td></tr>",
                            "<tr><td>Kurukshetra</td><td>harry-potter-1</td><td>Ramdhari Singh Dinkar</td><td>4</td></tr>",
                            "<tr><td>Kurukshetra</td><td>harry-potter-1</td><td>Ramdhari Singh Dinkar</td><td>5</td></tr>",
                            "<tr><td>Kurukshetra</td><td>harry-potter-1</td><td>Ramdhari Singh Dinkar</td><td>5</td></tr>",
                            "<tr><td>Kurukshetra</td><td>harry-potter-1</td><td>Ramdhari Singh Dinkar</td><td>4</td></tr>",
                            "<tr><td>Kurukshetra</td><td>harry-potter-1</td><td>Ramdhari Singh Dinkar</td><td>3</td></tr>",
                            "<tr><td>Kurukshetra</td><td>the-accursed-god</td><td>Ramdhari Singh Dinkar</td><td>4</td></tr>",
                            "<tr><td>Kurukshetra</td><td>harry-potter-1</td><td>Ramdhari Singh Dinkar</td><td>4</td></tr>",
                            "<tr><td>Kurukshetra</td><td>harry-potter-5</td><td>Ramdhari Singh Dinkar</td><td>5</td></tr>",
                            "<tr><td>Kurukshetra</td><td>harry-potter-6</td><td>Ramdhari Singh Dinkar</td><td>5</td></tr>",
                            "<tr><td>Kurukshetra</td><td>harry-potter-7</td><td>Ramdhari Singh Dinkar</td><td>3</td></tr>",
                            "<tr><td>Kurukshetra</td><td>harry-potter-8</td><td>Ramdhari Singh Dinkar</td><td>3</td></tr>",
                            "<tr><td>Kurukshetra</td><td>harry-potter-7</td><td>Ramdhari Singh Dinkar</td><td>4</td></tr>",
                            "<tr><td>Kurukshetra</td><td>harry-potter-7</td><td>Ramdhari Singh Dinkar</td><td>5</td></tr>",
                            "<tr><td>Kurukshetra</td><td>harry-potter-7</td><td>Ramdhari Singh Dinkar</td><td>5</td></tr>",
                            "<tr><td>Kurukshetra</td><td>harry-potter-6</td><td>Ramdhari Singh Dinkar</td><td>5</td></tr>",
                            "<tr><td>Kurukshetra</td><td>harry-potter-6</td><td>Ramdhari Singh Dinkar</td><td>5</td></tr>",
                            "<tr><td>Kurukshetra</td><td>harry-potter-3</td><td>Ramdhari Singh Dinkar</td><td>4</td></tr>",
                            "<tr><td>Kurukshetra</td><td>manas</td><td>Ramdhari Singh Dinkar</td><td>5</td></tr>",
                            "<tr><td>Kurukshetra</td><td>kurukshetra</td><td>Ramdhari Singh Dinkar</td><td>4</td></tr>",
                            "<tr><td>Kurukshetra</td><td>kurukshetra</td><td>Ramdhari Singh Dinkar</td><td>4</td></tr>",
                            "<tr><td>Kurukshetra</td><td>rashmirathi</td><td>Ramdhari Singh Dinkar</td><td>5</td></tr>",
                            "<tr><td>Kurukshetra</td><td>manas</td><td>Ramdhari Singh Dinkar</td><td>5</td></tr>",
                            "<tr><td>Kurukshetra</td><td>manas</td><td>Ramdhari Singh Dinkar</td><td>4</td></tr>",
                            "<tr><td>Kurukshetra</td><td>manas</td><td>Ramdhari Singh Dinkar</td><td>4</td></tr>",
                            "<tr><td>Kurukshetra</td><td>rashmirathi</td><td>Ramdhari Singh Dinkar</td><td>5</td></tr>",
                            "<tr><td>Kurukshetra</td><td>accursed-child</td><td>Ramdhari Singh Dinkar</td><td>5</td></tr>",
                            "<tr><td>Kurukshetra</td><td>accursed-child</td><td>Ramdhari Singh Dinkar</td><td>2</td></tr>",
                            "<tr><td>Manas</td><td>the-accursed-god</td><td>Vivek Dutta Mishra</td><td>5</td></tr>",
                            "<tr><td>Manas</td><td>rashmirathi</td><td>Vivek Dutta Mishra</td><td>5</td></tr>",
                            "<tr><td>Manas</td><td>kane-and-abel</td><td>Vivek Dutta Mishra</td><td>4</td></tr>",
                            "<tr><td>Manas</td><td>harry-potter-1</td><td>Vivek Dutta Mishra</td><td>4</td></tr>",
                            "<tr><td>Manas</td><td>rashmirathi</td><td>Vivek Dutta Mishra</td><td>3</td></tr>",
                            "<tr><td>Manas</td><td>the-accursed-god</td><td>Vivek Dutta Mishra</td><td>4</td></tr>",
                            "<tr><td>Manas</td><td>the-accursed-god</td><td>Vivek Dutta Mishra</td><td>5</td></tr>",
                            "<tr><td>Manas</td><td>rashmirathi</td><td>Vivek Dutta Mishra</td><td>5</td></tr>",
                            "<tr><td>Manas</td><td>the-accursed-god</td><td>Vivek Dutta Mishra</td><td>4</td></tr>",
                            "<tr><td>Manas</td><td>harry-potter-2</td><td>Vivek Dutta Mishra</td><td>4</td></tr>",
                            "<tr><td>Manas</td><td>harry-potter-3</td><td>Vivek Dutta Mishra</td><td>4</td></tr>",
                            "<tr><td>Manas</td><td>harry-potter-4</td><td>Vivek Dutta Mishra</td><td>4</td></tr>",
                            "<tr><td>Manas</td><td>the-accursed-god</td><td>Vivek Dutta Mishra</td><td>4</td></tr>",
                            "<tr><td>Manas</td><td>rashmirathi</td><td>Vivek Dutta Mishra</td><td>5</td></tr>",
                            "<tr><td>Manas</td><td>the-accursed-god</td><td>Vivek Dutta Mishra</td><td>4</td></tr>",
                            "<tr><td>Manas</td><td>harry-potter-1</td><td>Vivek Dutta Mishra</td><td>4</td></tr>",
                            "<tr><td>Manas</td><td>harry-potter-1</td><td>Vivek Dutta Mishra</td><td>5</td></tr>",
                            "<tr><td>Manas</td><td>harry-potter-1</td><td>Vivek Dutta Mishra</td><td>5</td></tr>",
                            "<tr><td>Manas</td><td>harry-potter-1</td><td>Vivek Dutta Mishra</td><td>4</td></tr>",
                            "<tr><td>Manas</td><td>harry-potter-1</td><td>Vivek Dutta Mishra</td><td>3</td></tr>",
                            "<tr><td>Manas</td><td>the-accursed-god</td><td>Vivek Dutta Mishra</td><td>4</td></tr>",
                            "<tr><td>Manas</td><td>harry-potter-1</td><td>Vivek Dutta Mishra</td><td>4</td></tr>",
                            "<tr><td>Manas</td><td>harry-potter-5</td><td>Vivek Dutta Mishra</td><td>5</td></tr>",
                            "<tr><td>Manas</td><td>harry-potter-6</td><td>Vivek Dutta Mishra</td><td>5</td></tr>",
                            "<tr><td>Manas</td><td>harry-potter-7</td><td>Vivek Dutta Mishra</td><td>3</td></tr>",
                            "<tr><td>Manas</td><td>harry-potter-8</td><td>Vivek Dutta Mishra</td><td>3</td></tr>",
                            "<tr><td>Manas</td><td>harry-potter-7</td><td>Vivek Dutta Mishra</td><td>4</td></tr>",
                            "<tr><td>Manas</td><td>harry-potter-7</td><td>Vivek Dutta Mishra</td><td>5</td></tr>",
                            "<tr><td>Manas</td><td>harry-potter-7</td><td>Vivek Dutta Mishra</td><td>5</td></tr>",
                            "<tr><td>Manas</td><td>harry-potter-6</td><td>Vivek Dutta Mishra</td><td>5</td></tr>",
                            "<tr><td>Manas</td><td>harry-potter-6</td><td>Vivek Dutta Mishra</td><td>5</td></tr>",
                            "<tr><td>Manas</td><td>harry-potter-3</td><td>Vivek Dutta Mishra</td><td>4</td></tr>",
                            "<tr><td>Manas</td><td>manas</td><td>Vivek Dutta Mishra</td><td>5</td></tr>",
                            "<tr><td>Manas</td><td>kurukshetra</td><td>Vivek Dutta Mishra</td><td>4</td></tr>",
                            "<tr><td>Manas</td><td>kurukshetra</td><td>Vivek Dutta Mishra</td><td>4</td></tr>",
                            "<tr><td>Manas</td><td>rashmirathi</td><td>Vivek Dutta Mishra</td><td>5</td></tr>",
                            "<tr><td>Manas</td><td>manas</td><td>Vivek Dutta Mishra</td><td>5</td></tr>",
                            "<tr><td>Manas</td><td>manas</td><td>Vivek Dutta Mishra</td><td>4</td></tr>",
                            "<tr><td>Manas</td><td>manas</td><td>Vivek Dutta Mishra</td><td>4</td></tr>",
                            "<tr><td>Manas</td><td>rashmirathi</td><td>Vivek Dutta Mishra</td><td>5</td></tr>",
                            "<tr><td>Manas</td><td>accursed-child</td><td>Vivek Dutta Mishra</td><td>5</td></tr>",
                            "<tr><td>Manas</td><td>accursed-child</td><td>Vivek Dutta Mishra</td><td>2</td></tr>",
                            "<tr><td>Rashmirathi</td><td>the-accursed-god</td><td>Ramdhari Singh Dinkar</td><td>5</td></tr>",
                            "<tr><td>Rashmirathi</td><td>rashmirathi</td><td>Ramdhari Singh Dinkar</td><td>5</td></tr>",
                            "<tr><td>Rashmirathi</td><td>kane-and-abel</td><td>Ramdhari Singh Dinkar</td><td>4</td></tr>",
                            "<tr><td>Rashmirathi</td><td>harry-potter-1</td><td>Ramdhari Singh Dinkar</td><td>4</td></tr>",
                            "<tr><td>Rashmirathi</td><td>rashmirathi</td><td>Ramdhari Singh Dinkar</td><td>3</td></tr>",
                            "<tr><td>Rashmirathi</td><td>the-accursed-god</td><td>Ramdhari Singh Dinkar</td><td>4</td></tr>",
                            "<tr><td>Rashmirathi</td><td>the-accursed-god</td><td>Ramdhari Singh Dinkar</td><td>5</td></tr>",
                            "<tr><td>Rashmirathi</td><td>rashmirathi</td><td>Ramdhari Singh Dinkar</td><td>5</td></tr>",
                            "<tr><td>Rashmirathi</td><td>the-accursed-god</td><td>Ramdhari Singh Dinkar</td><td>4</td></tr>",
                            "<tr><td>Rashmirathi</td><td>harry-potter-2</td><td>Ramdhari Singh Dinkar</td><td>4</td></tr>",
                            "<tr><td>Rashmirathi</td><td>harry-potter-3</td><td>Ramdhari Singh Dinkar</td><td>4</td></tr>",
                            "<tr><td>Rashmirathi</td><td>harry-potter-4</td><td>Ramdhari Singh Dinkar</td><td>4</td></tr>",
                            "<tr><td>Rashmirathi</td><td>the-accursed-god</td><td>Ramdhari Singh Dinkar</td><td>4</td></tr>",
                            "<tr><td>Rashmirathi</td><td>rashmirathi</td><td>Ramdhari Singh Dinkar</td><td>5</td></tr>",
                            "<tr><td>Rashmirathi</td><td>the-accursed-god</td><td>Ramdhari Singh Dinkar</td><td>4</td></tr>",
                            "<tr><td>Rashmirathi</td><td>harry-potter-1</td><td>Ramdhari Singh Dinkar</td><td>4</td></tr>",
                            "<tr><td>Rashmirathi</td><td>harry-potter-1</td><td>Ramdhari Singh Dinkar</td><td>5</td></tr>",
                            "<tr><td>Rashmirathi</td><td>harry-potter-1</td><td>Ramdhari Singh Dinkar</td><td>5</td></tr>",
                            "<tr><td>Rashmirathi</td><td>harry-potter-1</td><td>Ramdhari Singh Dinkar</td><td>4</td></tr>",
                            "<tr><td>Rashmirathi</td><td>harry-potter-1</td><td>Ramdhari Singh Dinkar</td><td>3</td></tr>",
                            "<tr><td>Rashmirathi</td><td>the-accursed-god</td><td>Ramdhari Singh Dinkar</td><td>4</td></tr>",
                            "<tr><td>Rashmirathi</td><td>harry-potter-1</td><td>Ramdhari Singh Dinkar</td><td>4</td></tr>",
                            "<tr><td>Rashmirathi</td><td>harry-potter-5</td><td>Ramdhari Singh Dinkar</td><td>5</td></tr>",
                            "<tr><td>Rashmirathi</td><td>harry-potter-6</td><td>Ramdhari Singh Dinkar</td><td>5</td></tr>",
                            "<tr><td>Rashmirathi</td><td>harry-potter-7</td><td>Ramdhari Singh Dinkar</td><td>3</td></tr>",
                            "<tr><td>Rashmirathi</td><td>harry-potter-8</td><td>Ramdhari Singh Dinkar</td><td>3</td></tr>",
                            "<tr><td>Rashmirathi</td><td>harry-potter-7</td><td>Ramdhari Singh Dinkar</td><td>4</td></tr>",
                            "<tr><td>Rashmirathi</td><td>harry-potter-7</td><td>Ramdhari Singh Dinkar</td><td>5</td></tr>",
                            "<tr><td>Rashmirathi</td><td>harry-potter-7</td><td>Ramdhari Singh Dinkar</td><td>5</td></tr>",
                            "<tr><td>Rashmirathi</td><td>harry-potter-6</td><td>Ramdhari Singh Dinkar</td><td>5</td></tr>",
                            "<tr><td>Rashmirathi</td><td>harry-potter-6</td><td>Ramdhari Singh Dinkar</td><td>5</td></tr>",
                            "<tr><td>Rashmirathi</td><td>harry-potter-3</td><td>Ramdhari Singh Dinkar</td><td>4</td></tr>",
                            "<tr><td>Rashmirathi</td><td>manas</td><td>Ramdhari Singh Dinkar</td><td>5</td></tr>",
                            "<tr><td>Rashmirathi</td><td>kurukshetra</td><td>Ramdhari Singh Dinkar</td><td>4</td></tr>",
                            "<tr><td>Rashmirathi</td><td>kurukshetra</td><td>Ramdhari Singh Dinkar</td><td>4</td></tr>",
                            "<tr><td>Rashmirathi</td><td>rashmirathi</td><td>Ramdhari Singh Dinkar</td><td>5</td></tr>",
                            "<tr><td>Rashmirathi</td><td>manas</td><td>Ramdhari Singh Dinkar</td><td>5</td></tr>",
                            "<tr><td>Rashmirathi</td><td>manas</td><td>Ramdhari Singh Dinkar</td><td>4</td></tr>",
                            "<tr><td>Rashmirathi</td><td>manas</td><td>Ramdhari Singh Dinkar</td><td>4</td></tr>",
                            "<tr><td>Rashmirathi</td><td>rashmirathi</td><td>Ramdhari Singh Dinkar</td><td>5</td></tr>",
                            "<tr><td>Rashmirathi</td><td>accursed-child</td><td>Ramdhari Singh Dinkar</td><td>5</td></tr>",
                            "<tr><td>Rashmirathi</td><td>accursed-child</td><td>Ramdhari Singh Dinkar</td><td>2</td></tr>",
                            "<tr><td>Summons</td><td>the-accursed-god</td><td>John Grisham</td><td>5</td></tr>",
                            "<tr><td>Summons</td><td>rashmirathi</td><td>John Grisham</td><td>5</td></tr>",
                            "<tr><td>Summons</td><td>kane-and-abel</td><td>John Grisham</td><td>4</td></tr>",
                            "<tr><td>Summons</td><td>harry-potter-1</td><td>John Grisham</td><td>4</td></tr>",
                            "<tr><td>Summons</td><td>rashmirathi</td><td>John Grisham</td><td>3</td></tr>",
                            "<tr><td>Summons</td><td>the-accursed-god</td><td>John Grisham</td><td>4</td></tr>",
                            "<tr><td>Summons</td><td>the-accursed-god</td><td>John Grisham</td><td>5</td></tr>",
                            "<tr><td>Summons</td><td>rashmirathi</td><td>John Grisham</td><td>5</td></tr>",
                            "<tr><td>Summons</td><td>the-accursed-god</td><td>John Grisham</td><td>4</td></tr>",
                            "<tr><td>Summons</td><td>harry-potter-2</td><td>John Grisham</td><td>4</td></tr>",
                            "<tr><td>Summons</td><td>harry-potter-3</td><td>John Grisham</td><td>4</td></tr>",
                            "<tr><td>Summons</td><td>harry-potter-4</td><td>John Grisham</td><td>4</td></tr>",
                            "<tr><td>Summons</td><td>the-accursed-god</td><td>John Grisham</td><td>4</td></tr>",
                            "<tr><td>Summons</td><td>rashmirathi</td><td>John Grisham</td><td>5</td></tr>",
                            "<tr><td>Summons</td><td>the-accursed-god</td><td>John Grisham</td><td>4</td></tr>",
                            "<tr><td>Summons</td><td>harry-potter-1</td><td>John Grisham</td><td>4</td></tr>",
                            "<tr><td>Summons</td><td>harry-potter-1</td><td>John Grisham</td><td>5</td></tr>",
                            "<tr><td>Summons</td><td>harry-potter-1</td><td>John Grisham</td><td>5</td></tr>",
                            "<tr><td>Summons</td><td>harry-potter-1</td><td>John Grisham</td><td>4</td></tr>",
                            "<tr><td>Summons</td><td>harry-potter-1</td><td>John Grisham</td><td>3</td></tr>",
                            "<tr><td>Summons</td><td>the-accursed-god</td><td>John Grisham</td><td>4</td></tr>",
                            "<tr><td>Summons</td><td>harry-potter-1</td><td>John Grisham</td><td>4</td></tr>",
                            "<tr><td>Summons</td><td>harry-potter-5</td><td>John Grisham</td><td>5</td></tr>",
                            "<tr><td>Summons</td><td>harry-potter-6</td><td>John Grisham</td><td>5</td></tr>",
                            "<tr><td>Summons</td><td>harry-potter-7</td><td>John Grisham</td><td>3</td></tr>",
                            "<tr><td>Summons</td><td>harry-potter-8</td><td>John Grisham</td><td>3</td></tr>",
                            "<tr><td>Summons</td><td>harry-potter-7</td><td>John Grisham</td><td>4</td></tr>",
                            "<tr><td>Summons</td><td>harry-potter-7</td><td>John Grisham</td><td>5</td></tr>",
                            "<tr><td>Summons</td><td>harry-potter-7</td><td>John Grisham</td><td>5</td></tr>",
                            "<tr><td>Summons</td><td>harry-potter-6</td><td>John Grisham</td><td>5</td></tr>",
                            "<tr><td>Summons</td><td>harry-potter-6</td><td>John Grisham</td><td>5</td></tr>",
                            "<tr><td>Summons</td><td>harry-potter-3</td><td>John Grisham</td><td>4</td></tr>",
                            "<tr><td>Summons</td><td>manas</td><td>John Grisham</td><td>5</td></tr>",
                            "<tr><td>Summons</td><td>kurukshetra</td><td>John Grisham</td><td>4</td></tr>",
                            "<tr><td>Summons</td><td>kurukshetra</td><td>John Grisham</td><td>4</td></tr>",
                            "<tr><td>Summons</td><td>rashmirathi</td><td>John Grisham</td><td>5</td></tr>",
                            "<tr><td>Summons</td><td>manas</td><td>John Grisham</td><td>5</td></tr>",
                            "<tr><td>Summons</td><td>manas</td><td>John Grisham</td><td>4</td></tr>",
                            "<tr><td>Summons</td><td>manas</td><td>John Grisham</td><td>4</td></tr>",
                            "<tr><td>Summons</td><td>rashmirathi</td><td>John Grisham</td><td>5</td></tr>",
                            "<tr><td>Summons</td><td>accursed-child</td><td>John Grisham</td><td>5</td></tr>",
                            "<tr><td>Summons</td><td>accursed-child</td><td>John Grisham</td><td>2</td></tr>",
                            "<tr><td>The Accursed God</td><td>the-accursed-god</td><td>Vivek Dutta Mishra</td><td>5</td></tr>",
                            "<tr><td>The Accursed God</td><td>rashmirathi</td><td>Vivek Dutta Mishra</td><td>5</td></tr>",
                            "<tr><td>The Accursed God</td><td>kane-and-abel</td><td>Vivek Dutta Mishra</td><td>4</td></tr>",
                            "<tr><td>The Accursed God</td><td>harry-potter-1</td><td>Vivek Dutta Mishra</td><td>4</td></tr>",
                            "<tr><td>The Accursed God</td><td>rashmirathi</td><td>Vivek Dutta Mishra</td><td>3</td></tr>",
                            "<tr><td>The Accursed God</td><td>the-accursed-god</td><td>Vivek Dutta Mishra</td><td>4</td></tr>",
                            "<tr><td>The Accursed God</td><td>the-accursed-god</td><td>Vivek Dutta Mishra</td><td>5</td></tr>",
                            "<tr><td>The Accursed God</td><td>rashmirathi</td><td>Vivek Dutta Mishra</td><td>5</td></tr>",
                            "<tr><td>The Accursed God</td><td>the-accursed-god</td><td>Vivek Dutta Mishra</td><td>4</td></tr>",
                            "<tr><td>The Accursed God</td><td>harry-potter-2</td><td>Vivek Dutta Mishra</td><td>4</td></tr>",
                            "<tr><td>The Accursed God</td><td>harry-potter-3</td><td>Vivek Dutta Mishra</td><td>4</td></tr>",
                            "<tr><td>The Accursed God</td><td>harry-potter-4</td><td>Vivek Dutta Mishra</td><td>4</td></tr>",
                            "<tr><td>The Accursed God</td><td>the-accursed-god</td><td>Vivek Dutta Mishra</td><td>4</td></tr>",
                            "<tr><td>The Accursed God</td><td>rashmirathi</td><td>Vivek Dutta Mishra</td><td>5</td></tr>",
                            "<tr><td>The Accursed God</td><td>the-accursed-god</td><td>Vivek Dutta Mishra</td><td>4</td></tr>",
                            "<tr><td>The Accursed God</td><td>harry-potter-1</td><td>Vivek Dutta Mishra</td><td>4</td></tr>",
                            "<tr><td>The Accursed God</td><td>harry-potter-1</td><td>Vivek Dutta Mishra</td><td>5</td></tr>",
                            "<tr><td>The Accursed God</td><td>harry-potter-1</td><td>Vivek Dutta Mishra</td><td>5</td></tr>",
                            "<tr><td>The Accursed God</td><td>harry-potter-1</td><td>Vivek Dutta Mishra</td><td>4</td></tr>",
                            "<tr><td>The Accursed God</td><td>harry-potter-1</td><td>Vivek Dutta Mishra</td><td>3</td></tr>",
                            "<tr><td>The Accursed God</td><td>the-accursed-god</td><td>Vivek Dutta Mishra</td><td>4</td></tr>",
                            "<tr><td>The Accursed God</td><td>harry-potter-1</td><td>Vivek Dutta Mishra</td><td>4</td></tr>",
                            "<tr><td>The Accursed God</td><td>harry-potter-5</td><td>Vivek Dutta Mishra</td><td>5</td></tr>",
                            "<tr><td>The Accursed God</td><td>harry-potter-6</td><td>Vivek Dutta Mishra</td><td>5</td></tr>",
                            "<tr><td>The Accursed God</td><td>harry-potter-7</td><td>Vivek Dutta Mishra</td><td>3</td></tr>",
                            "<tr><td>The Accursed God</td><td>harry-potter-8</td><td>Vivek Dutta Mishra</td><td>3</td></tr>",
                            "<tr><td>The Accursed God</td><td>harry-potter-7</td><td>Vivek Dutta Mishra</td><td>4</td></tr>",
                            "<tr><td>The Accursed God</td><td>harry-potter-7</td><td>Vivek Dutta Mishra</td><td>5</td></tr>",
                            "<tr><td>The Accursed God</td><td>harry-potter-7</td><td>Vivek Dutta Mishra</td><td>5</td></tr>",
                            "<tr><td>The Accursed God</td><td>harry-potter-6</td><td>Vivek Dutta Mishra</td><td>5</td></tr>",
                            "<tr><td>The Accursed God</td><td>harry-potter-6</td><td>Vivek Dutta Mishra</td><td>5</td></tr>",
                            "<tr><td>The Accursed God</td><td>harry-potter-3</td><td>Vivek Dutta Mishra</td><td>4</td></tr>",
                            "<tr><td>The Accursed God</td><td>manas</td><td>Vivek Dutta Mishra</td><td>5</td></tr>",
                            "<tr><td>The Accursed God</td><td>kurukshetra</td><td>Vivek Dutta Mishra</td><td>4</td></tr>",
                            "<tr><td>The Accursed God</td><td>kurukshetra</td><td>Vivek Dutta Mishra</td><td>4</td></tr>",
                            "<tr><td>The Accursed God</td><td>rashmirathi</td><td>Vivek Dutta Mishra</td><td>5</td></tr>",
                            "<tr><td>The Accursed God</td><td>manas</td><td>Vivek Dutta Mishra</td><td>5</td></tr>",
                            "<tr><td>The Accursed God</td><td>manas</td><td>Vivek Dutta Mishra</td><td>4</td></tr>",
                            "<tr><td>The Accursed God</td><td>manas</td><td>Vivek Dutta Mishra</td><td>4</td></tr>",
                            "<tr><td>The Accursed God</td><td>rashmirathi</td><td>Vivek Dutta Mishra</td><td>5</td></tr>",
                            "<tr><td>The Accursed God</td><td>accursed-child</td><td>Vivek Dutta Mishra</td><td>5</td></tr>",
                            "<tr><td>The Accursed God</td><td>accursed-child</td><td>Vivek Dutta Mishra</td><td>2</td></tr>",
                            "</table>"
                        ]
                    }
                }
            ],
            "execution_count": 17
        },
        {
            "cell_type": "markdown",
            "source": [
                "## What just Happened?\n",
                "\n",
                "- We mapped all rows of the first table with all rows of the second table\n",
                "- It will give a new table with rows using rows\\_of\\_table1 x rows\\_of\\_table\\_2\n",
                "- This is a piece of perfectly useless information in all cases\n",
                "\n",
                "## We can establish a relationship between two table using a where clause\n",
                "\n",
                "> - <span style=\"color: var(--vscode-foreground);\">WHERE ID = BOOK_ID</span>\n",
                ">     - He by ID we mean Id of book\n",
                ">     - But there are two ID's : Books' and Reviews'\n",
                ">     - System will be confused unless we use proper references\n",
                "> - WHERE BOOKS.ID=BOOK\\_ID\n",
                ">     - Since there is no confusion in BOOK\\_ID we don't need any reference\n",
                "> - NOW we will get rows that meets the condition\n",
                ">     - max: based on larger table\n",
                ">     - But may have even lesser rows"
            ],
            "metadata": {
                "azdata_cell_guid": "933cf6bc-5922-4dfc-8838-f82d7ff5dee3"
            },
            "attachments": {}
        },
        {
            "cell_type": "code",
            "source": [
                "SELECT \r\n",
                "    BOOK_ID\r\n",
                "    TITLE,\r\n",
                "    AUTHOR,\r\n",
                "    PRICE,\r\n",
                "    RATING\r\n",
                "\r\n",
                "FROM\r\n",
                "    BOOKS,\r\n",
                "    REVIEWS\r\n",
                "WHERE\r\n",
                "    BOOKS.ID=BOOK_ID    "
            ],
            "metadata": {
                "azdata_cell_guid": "447f0adc-4ba6-4c28-a984-552a013a195f",
                "language": "sql"
            },
            "outputs": [
                {
                    "output_type": "display_data",
                    "data": {
                        "text/html": "(35 rows affected)"
                    },
                    "metadata": {}
                },
                {
                    "output_type": "display_data",
                    "data": {
                        "text/html": "Total execution time: 00:00:00.009"
                    },
                    "metadata": {}
                },
                {
                    "output_type": "execute_result",
                    "metadata": {},
                    "execution_count": 18,
                    "data": {
                        "application/vnd.dataresource+json": {
                            "schema": {
                                "fields": [
                                    {
                                        "name": "TITLE"
                                    },
                                    {
                                        "name": "AUTHOR"
                                    },
                                    {
                                        "name": "PRICE"
                                    },
                                    {
                                        "name": "RATING"
                                    }
                                ]
                            },
                            "data": [
                                {
                                    "TITLE": "the-accursed-god",
                                    "AUTHOR": "Vivek Dutta Mishra",
                                    "PRICE": "399",
                                    "RATING": "5"
                                },
                                {
                                    "TITLE": "kane-and-abel",
                                    "AUTHOR": "Jeffrey Archer",
                                    "PRICE": "499",
                                    "RATING": "4"
                                },
                                {
                                    "TITLE": "harry-potter-1",
                                    "AUTHOR": "JK Rowling",
                                    "PRICE": "499",
                                    "RATING": "4"
                                },
                                {
                                    "TITLE": "the-accursed-god",
                                    "AUTHOR": "Vivek Dutta Mishra",
                                    "PRICE": "399",
                                    "RATING": "4"
                                },
                                {
                                    "TITLE": "the-accursed-god",
                                    "AUTHOR": "Vivek Dutta Mishra",
                                    "PRICE": "399",
                                    "RATING": "5"
                                },
                                {
                                    "TITLE": "the-accursed-god",
                                    "AUTHOR": "Vivek Dutta Mishra",
                                    "PRICE": "399",
                                    "RATING": "4"
                                },
                                {
                                    "TITLE": "harry-potter-2",
                                    "AUTHOR": "JK Rowling",
                                    "PRICE": "299",
                                    "RATING": "4"
                                },
                                {
                                    "TITLE": "harry-potter-3",
                                    "AUTHOR": "JK Rowling",
                                    "PRICE": "499",
                                    "RATING": "4"
                                },
                                {
                                    "TITLE": "harry-potter-4",
                                    "AUTHOR": "JK Rowling",
                                    "PRICE": "299",
                                    "RATING": "4"
                                },
                                {
                                    "TITLE": "the-accursed-god",
                                    "AUTHOR": "Vivek Dutta Mishra",
                                    "PRICE": "399",
                                    "RATING": "4"
                                },
                                {
                                    "TITLE": "the-accursed-god",
                                    "AUTHOR": "Vivek Dutta Mishra",
                                    "PRICE": "399",
                                    "RATING": "4"
                                },
                                {
                                    "TITLE": "harry-potter-1",
                                    "AUTHOR": "JK Rowling",
                                    "PRICE": "499",
                                    "RATING": "4"
                                },
                                {
                                    "TITLE": "harry-potter-1",
                                    "AUTHOR": "JK Rowling",
                                    "PRICE": "499",
                                    "RATING": "5"
                                },
                                {
                                    "TITLE": "harry-potter-1",
                                    "AUTHOR": "JK Rowling",
                                    "PRICE": "499",
                                    "RATING": "5"
                                },
                                {
                                    "TITLE": "harry-potter-1",
                                    "AUTHOR": "JK Rowling",
                                    "PRICE": "499",
                                    "RATING": "4"
                                },
                                {
                                    "TITLE": "harry-potter-1",
                                    "AUTHOR": "JK Rowling",
                                    "PRICE": "499",
                                    "RATING": "3"
                                },
                                {
                                    "TITLE": "the-accursed-god",
                                    "AUTHOR": "Vivek Dutta Mishra",
                                    "PRICE": "399",
                                    "RATING": "4"
                                },
                                {
                                    "TITLE": "harry-potter-1",
                                    "AUTHOR": "JK Rowling",
                                    "PRICE": "499",
                                    "RATING": "4"
                                },
                                {
                                    "TITLE": "harry-potter-5",
                                    "AUTHOR": "JK Rowling",
                                    "PRICE": "599",
                                    "RATING": "5"
                                },
                                {
                                    "TITLE": "harry-potter-6",
                                    "AUTHOR": "JK Rowling",
                                    "PRICE": "699",
                                    "RATING": "5"
                                },
                                {
                                    "TITLE": "harry-potter-7",
                                    "AUTHOR": "JK Rowling",
                                    "PRICE": "599",
                                    "RATING": "3"
                                },
                                {
                                    "TITLE": "harry-potter-7",
                                    "AUTHOR": "JK Rowling",
                                    "PRICE": "599",
                                    "RATING": "4"
                                },
                                {
                                    "TITLE": "harry-potter-7",
                                    "AUTHOR": "JK Rowling",
                                    "PRICE": "599",
                                    "RATING": "5"
                                },
                                {
                                    "TITLE": "harry-potter-7",
                                    "AUTHOR": "JK Rowling",
                                    "PRICE": "599",
                                    "RATING": "5"
                                },
                                {
                                    "TITLE": "harry-potter-6",
                                    "AUTHOR": "JK Rowling",
                                    "PRICE": "699",
                                    "RATING": "5"
                                },
                                {
                                    "TITLE": "harry-potter-6",
                                    "AUTHOR": "JK Rowling",
                                    "PRICE": "699",
                                    "RATING": "5"
                                },
                                {
                                    "TITLE": "harry-potter-3",
                                    "AUTHOR": "JK Rowling",
                                    "PRICE": "499",
                                    "RATING": "4"
                                },
                                {
                                    "TITLE": "manas",
                                    "AUTHOR": "Vivek Dutta Mishra",
                                    "PRICE": "199",
                                    "RATING": "5"
                                },
                                {
                                    "TITLE": "kurukshetra",
                                    "AUTHOR": "Ramdhari Singh Dinkar",
                                    "PRICE": "99",
                                    "RATING": "4"
                                },
                                {
                                    "TITLE": "kurukshetra",
                                    "AUTHOR": "Ramdhari Singh Dinkar",
                                    "PRICE": "99",
                                    "RATING": "4"
                                },
                                {
                                    "TITLE": "manas",
                                    "AUTHOR": "Vivek Dutta Mishra",
                                    "PRICE": "199",
                                    "RATING": "5"
                                },
                                {
                                    "TITLE": "manas",
                                    "AUTHOR": "Vivek Dutta Mishra",
                                    "PRICE": "199",
                                    "RATING": "4"
                                },
                                {
                                    "TITLE": "manas",
                                    "AUTHOR": "Vivek Dutta Mishra",
                                    "PRICE": "199",
                                    "RATING": "4"
                                },
                                {
                                    "TITLE": "accursed-child",
                                    "AUTHOR": "JK Rowling",
                                    "PRICE": "199",
                                    "RATING": "5"
                                },
                                {
                                    "TITLE": "accursed-child",
                                    "AUTHOR": "JK Rowling",
                                    "PRICE": "199",
                                    "RATING": "2"
                                }
                            ]
                        },
                        "text/html": [
                            "<table>",
                            "<tr><th>TITLE</th><th>AUTHOR</th><th>PRICE</th><th>RATING</th></tr>",
                            "<tr><td>the-accursed-god</td><td>Vivek Dutta Mishra</td><td>399</td><td>5</td></tr>",
                            "<tr><td>kane-and-abel</td><td>Jeffrey Archer</td><td>499</td><td>4</td></tr>",
                            "<tr><td>harry-potter-1</td><td>JK Rowling</td><td>499</td><td>4</td></tr>",
                            "<tr><td>the-accursed-god</td><td>Vivek Dutta Mishra</td><td>399</td><td>4</td></tr>",
                            "<tr><td>the-accursed-god</td><td>Vivek Dutta Mishra</td><td>399</td><td>5</td></tr>",
                            "<tr><td>the-accursed-god</td><td>Vivek Dutta Mishra</td><td>399</td><td>4</td></tr>",
                            "<tr><td>harry-potter-2</td><td>JK Rowling</td><td>299</td><td>4</td></tr>",
                            "<tr><td>harry-potter-3</td><td>JK Rowling</td><td>499</td><td>4</td></tr>",
                            "<tr><td>harry-potter-4</td><td>JK Rowling</td><td>299</td><td>4</td></tr>",
                            "<tr><td>the-accursed-god</td><td>Vivek Dutta Mishra</td><td>399</td><td>4</td></tr>",
                            "<tr><td>the-accursed-god</td><td>Vivek Dutta Mishra</td><td>399</td><td>4</td></tr>",
                            "<tr><td>harry-potter-1</td><td>JK Rowling</td><td>499</td><td>4</td></tr>",
                            "<tr><td>harry-potter-1</td><td>JK Rowling</td><td>499</td><td>5</td></tr>",
                            "<tr><td>harry-potter-1</td><td>JK Rowling</td><td>499</td><td>5</td></tr>",
                            "<tr><td>harry-potter-1</td><td>JK Rowling</td><td>499</td><td>4</td></tr>",
                            "<tr><td>harry-potter-1</td><td>JK Rowling</td><td>499</td><td>3</td></tr>",
                            "<tr><td>the-accursed-god</td><td>Vivek Dutta Mishra</td><td>399</td><td>4</td></tr>",
                            "<tr><td>harry-potter-1</td><td>JK Rowling</td><td>499</td><td>4</td></tr>",
                            "<tr><td>harry-potter-5</td><td>JK Rowling</td><td>599</td><td>5</td></tr>",
                            "<tr><td>harry-potter-6</td><td>JK Rowling</td><td>699</td><td>5</td></tr>",
                            "<tr><td>harry-potter-7</td><td>JK Rowling</td><td>599</td><td>3</td></tr>",
                            "<tr><td>harry-potter-7</td><td>JK Rowling</td><td>599</td><td>4</td></tr>",
                            "<tr><td>harry-potter-7</td><td>JK Rowling</td><td>599</td><td>5</td></tr>",
                            "<tr><td>harry-potter-7</td><td>JK Rowling</td><td>599</td><td>5</td></tr>",
                            "<tr><td>harry-potter-6</td><td>JK Rowling</td><td>699</td><td>5</td></tr>",
                            "<tr><td>harry-potter-6</td><td>JK Rowling</td><td>699</td><td>5</td></tr>",
                            "<tr><td>harry-potter-3</td><td>JK Rowling</td><td>499</td><td>4</td></tr>",
                            "<tr><td>manas</td><td>Vivek Dutta Mishra</td><td>199</td><td>5</td></tr>",
                            "<tr><td>kurukshetra</td><td>Ramdhari Singh Dinkar</td><td>99</td><td>4</td></tr>",
                            "<tr><td>kurukshetra</td><td>Ramdhari Singh Dinkar</td><td>99</td><td>4</td></tr>",
                            "<tr><td>manas</td><td>Vivek Dutta Mishra</td><td>199</td><td>5</td></tr>",
                            "<tr><td>manas</td><td>Vivek Dutta Mishra</td><td>199</td><td>4</td></tr>",
                            "<tr><td>manas</td><td>Vivek Dutta Mishra</td><td>199</td><td>4</td></tr>",
                            "<tr><td>accursed-child</td><td>JK Rowling</td><td>199</td><td>5</td></tr>",
                            "<tr><td>accursed-child</td><td>JK Rowling</td><td>199</td><td>2</td></tr>",
                            "</table>"
                        ]
                    }
                }
            ],
            "execution_count": 18
        },
        {
            "cell_type": "markdown",
            "source": [
                "### Why do we have lesser rows\n",
                "\n",
                "1.  Reviews includes reviews of to book\\_id's which are invalid\n",
                "\n",
                "> 1.  harry-potter-8  : There is no such book\n",
                "> 2. rashmirathi: This is a typo id: book book's table has a type in the id\n",
                "\n",
                "- <span style=\"font-size: 14px;\">Let us fix the second mistake and recheck</span>"
            ],
            "metadata": {
                "language": "sql",
                "azdata_cell_guid": "849bc8f3-27a2-46bb-b2a0-73305bfb2bb6"
            },
            "attachments": {}
        },
        {
            "cell_type": "code",
            "source": [
                "UPDATE BOOKS\r\n",
                "SET ID='rashmirathi'\r\n",
                "where ID='rasmirathi'"
            ],
            "metadata": {
                "language": "sql",
                "azdata_cell_guid": "c4585aa0-aa1f-4b43-a0dd-19761fc18bb3"
            },
            "outputs": [
                {
                    "output_type": "display_data",
                    "data": {
                        "text/html": "(1 row affected)"
                    },
                    "metadata": {}
                },
                {
                    "output_type": "display_data",
                    "data": {
                        "text/html": "Total execution time: 00:00:00.013"
                    },
                    "metadata": {}
                }
            ],
            "execution_count": 19
        },
        {
            "cell_type": "code",
            "source": [
                "SELECT \r\n",
                "    BOOK_ID,\r\n",
                "    TITLE,\r\n",
                "    AUTHOR,\r\n",
                "    PRICE,\r\n",
                "    RATING\r\n",
                "FROM\r\n",
                "    BOOKS,\r\n",
                "    REVIEWS\r\n",
                "WHERE\r\n",
                "    BOOKS.ID=BOOK_ID"
            ],
            "metadata": {
                "language": "sql",
                "azdata_cell_guid": "88aa96fa-547a-4caa-91ca-f97481fda3c8"
            },
            "outputs": [
                {
                    "output_type": "display_data",
                    "data": {
                        "text/html": "(41 rows affected)"
                    },
                    "metadata": {}
                },
                {
                    "output_type": "display_data",
                    "data": {
                        "text/html": "Total execution time: 00:00:00.014"
                    },
                    "metadata": {}
                },
                {
                    "output_type": "execute_result",
                    "metadata": {},
                    "execution_count": 21,
                    "data": {
                        "application/vnd.dataresource+json": {
                            "schema": {
                                "fields": [
                                    {
                                        "name": "BOOK_ID"
                                    },
                                    {
                                        "name": "TITLE"
                                    },
                                    {
                                        "name": "AUTHOR"
                                    },
                                    {
                                        "name": "PRICE"
                                    },
                                    {
                                        "name": "RATING"
                                    }
                                ]
                            },
                            "data": [
                                {
                                    "BOOK_ID": "the-accursed-god",
                                    "TITLE": "The Accursed God",
                                    "AUTHOR": "Vivek Dutta Mishra",
                                    "PRICE": "399",
                                    "RATING": "5"
                                },
                                {
                                    "BOOK_ID": "rashmirathi",
                                    "TITLE": "Rashmirathi",
                                    "AUTHOR": "Ramdhari Singh Dinkar",
                                    "PRICE": "99",
                                    "RATING": "5"
                                },
                                {
                                    "BOOK_ID": "kane-and-abel",
                                    "TITLE": "Kane and Abel",
                                    "AUTHOR": "Jeffrey Archer",
                                    "PRICE": "499",
                                    "RATING": "4"
                                },
                                {
                                    "BOOK_ID": "harry-potter-1",
                                    "TITLE": "Harry Potter, And the Philosophers stone",
                                    "AUTHOR": "JK Rowling",
                                    "PRICE": "499",
                                    "RATING": "4"
                                },
                                {
                                    "BOOK_ID": "rashmirathi",
                                    "TITLE": "Rashmirathi",
                                    "AUTHOR": "Ramdhari Singh Dinkar",
                                    "PRICE": "99",
                                    "RATING": "3"
                                },
                                {
                                    "BOOK_ID": "the-accursed-god",
                                    "TITLE": "The Accursed God",
                                    "AUTHOR": "Vivek Dutta Mishra",
                                    "PRICE": "399",
                                    "RATING": "4"
                                },
                                {
                                    "BOOK_ID": "the-accursed-god",
                                    "TITLE": "The Accursed God",
                                    "AUTHOR": "Vivek Dutta Mishra",
                                    "PRICE": "399",
                                    "RATING": "5"
                                },
                                {
                                    "BOOK_ID": "rashmirathi",
                                    "TITLE": "Rashmirathi",
                                    "AUTHOR": "Ramdhari Singh Dinkar",
                                    "PRICE": "99",
                                    "RATING": "5"
                                },
                                {
                                    "BOOK_ID": "the-accursed-god",
                                    "TITLE": "The Accursed God",
                                    "AUTHOR": "Vivek Dutta Mishra",
                                    "PRICE": "399",
                                    "RATING": "4"
                                },
                                {
                                    "BOOK_ID": "harry-potter-2",
                                    "TITLE": "Harry Potter and the chamber of secrets",
                                    "AUTHOR": "JK Rowling",
                                    "PRICE": "299",
                                    "RATING": "4"
                                },
                                {
                                    "BOOK_ID": "harry-potter-3",
                                    "TITLE": "Harry Potter, And the Prisoner of Asbakan",
                                    "AUTHOR": "JK Rowling",
                                    "PRICE": "499",
                                    "RATING": "4"
                                },
                                {
                                    "BOOK_ID": "harry-potter-4",
                                    "TITLE": "Harry Potter and the goblet of fire",
                                    "AUTHOR": "JK Rowling",
                                    "PRICE": "299",
                                    "RATING": "4"
                                },
                                {
                                    "BOOK_ID": "the-accursed-god",
                                    "TITLE": "The Accursed God",
                                    "AUTHOR": "Vivek Dutta Mishra",
                                    "PRICE": "399",
                                    "RATING": "4"
                                },
                                {
                                    "BOOK_ID": "rashmirathi",
                                    "TITLE": "Rashmirathi",
                                    "AUTHOR": "Ramdhari Singh Dinkar",
                                    "PRICE": "99",
                                    "RATING": "5"
                                },
                                {
                                    "BOOK_ID": "the-accursed-god",
                                    "TITLE": "The Accursed God",
                                    "AUTHOR": "Vivek Dutta Mishra",
                                    "PRICE": "399",
                                    "RATING": "4"
                                },
                                {
                                    "BOOK_ID": "harry-potter-1",
                                    "TITLE": "Harry Potter, And the Philosophers stone",
                                    "AUTHOR": "JK Rowling",
                                    "PRICE": "499",
                                    "RATING": "4"
                                },
                                {
                                    "BOOK_ID": "harry-potter-1",
                                    "TITLE": "Harry Potter, And the Philosophers stone",
                                    "AUTHOR": "JK Rowling",
                                    "PRICE": "499",
                                    "RATING": "5"
                                },
                                {
                                    "BOOK_ID": "harry-potter-1",
                                    "TITLE": "Harry Potter, And the Philosophers stone",
                                    "AUTHOR": "JK Rowling",
                                    "PRICE": "499",
                                    "RATING": "5"
                                },
                                {
                                    "BOOK_ID": "harry-potter-1",
                                    "TITLE": "Harry Potter, And the Philosophers stone",
                                    "AUTHOR": "JK Rowling",
                                    "PRICE": "499",
                                    "RATING": "4"
                                },
                                {
                                    "BOOK_ID": "harry-potter-1",
                                    "TITLE": "Harry Potter, And the Philosophers stone",
                                    "AUTHOR": "JK Rowling",
                                    "PRICE": "499",
                                    "RATING": "3"
                                },
                                {
                                    "BOOK_ID": "the-accursed-god",
                                    "TITLE": "The Accursed God",
                                    "AUTHOR": "Vivek Dutta Mishra",
                                    "PRICE": "399",
                                    "RATING": "4"
                                },
                                {
                                    "BOOK_ID": "harry-potter-1",
                                    "TITLE": "Harry Potter, And the Philosophers stone",
                                    "AUTHOR": "JK Rowling",
                                    "PRICE": "499",
                                    "RATING": "4"
                                },
                                {
                                    "BOOK_ID": "harry-potter-5",
                                    "TITLE": "Harry Potter, And the Order of Phoinix",
                                    "AUTHOR": "JK Rowling",
                                    "PRICE": "599",
                                    "RATING": "5"
                                },
                                {
                                    "BOOK_ID": "harry-potter-6",
                                    "TITLE": "Harry Potter and the half blood prince",
                                    "AUTHOR": "JK Rowling",
                                    "PRICE": "699",
                                    "RATING": "5"
                                },
                                {
                                    "BOOK_ID": "harry-potter-7",
                                    "TITLE": "Harry Potter and the deathly hollows",
                                    "AUTHOR": "JK Rowling",
                                    "PRICE": "599",
                                    "RATING": "3"
                                },
                                {
                                    "BOOK_ID": "harry-potter-7",
                                    "TITLE": "Harry Potter and the deathly hollows",
                                    "AUTHOR": "JK Rowling",
                                    "PRICE": "599",
                                    "RATING": "4"
                                },
                                {
                                    "BOOK_ID": "harry-potter-7",
                                    "TITLE": "Harry Potter and the deathly hollows",
                                    "AUTHOR": "JK Rowling",
                                    "PRICE": "599",
                                    "RATING": "5"
                                },
                                {
                                    "BOOK_ID": "harry-potter-7",
                                    "TITLE": "Harry Potter and the deathly hollows",
                                    "AUTHOR": "JK Rowling",
                                    "PRICE": "599",
                                    "RATING": "5"
                                },
                                {
                                    "BOOK_ID": "harry-potter-6",
                                    "TITLE": "Harry Potter and the half blood prince",
                                    "AUTHOR": "JK Rowling",
                                    "PRICE": "699",
                                    "RATING": "5"
                                },
                                {
                                    "BOOK_ID": "harry-potter-6",
                                    "TITLE": "Harry Potter and the half blood prince",
                                    "AUTHOR": "JK Rowling",
                                    "PRICE": "699",
                                    "RATING": "5"
                                },
                                {
                                    "BOOK_ID": "harry-potter-3",
                                    "TITLE": "Harry Potter, And the Prisoner of Asbakan",
                                    "AUTHOR": "JK Rowling",
                                    "PRICE": "499",
                                    "RATING": "4"
                                },
                                {
                                    "BOOK_ID": "manas",
                                    "TITLE": "Manas",
                                    "AUTHOR": "Vivek Dutta Mishra",
                                    "PRICE": "199",
                                    "RATING": "5"
                                },
                                {
                                    "BOOK_ID": "kurukshetra",
                                    "TITLE": "Kurukshetra",
                                    "AUTHOR": "Ramdhari Singh Dinkar",
                                    "PRICE": "99",
                                    "RATING": "4"
                                },
                                {
                                    "BOOK_ID": "kurukshetra",
                                    "TITLE": "Kurukshetra",
                                    "AUTHOR": "Ramdhari Singh Dinkar",
                                    "PRICE": "99",
                                    "RATING": "4"
                                },
                                {
                                    "BOOK_ID": "rashmirathi",
                                    "TITLE": "Rashmirathi",
                                    "AUTHOR": "Ramdhari Singh Dinkar",
                                    "PRICE": "99",
                                    "RATING": "5"
                                },
                                {
                                    "BOOK_ID": "manas",
                                    "TITLE": "Manas",
                                    "AUTHOR": "Vivek Dutta Mishra",
                                    "PRICE": "199",
                                    "RATING": "5"
                                },
                                {
                                    "BOOK_ID": "manas",
                                    "TITLE": "Manas",
                                    "AUTHOR": "Vivek Dutta Mishra",
                                    "PRICE": "199",
                                    "RATING": "4"
                                },
                                {
                                    "BOOK_ID": "manas",
                                    "TITLE": "Manas",
                                    "AUTHOR": "Vivek Dutta Mishra",
                                    "PRICE": "199",
                                    "RATING": "4"
                                },
                                {
                                    "BOOK_ID": "rashmirathi",
                                    "TITLE": "Rashmirathi",
                                    "AUTHOR": "Ramdhari Singh Dinkar",
                                    "PRICE": "99",
                                    "RATING": "5"
                                },
                                {
                                    "BOOK_ID": "accursed-child",
                                    "TITLE": "The Accursed Child",
                                    "AUTHOR": "JK Rowling",
                                    "PRICE": "199",
                                    "RATING": "5"
                                },
                                {
                                    "BOOK_ID": "accursed-child",
                                    "TITLE": "The Accursed Child",
                                    "AUTHOR": "JK Rowling",
                                    "PRICE": "199",
                                    "RATING": "2"
                                }
                            ]
                        },
                        "text/html": [
                            "<table>",
                            "<tr><th>BOOK_ID</th><th>TITLE</th><th>AUTHOR</th><th>PRICE</th><th>RATING</th></tr>",
                            "<tr><td>the-accursed-god</td><td>The Accursed God</td><td>Vivek Dutta Mishra</td><td>399</td><td>5</td></tr>",
                            "<tr><td>rashmirathi</td><td>Rashmirathi</td><td>Ramdhari Singh Dinkar</td><td>99</td><td>5</td></tr>",
                            "<tr><td>kane-and-abel</td><td>Kane and Abel</td><td>Jeffrey Archer</td><td>499</td><td>4</td></tr>",
                            "<tr><td>harry-potter-1</td><td>Harry Potter, And the Philosophers stone</td><td>JK Rowling</td><td>499</td><td>4</td></tr>",
                            "<tr><td>rashmirathi</td><td>Rashmirathi</td><td>Ramdhari Singh Dinkar</td><td>99</td><td>3</td></tr>",
                            "<tr><td>the-accursed-god</td><td>The Accursed God</td><td>Vivek Dutta Mishra</td><td>399</td><td>4</td></tr>",
                            "<tr><td>the-accursed-god</td><td>The Accursed God</td><td>Vivek Dutta Mishra</td><td>399</td><td>5</td></tr>",
                            "<tr><td>rashmirathi</td><td>Rashmirathi</td><td>Ramdhari Singh Dinkar</td><td>99</td><td>5</td></tr>",
                            "<tr><td>the-accursed-god</td><td>The Accursed God</td><td>Vivek Dutta Mishra</td><td>399</td><td>4</td></tr>",
                            "<tr><td>harry-potter-2</td><td>Harry Potter and the chamber of secrets</td><td>JK Rowling</td><td>299</td><td>4</td></tr>",
                            "<tr><td>harry-potter-3</td><td>Harry Potter, And the Prisoner of Asbakan</td><td>JK Rowling</td><td>499</td><td>4</td></tr>",
                            "<tr><td>harry-potter-4</td><td>Harry Potter and the goblet of fire</td><td>JK Rowling</td><td>299</td><td>4</td></tr>",
                            "<tr><td>the-accursed-god</td><td>The Accursed God</td><td>Vivek Dutta Mishra</td><td>399</td><td>4</td></tr>",
                            "<tr><td>rashmirathi</td><td>Rashmirathi</td><td>Ramdhari Singh Dinkar</td><td>99</td><td>5</td></tr>",
                            "<tr><td>the-accursed-god</td><td>The Accursed God</td><td>Vivek Dutta Mishra</td><td>399</td><td>4</td></tr>",
                            "<tr><td>harry-potter-1</td><td>Harry Potter, And the Philosophers stone</td><td>JK Rowling</td><td>499</td><td>4</td></tr>",
                            "<tr><td>harry-potter-1</td><td>Harry Potter, And the Philosophers stone</td><td>JK Rowling</td><td>499</td><td>5</td></tr>",
                            "<tr><td>harry-potter-1</td><td>Harry Potter, And the Philosophers stone</td><td>JK Rowling</td><td>499</td><td>5</td></tr>",
                            "<tr><td>harry-potter-1</td><td>Harry Potter, And the Philosophers stone</td><td>JK Rowling</td><td>499</td><td>4</td></tr>",
                            "<tr><td>harry-potter-1</td><td>Harry Potter, And the Philosophers stone</td><td>JK Rowling</td><td>499</td><td>3</td></tr>",
                            "<tr><td>the-accursed-god</td><td>The Accursed God</td><td>Vivek Dutta Mishra</td><td>399</td><td>4</td></tr>",
                            "<tr><td>harry-potter-1</td><td>Harry Potter, And the Philosophers stone</td><td>JK Rowling</td><td>499</td><td>4</td></tr>",
                            "<tr><td>harry-potter-5</td><td>Harry Potter, And the Order of Phoinix</td><td>JK Rowling</td><td>599</td><td>5</td></tr>",
                            "<tr><td>harry-potter-6</td><td>Harry Potter and the half blood prince</td><td>JK Rowling</td><td>699</td><td>5</td></tr>",
                            "<tr><td>harry-potter-7</td><td>Harry Potter and the deathly hollows</td><td>JK Rowling</td><td>599</td><td>3</td></tr>",
                            "<tr><td>harry-potter-7</td><td>Harry Potter and the deathly hollows</td><td>JK Rowling</td><td>599</td><td>4</td></tr>",
                            "<tr><td>harry-potter-7</td><td>Harry Potter and the deathly hollows</td><td>JK Rowling</td><td>599</td><td>5</td></tr>",
                            "<tr><td>harry-potter-7</td><td>Harry Potter and the deathly hollows</td><td>JK Rowling</td><td>599</td><td>5</td></tr>",
                            "<tr><td>harry-potter-6</td><td>Harry Potter and the half blood prince</td><td>JK Rowling</td><td>699</td><td>5</td></tr>",
                            "<tr><td>harry-potter-6</td><td>Harry Potter and the half blood prince</td><td>JK Rowling</td><td>699</td><td>5</td></tr>",
                            "<tr><td>harry-potter-3</td><td>Harry Potter, And the Prisoner of Asbakan</td><td>JK Rowling</td><td>499</td><td>4</td></tr>",
                            "<tr><td>manas</td><td>Manas</td><td>Vivek Dutta Mishra</td><td>199</td><td>5</td></tr>",
                            "<tr><td>kurukshetra</td><td>Kurukshetra</td><td>Ramdhari Singh Dinkar</td><td>99</td><td>4</td></tr>",
                            "<tr><td>kurukshetra</td><td>Kurukshetra</td><td>Ramdhari Singh Dinkar</td><td>99</td><td>4</td></tr>",
                            "<tr><td>rashmirathi</td><td>Rashmirathi</td><td>Ramdhari Singh Dinkar</td><td>99</td><td>5</td></tr>",
                            "<tr><td>manas</td><td>Manas</td><td>Vivek Dutta Mishra</td><td>199</td><td>5</td></tr>",
                            "<tr><td>manas</td><td>Manas</td><td>Vivek Dutta Mishra</td><td>199</td><td>4</td></tr>",
                            "<tr><td>manas</td><td>Manas</td><td>Vivek Dutta Mishra</td><td>199</td><td>4</td></tr>",
                            "<tr><td>rashmirathi</td><td>Rashmirathi</td><td>Ramdhari Singh Dinkar</td><td>99</td><td>5</td></tr>",
                            "<tr><td>accursed-child</td><td>The Accursed Child</td><td>JK Rowling</td><td>199</td><td>5</td></tr>",
                            "<tr><td>accursed-child</td><td>The Accursed Child</td><td>JK Rowling</td><td>199</td><td>2</td></tr>",
                            "</table>"
                        ]
                    }
                }
            ],
            "execution_count": 21
        },
        {
            "cell_type": "markdown",
            "source": [
                "### FIND ALL REVIEWS OF BOOKS BY JK ROWLING"
            ],
            "metadata": {
                "language": "sql",
                "azdata_cell_guid": "8228efff-7c44-49be-a634-c5f309d39534"
            },
            "attachments": {}
        },
        {
            "cell_type": "code",
            "source": [
                "SELECT\r\n",
                "    TITLE,\r\n",
                "    AUTHOR,\r\n",
                "    RATING\r\n",
                "FROM\r\n",
                "    BOOKS as b,\r\n",
                "    REVIEWS\r\n",
                "WHERE\r\n",
                "    b.ID=book_id\r\n",
                "    AND\r\n",
                "    AUTHOR LIKE '%Rowling'\r\n",
                "\r\n",
                "\r\n",
                "\r\n",
                "\r\n",
                "\r\n",
                "\r\n",
                "\r\n",
                ""
            ],
            "metadata": {
                "language": "sql",
                "azdata_cell_guid": "78abc181-d810-4dfb-af3f-edaa65bc695b"
            },
            "outputs": [
                {
                    "output_type": "display_data",
                    "data": {
                        "text/html": "(21 rows affected)"
                    },
                    "metadata": {}
                },
                {
                    "output_type": "display_data",
                    "data": {
                        "text/html": "Total execution time: 00:00:00.007"
                    },
                    "metadata": {}
                },
                {
                    "output_type": "execute_result",
                    "metadata": {},
                    "execution_count": 22,
                    "data": {
                        "application/vnd.dataresource+json": {
                            "schema": {
                                "fields": [
                                    {
                                        "name": "TITLE"
                                    },
                                    {
                                        "name": "AUTHOR"
                                    },
                                    {
                                        "name": "RATING"
                                    }
                                ]
                            },
                            "data": [
                                {
                                    "TITLE": "Harry Potter, And the Philosophers stone",
                                    "AUTHOR": "JK Rowling",
                                    "RATING": "4"
                                },
                                {
                                    "TITLE": "Harry Potter and the chamber of secrets",
                                    "AUTHOR": "JK Rowling",
                                    "RATING": "4"
                                },
                                {
                                    "TITLE": "Harry Potter, And the Prisoner of Asbakan",
                                    "AUTHOR": "JK Rowling",
                                    "RATING": "4"
                                },
                                {
                                    "TITLE": "Harry Potter and the goblet of fire",
                                    "AUTHOR": "JK Rowling",
                                    "RATING": "4"
                                },
                                {
                                    "TITLE": "Harry Potter, And the Philosophers stone",
                                    "AUTHOR": "JK Rowling",
                                    "RATING": "4"
                                },
                                {
                                    "TITLE": "Harry Potter, And the Philosophers stone",
                                    "AUTHOR": "JK Rowling",
                                    "RATING": "5"
                                },
                                {
                                    "TITLE": "Harry Potter, And the Philosophers stone",
                                    "AUTHOR": "JK Rowling",
                                    "RATING": "5"
                                },
                                {
                                    "TITLE": "Harry Potter, And the Philosophers stone",
                                    "AUTHOR": "JK Rowling",
                                    "RATING": "4"
                                },
                                {
                                    "TITLE": "Harry Potter, And the Philosophers stone",
                                    "AUTHOR": "JK Rowling",
                                    "RATING": "3"
                                },
                                {
                                    "TITLE": "Harry Potter, And the Philosophers stone",
                                    "AUTHOR": "JK Rowling",
                                    "RATING": "4"
                                },
                                {
                                    "TITLE": "Harry Potter, And the Order of Phoinix",
                                    "AUTHOR": "JK Rowling",
                                    "RATING": "5"
                                },
                                {
                                    "TITLE": "Harry Potter and the half blood prince",
                                    "AUTHOR": "JK Rowling",
                                    "RATING": "5"
                                },
                                {
                                    "TITLE": "Harry Potter and the deathly hollows",
                                    "AUTHOR": "JK Rowling",
                                    "RATING": "3"
                                },
                                {
                                    "TITLE": "Harry Potter and the deathly hollows",
                                    "AUTHOR": "JK Rowling",
                                    "RATING": "4"
                                },
                                {
                                    "TITLE": "Harry Potter and the deathly hollows",
                                    "AUTHOR": "JK Rowling",
                                    "RATING": "5"
                                },
                                {
                                    "TITLE": "Harry Potter and the deathly hollows",
                                    "AUTHOR": "JK Rowling",
                                    "RATING": "5"
                                },
                                {
                                    "TITLE": "Harry Potter and the half blood prince",
                                    "AUTHOR": "JK Rowling",
                                    "RATING": "5"
                                },
                                {
                                    "TITLE": "Harry Potter and the half blood prince",
                                    "AUTHOR": "JK Rowling",
                                    "RATING": "5"
                                },
                                {
                                    "TITLE": "Harry Potter, And the Prisoner of Asbakan",
                                    "AUTHOR": "JK Rowling",
                                    "RATING": "4"
                                },
                                {
                                    "TITLE": "The Accursed Child",
                                    "AUTHOR": "JK Rowling",
                                    "RATING": "5"
                                },
                                {
                                    "TITLE": "The Accursed Child",
                                    "AUTHOR": "JK Rowling",
                                    "RATING": "2"
                                }
                            ]
                        },
                        "text/html": [
                            "<table>",
                            "<tr><th>TITLE</th><th>AUTHOR</th><th>RATING</th></tr>",
                            "<tr><td>Harry Potter, And the Philosophers stone</td><td>JK Rowling</td><td>4</td></tr>",
                            "<tr><td>Harry Potter and the chamber of secrets</td><td>JK Rowling</td><td>4</td></tr>",
                            "<tr><td>Harry Potter, And the Prisoner of Asbakan</td><td>JK Rowling</td><td>4</td></tr>",
                            "<tr><td>Harry Potter and the goblet of fire</td><td>JK Rowling</td><td>4</td></tr>",
                            "<tr><td>Harry Potter, And the Philosophers stone</td><td>JK Rowling</td><td>4</td></tr>",
                            "<tr><td>Harry Potter, And the Philosophers stone</td><td>JK Rowling</td><td>5</td></tr>",
                            "<tr><td>Harry Potter, And the Philosophers stone</td><td>JK Rowling</td><td>5</td></tr>",
                            "<tr><td>Harry Potter, And the Philosophers stone</td><td>JK Rowling</td><td>4</td></tr>",
                            "<tr><td>Harry Potter, And the Philosophers stone</td><td>JK Rowling</td><td>3</td></tr>",
                            "<tr><td>Harry Potter, And the Philosophers stone</td><td>JK Rowling</td><td>4</td></tr>",
                            "<tr><td>Harry Potter, And the Order of Phoinix</td><td>JK Rowling</td><td>5</td></tr>",
                            "<tr><td>Harry Potter and the half blood prince</td><td>JK Rowling</td><td>5</td></tr>",
                            "<tr><td>Harry Potter and the deathly hollows</td><td>JK Rowling</td><td>3</td></tr>",
                            "<tr><td>Harry Potter and the deathly hollows</td><td>JK Rowling</td><td>4</td></tr>",
                            "<tr><td>Harry Potter and the deathly hollows</td><td>JK Rowling</td><td>5</td></tr>",
                            "<tr><td>Harry Potter and the deathly hollows</td><td>JK Rowling</td><td>5</td></tr>",
                            "<tr><td>Harry Potter and the half blood prince</td><td>JK Rowling</td><td>5</td></tr>",
                            "<tr><td>Harry Potter and the half blood prince</td><td>JK Rowling</td><td>5</td></tr>",
                            "<tr><td>Harry Potter, And the Prisoner of Asbakan</td><td>JK Rowling</td><td>4</td></tr>",
                            "<tr><td>The Accursed Child</td><td>JK Rowling</td><td>5</td></tr>",
                            "<tr><td>The Accursed Child</td><td>JK Rowling</td><td>2</td></tr>",
                            "</table>"
                        ]
                    }
                }
            ],
            "execution_count": 22
        },
        {
            "cell_type": "markdown",
            "source": [
                "### CLOSER LOOK AT WHERE\n",
                "\n",
                "- Here we have two conditions mentioned in where\n",
                "\n",
                "1. author like '%Rowling'\n",
                "- This is a real filtering condition to find out which records we are interested in.\n",
                "- If we had only one table with all info, this would be the only condition.\n",
                "3. b.id=book\\_id\n",
                "- This is NOT a search/filtering condition\n",
                "- It is present to **Join** rows from two different tables\n",
                "- \n",
                "\n",
                "- <span style=\"color: var(--vscode-foreground);\">While where can work in both these cases, where is meant for first use case only</span>\n",
                "- <span style=\"color: var(--vscode-foreground);\">To Join tables properly we should be using <b>Join</b></span>\n",
                "- \n",
                "\n",
                "# <span style=\"color: var(--vscode-foreground);\">join</span>\n",
                "\n",
                "- It is meant to specify the condition for joining the two tables\n",
                "- while we can work with where, this is the preferred mechanism."
            ],
            "metadata": {
                "language": "sql",
                "azdata_cell_guid": "00cf4744-d39c-4c1c-a9c8-dc285b383bcc"
            },
            "attachments": {}
        },
        {
            "cell_type": "code",
            "source": [
                "SELECT\r\n",
                "    \r\n",
                "    TITLE,\r\n",
                "    AUTHOR,\r\n",
                "   \r\n",
                "    RATING\r\n",
                "FROM \r\n",
                "    BOOKS as b\r\n",
                "JOIN\r\n",
                "    REVIEWS \r\n",
                "ON\r\n",
                "    b.id=book_id\r\n",
                "WHERE\r\n",
                "    AUTHOR LIKE 'Vivek%'\r\n",
                ""
            ],
            "metadata": {
                "language": "sql",
                "azdata_cell_guid": "6be80c8a-3d51-4605-87b4-08001b722d48"
            },
            "outputs": [
                {
                    "output_type": "display_data",
                    "data": {
                        "text/html": "(11 rows affected)"
                    },
                    "metadata": {}
                },
                {
                    "output_type": "display_data",
                    "data": {
                        "text/html": "Total execution time: 00:00:00.016"
                    },
                    "metadata": {}
                },
                {
                    "output_type": "execute_result",
                    "metadata": {},
                    "execution_count": 26,
                    "data": {
                        "application/vnd.dataresource+json": {
                            "schema": {
                                "fields": [
                                    {
                                        "name": "TITLE"
                                    },
                                    {
                                        "name": "AUTHOR"
                                    },
                                    {
                                        "name": "RATING"
                                    }
                                ]
                            },
                            "data": [
                                {
                                    "TITLE": "The Accursed God",
                                    "AUTHOR": "Vivek Dutta Mishra",
                                    "RATING": "5"
                                },
                                {
                                    "TITLE": "The Accursed God",
                                    "AUTHOR": "Vivek Dutta Mishra",
                                    "RATING": "4"
                                },
                                {
                                    "TITLE": "The Accursed God",
                                    "AUTHOR": "Vivek Dutta Mishra",
                                    "RATING": "5"
                                },
                                {
                                    "TITLE": "The Accursed God",
                                    "AUTHOR": "Vivek Dutta Mishra",
                                    "RATING": "4"
                                },
                                {
                                    "TITLE": "The Accursed God",
                                    "AUTHOR": "Vivek Dutta Mishra",
                                    "RATING": "4"
                                },
                                {
                                    "TITLE": "The Accursed God",
                                    "AUTHOR": "Vivek Dutta Mishra",
                                    "RATING": "4"
                                },
                                {
                                    "TITLE": "The Accursed God",
                                    "AUTHOR": "Vivek Dutta Mishra",
                                    "RATING": "4"
                                },
                                {
                                    "TITLE": "Manas",
                                    "AUTHOR": "Vivek Dutta Mishra",
                                    "RATING": "5"
                                },
                                {
                                    "TITLE": "Manas",
                                    "AUTHOR": "Vivek Dutta Mishra",
                                    "RATING": "5"
                                },
                                {
                                    "TITLE": "Manas",
                                    "AUTHOR": "Vivek Dutta Mishra",
                                    "RATING": "4"
                                },
                                {
                                    "TITLE": "Manas",
                                    "AUTHOR": "Vivek Dutta Mishra",
                                    "RATING": "4"
                                }
                            ]
                        },
                        "text/html": [
                            "<table>",
                            "<tr><th>TITLE</th><th>AUTHOR</th><th>RATING</th></tr>",
                            "<tr><td>The Accursed God</td><td>Vivek Dutta Mishra</td><td>5</td></tr>",
                            "<tr><td>The Accursed God</td><td>Vivek Dutta Mishra</td><td>4</td></tr>",
                            "<tr><td>The Accursed God</td><td>Vivek Dutta Mishra</td><td>5</td></tr>",
                            "<tr><td>The Accursed God</td><td>Vivek Dutta Mishra</td><td>4</td></tr>",
                            "<tr><td>The Accursed God</td><td>Vivek Dutta Mishra</td><td>4</td></tr>",
                            "<tr><td>The Accursed God</td><td>Vivek Dutta Mishra</td><td>4</td></tr>",
                            "<tr><td>The Accursed God</td><td>Vivek Dutta Mishra</td><td>4</td></tr>",
                            "<tr><td>Manas</td><td>Vivek Dutta Mishra</td><td>5</td></tr>",
                            "<tr><td>Manas</td><td>Vivek Dutta Mishra</td><td>5</td></tr>",
                            "<tr><td>Manas</td><td>Vivek Dutta Mishra</td><td>4</td></tr>",
                            "<tr><td>Manas</td><td>Vivek Dutta Mishra</td><td>4</td></tr>",
                            "</table>"
                        ]
                    }
                }
            ],
            "execution_count": 26
        },
        {
            "cell_type": "markdown",
            "source": [
                "## Left Outer Join"
            ],
            "metadata": {
                "language": "sql",
                "azdata_cell_guid": "7c4c8208-8a85-44c2-839f-965d960ddf42"
            },
            "attachments": {}
        },
        {
            "cell_type": "code",
            "source": [
                "SELECT \r\n",
                "    TITLE,\r\n",
                "    AUTHOR,\r\n",
                "    RATING\r\n",
                "FROM\r\n",
                "    BOOKS AS B\r\n",
                "LEFT JOIN\r\n",
                "    REVIEWS\r\n",
                "ON\r\n",
                "    B.ID=BOOK_ID\r\n",
                "WHERE\r\n",
                "    AUTHOR LIKE 'JOHN%'"
            ],
            "metadata": {
                "language": "sql",
                "azdata_cell_guid": "bb150330-6f08-48b3-b43f-39f1a01e40a6"
            },
            "outputs": [
                {
                    "output_type": "display_data",
                    "data": {
                        "text/html": "(2 rows affected)"
                    },
                    "metadata": {}
                },
                {
                    "output_type": "display_data",
                    "data": {
                        "text/html": "Total execution time: 00:00:00.006"
                    },
                    "metadata": {}
                },
                {
                    "output_type": "execute_result",
                    "metadata": {},
                    "execution_count": 30,
                    "data": {
                        "application/vnd.dataresource+json": {
                            "schema": {
                                "fields": [
                                    {
                                        "name": "TITLE"
                                    },
                                    {
                                        "name": "AUTHOR"
                                    },
                                    {
                                        "name": "RATING"
                                    }
                                ]
                            },
                            "data": [
                                {
                                    "TITLE": "Brethren",
                                    "AUTHOR": "John Grisham",
                                    "RATING": "NULL"
                                },
                                {
                                    "TITLE": "Summons",
                                    "AUTHOR": "John Grisham",
                                    "RATING": "NULL"
                                }
                            ]
                        },
                        "text/html": [
                            "<table>",
                            "<tr><th>TITLE</th><th>AUTHOR</th><th>RATING</th></tr>",
                            "<tr><td>Brethren</td><td>John Grisham</td><td>NULL</td></tr>",
                            "<tr><td>Summons</td><td>John Grisham</td><td>NULL</td></tr>",
                            "</table>"
                        ]
                    }
                }
            ],
            "execution_count": 30
        },
        {
            "cell_type": "markdown",
            "source": [
                "## Right Outer Join\n",
                "\n",
                "  \n",
                "\n",
                "- similar to left outer join but takes all values from the right\n",
                "    - even if there is no correspondence in the left\n",
                "    - empty values are filled with null\n",
                "- This is not as important as Left join for 2 reasons\n",
                "\n",
                "> 1.  right table is generally a child table which shouldn't have additional items\n",
                "> - It most of the time will have FK\n",
                "> - chances of additional item in right (not present in left) is very rare (mostly bad design)\n",
                ">     - It is possible to have a book that is not yet reviewed\n",
                ">     - will you have a review for a book that is not yet published?\n",
                "> \n",
                "> 3. If we really need we can swap the table order and use left join"
            ],
            "metadata": {
                "language": "sql",
                "azdata_cell_guid": "20ce1fc3-d547-4b2e-9b13-bfd69bbd249a"
            },
            "attachments": {}
        },
        {
            "cell_type": "code",
            "source": [
                "SELECT\r\n",
                "    TITLE,\r\n",
                "    BOOK_ID,\r\n",
                "    AUTHOR,\r\n",
                "    PRICE,\r\n",
                "    RATING\r\n",
                "FROM\r\n",
                "    BOOKS B\r\n",
                "RIGHT JOIN\r\n",
                "    REVIEWS\r\n",
                "ON\r\n",
                "    B.ID=BOOK_ID\r\n",
                "    "
            ],
            "metadata": {
                "language": "sql",
                "azdata_cell_guid": "30d36553-40a4-49ea-ab70-3d6f627cb48b"
            },
            "outputs": [
                {
                    "output_type": "display_data",
                    "data": {
                        "text/html": "(42 rows affected)"
                    },
                    "metadata": {}
                },
                {
                    "output_type": "display_data",
                    "data": {
                        "text/html": "Total execution time: 00:00:00.020"
                    },
                    "metadata": {}
                },
                {
                    "output_type": "execute_result",
                    "metadata": {},
                    "execution_count": 31,
                    "data": {
                        "application/vnd.dataresource+json": {
                            "schema": {
                                "fields": [
                                    {
                                        "name": "TITLE"
                                    },
                                    {
                                        "name": "BOOK_ID"
                                    },
                                    {
                                        "name": "AUTHOR"
                                    },
                                    {
                                        "name": "PRICE"
                                    },
                                    {
                                        "name": "RATING"
                                    }
                                ]
                            },
                            "data": [
                                {
                                    "TITLE": "The Accursed God",
                                    "BOOK_ID": "the-accursed-god",
                                    "AUTHOR": "Vivek Dutta Mishra",
                                    "PRICE": "399",
                                    "RATING": "5"
                                },
                                {
                                    "TITLE": "Rashmirathi",
                                    "BOOK_ID": "rashmirathi",
                                    "AUTHOR": "Ramdhari Singh Dinkar",
                                    "PRICE": "99",
                                    "RATING": "5"
                                },
                                {
                                    "TITLE": "Kane and Abel",
                                    "BOOK_ID": "kane-and-abel",
                                    "AUTHOR": "Jeffrey Archer",
                                    "PRICE": "499",
                                    "RATING": "4"
                                },
                                {
                                    "TITLE": "Harry Potter, And the Philosophers stone",
                                    "BOOK_ID": "harry-potter-1",
                                    "AUTHOR": "JK Rowling",
                                    "PRICE": "499",
                                    "RATING": "4"
                                },
                                {
                                    "TITLE": "Rashmirathi",
                                    "BOOK_ID": "rashmirathi",
                                    "AUTHOR": "Ramdhari Singh Dinkar",
                                    "PRICE": "99",
                                    "RATING": "3"
                                },
                                {
                                    "TITLE": "The Accursed God",
                                    "BOOK_ID": "the-accursed-god",
                                    "AUTHOR": "Vivek Dutta Mishra",
                                    "PRICE": "399",
                                    "RATING": "4"
                                },
                                {
                                    "TITLE": "The Accursed God",
                                    "BOOK_ID": "the-accursed-god",
                                    "AUTHOR": "Vivek Dutta Mishra",
                                    "PRICE": "399",
                                    "RATING": "5"
                                },
                                {
                                    "TITLE": "Rashmirathi",
                                    "BOOK_ID": "rashmirathi",
                                    "AUTHOR": "Ramdhari Singh Dinkar",
                                    "PRICE": "99",
                                    "RATING": "5"
                                },
                                {
                                    "TITLE": "The Accursed God",
                                    "BOOK_ID": "the-accursed-god",
                                    "AUTHOR": "Vivek Dutta Mishra",
                                    "PRICE": "399",
                                    "RATING": "4"
                                },
                                {
                                    "TITLE": "Harry Potter and the chamber of secrets",
                                    "BOOK_ID": "harry-potter-2",
                                    "AUTHOR": "JK Rowling",
                                    "PRICE": "299",
                                    "RATING": "4"
                                },
                                {
                                    "TITLE": "Harry Potter, And the Prisoner of Asbakan",
                                    "BOOK_ID": "harry-potter-3",
                                    "AUTHOR": "JK Rowling",
                                    "PRICE": "499",
                                    "RATING": "4"
                                },
                                {
                                    "TITLE": "Harry Potter and the goblet of fire",
                                    "BOOK_ID": "harry-potter-4",
                                    "AUTHOR": "JK Rowling",
                                    "PRICE": "299",
                                    "RATING": "4"
                                },
                                {
                                    "TITLE": "The Accursed God",
                                    "BOOK_ID": "the-accursed-god",
                                    "AUTHOR": "Vivek Dutta Mishra",
                                    "PRICE": "399",
                                    "RATING": "4"
                                },
                                {
                                    "TITLE": "Rashmirathi",
                                    "BOOK_ID": "rashmirathi",
                                    "AUTHOR": "Ramdhari Singh Dinkar",
                                    "PRICE": "99",
                                    "RATING": "5"
                                },
                                {
                                    "TITLE": "The Accursed God",
                                    "BOOK_ID": "the-accursed-god",
                                    "AUTHOR": "Vivek Dutta Mishra",
                                    "PRICE": "399",
                                    "RATING": "4"
                                },
                                {
                                    "TITLE": "Harry Potter, And the Philosophers stone",
                                    "BOOK_ID": "harry-potter-1",
                                    "AUTHOR": "JK Rowling",
                                    "PRICE": "499",
                                    "RATING": "4"
                                },
                                {
                                    "TITLE": "Harry Potter, And the Philosophers stone",
                                    "BOOK_ID": "harry-potter-1",
                                    "AUTHOR": "JK Rowling",
                                    "PRICE": "499",
                                    "RATING": "5"
                                },
                                {
                                    "TITLE": "Harry Potter, And the Philosophers stone",
                                    "BOOK_ID": "harry-potter-1",
                                    "AUTHOR": "JK Rowling",
                                    "PRICE": "499",
                                    "RATING": "5"
                                },
                                {
                                    "TITLE": "Harry Potter, And the Philosophers stone",
                                    "BOOK_ID": "harry-potter-1",
                                    "AUTHOR": "JK Rowling",
                                    "PRICE": "499",
                                    "RATING": "4"
                                },
                                {
                                    "TITLE": "Harry Potter, And the Philosophers stone",
                                    "BOOK_ID": "harry-potter-1",
                                    "AUTHOR": "JK Rowling",
                                    "PRICE": "499",
                                    "RATING": "3"
                                },
                                {
                                    "TITLE": "The Accursed God",
                                    "BOOK_ID": "the-accursed-god",
                                    "AUTHOR": "Vivek Dutta Mishra",
                                    "PRICE": "399",
                                    "RATING": "4"
                                },
                                {
                                    "TITLE": "Harry Potter, And the Philosophers stone",
                                    "BOOK_ID": "harry-potter-1",
                                    "AUTHOR": "JK Rowling",
                                    "PRICE": "499",
                                    "RATING": "4"
                                },
                                {
                                    "TITLE": "Harry Potter, And the Order of Phoinix",
                                    "BOOK_ID": "harry-potter-5",
                                    "AUTHOR": "JK Rowling",
                                    "PRICE": "599",
                                    "RATING": "5"
                                },
                                {
                                    "TITLE": "Harry Potter and the half blood prince",
                                    "BOOK_ID": "harry-potter-6",
                                    "AUTHOR": "JK Rowling",
                                    "PRICE": "699",
                                    "RATING": "5"
                                },
                                {
                                    "TITLE": "Harry Potter and the deathly hollows",
                                    "BOOK_ID": "harry-potter-7",
                                    "AUTHOR": "JK Rowling",
                                    "PRICE": "599",
                                    "RATING": "3"
                                },
                                {
                                    "TITLE": "NULL",
                                    "BOOK_ID": "harry-potter-8",
                                    "AUTHOR": "NULL",
                                    "PRICE": "NULL",
                                    "RATING": "3"
                                },
                                {
                                    "TITLE": "Harry Potter and the deathly hollows",
                                    "BOOK_ID": "harry-potter-7",
                                    "AUTHOR": "JK Rowling",
                                    "PRICE": "599",
                                    "RATING": "4"
                                },
                                {
                                    "TITLE": "Harry Potter and the deathly hollows",
                                    "BOOK_ID": "harry-potter-7",
                                    "AUTHOR": "JK Rowling",
                                    "PRICE": "599",
                                    "RATING": "5"
                                },
                                {
                                    "TITLE": "Harry Potter and the deathly hollows",
                                    "BOOK_ID": "harry-potter-7",
                                    "AUTHOR": "JK Rowling",
                                    "PRICE": "599",
                                    "RATING": "5"
                                },
                                {
                                    "TITLE": "Harry Potter and the half blood prince",
                                    "BOOK_ID": "harry-potter-6",
                                    "AUTHOR": "JK Rowling",
                                    "PRICE": "699",
                                    "RATING": "5"
                                },
                                {
                                    "TITLE": "Harry Potter and the half blood prince",
                                    "BOOK_ID": "harry-potter-6",
                                    "AUTHOR": "JK Rowling",
                                    "PRICE": "699",
                                    "RATING": "5"
                                },
                                {
                                    "TITLE": "Harry Potter, And the Prisoner of Asbakan",
                                    "BOOK_ID": "harry-potter-3",
                                    "AUTHOR": "JK Rowling",
                                    "PRICE": "499",
                                    "RATING": "4"
                                },
                                {
                                    "TITLE": "Manas",
                                    "BOOK_ID": "manas",
                                    "AUTHOR": "Vivek Dutta Mishra",
                                    "PRICE": "199",
                                    "RATING": "5"
                                },
                                {
                                    "TITLE": "Kurukshetra",
                                    "BOOK_ID": "kurukshetra",
                                    "AUTHOR": "Ramdhari Singh Dinkar",
                                    "PRICE": "99",
                                    "RATING": "4"
                                },
                                {
                                    "TITLE": "Kurukshetra",
                                    "BOOK_ID": "kurukshetra",
                                    "AUTHOR": "Ramdhari Singh Dinkar",
                                    "PRICE": "99",
                                    "RATING": "4"
                                },
                                {
                                    "TITLE": "Rashmirathi",
                                    "BOOK_ID": "rashmirathi",
                                    "AUTHOR": "Ramdhari Singh Dinkar",
                                    "PRICE": "99",
                                    "RATING": "5"
                                },
                                {
                                    "TITLE": "Manas",
                                    "BOOK_ID": "manas",
                                    "AUTHOR": "Vivek Dutta Mishra",
                                    "PRICE": "199",
                                    "RATING": "5"
                                },
                                {
                                    "TITLE": "Manas",
                                    "BOOK_ID": "manas",
                                    "AUTHOR": "Vivek Dutta Mishra",
                                    "PRICE": "199",
                                    "RATING": "4"
                                },
                                {
                                    "TITLE": "Manas",
                                    "BOOK_ID": "manas",
                                    "AUTHOR": "Vivek Dutta Mishra",
                                    "PRICE": "199",
                                    "RATING": "4"
                                },
                                {
                                    "TITLE": "Rashmirathi",
                                    "BOOK_ID": "rashmirathi",
                                    "AUTHOR": "Ramdhari Singh Dinkar",
                                    "PRICE": "99",
                                    "RATING": "5"
                                },
                                {
                                    "TITLE": "The Accursed Child",
                                    "BOOK_ID": "accursed-child",
                                    "AUTHOR": "JK Rowling",
                                    "PRICE": "199",
                                    "RATING": "5"
                                },
                                {
                                    "TITLE": "The Accursed Child",
                                    "BOOK_ID": "accursed-child",
                                    "AUTHOR": "JK Rowling",
                                    "PRICE": "199",
                                    "RATING": "2"
                                }
                            ]
                        },
                        "text/html": [
                            "<table>",
                            "<tr><th>TITLE</th><th>BOOK_ID</th><th>AUTHOR</th><th>PRICE</th><th>RATING</th></tr>",
                            "<tr><td>The Accursed God</td><td>the-accursed-god</td><td>Vivek Dutta Mishra</td><td>399</td><td>5</td></tr>",
                            "<tr><td>Rashmirathi</td><td>rashmirathi</td><td>Ramdhari Singh Dinkar</td><td>99</td><td>5</td></tr>",
                            "<tr><td>Kane and Abel</td><td>kane-and-abel</td><td>Jeffrey Archer</td><td>499</td><td>4</td></tr>",
                            "<tr><td>Harry Potter, And the Philosophers stone</td><td>harry-potter-1</td><td>JK Rowling</td><td>499</td><td>4</td></tr>",
                            "<tr><td>Rashmirathi</td><td>rashmirathi</td><td>Ramdhari Singh Dinkar</td><td>99</td><td>3</td></tr>",
                            "<tr><td>The Accursed God</td><td>the-accursed-god</td><td>Vivek Dutta Mishra</td><td>399</td><td>4</td></tr>",
                            "<tr><td>The Accursed God</td><td>the-accursed-god</td><td>Vivek Dutta Mishra</td><td>399</td><td>5</td></tr>",
                            "<tr><td>Rashmirathi</td><td>rashmirathi</td><td>Ramdhari Singh Dinkar</td><td>99</td><td>5</td></tr>",
                            "<tr><td>The Accursed God</td><td>the-accursed-god</td><td>Vivek Dutta Mishra</td><td>399</td><td>4</td></tr>",
                            "<tr><td>Harry Potter and the chamber of secrets</td><td>harry-potter-2</td><td>JK Rowling</td><td>299</td><td>4</td></tr>",
                            "<tr><td>Harry Potter, And the Prisoner of Asbakan</td><td>harry-potter-3</td><td>JK Rowling</td><td>499</td><td>4</td></tr>",
                            "<tr><td>Harry Potter and the goblet of fire</td><td>harry-potter-4</td><td>JK Rowling</td><td>299</td><td>4</td></tr>",
                            "<tr><td>The Accursed God</td><td>the-accursed-god</td><td>Vivek Dutta Mishra</td><td>399</td><td>4</td></tr>",
                            "<tr><td>Rashmirathi</td><td>rashmirathi</td><td>Ramdhari Singh Dinkar</td><td>99</td><td>5</td></tr>",
                            "<tr><td>The Accursed God</td><td>the-accursed-god</td><td>Vivek Dutta Mishra</td><td>399</td><td>4</td></tr>",
                            "<tr><td>Harry Potter, And the Philosophers stone</td><td>harry-potter-1</td><td>JK Rowling</td><td>499</td><td>4</td></tr>",
                            "<tr><td>Harry Potter, And the Philosophers stone</td><td>harry-potter-1</td><td>JK Rowling</td><td>499</td><td>5</td></tr>",
                            "<tr><td>Harry Potter, And the Philosophers stone</td><td>harry-potter-1</td><td>JK Rowling</td><td>499</td><td>5</td></tr>",
                            "<tr><td>Harry Potter, And the Philosophers stone</td><td>harry-potter-1</td><td>JK Rowling</td><td>499</td><td>4</td></tr>",
                            "<tr><td>Harry Potter, And the Philosophers stone</td><td>harry-potter-1</td><td>JK Rowling</td><td>499</td><td>3</td></tr>",
                            "<tr><td>The Accursed God</td><td>the-accursed-god</td><td>Vivek Dutta Mishra</td><td>399</td><td>4</td></tr>",
                            "<tr><td>Harry Potter, And the Philosophers stone</td><td>harry-potter-1</td><td>JK Rowling</td><td>499</td><td>4</td></tr>",
                            "<tr><td>Harry Potter, And the Order of Phoinix</td><td>harry-potter-5</td><td>JK Rowling</td><td>599</td><td>5</td></tr>",
                            "<tr><td>Harry Potter and the half blood prince</td><td>harry-potter-6</td><td>JK Rowling</td><td>699</td><td>5</td></tr>",
                            "<tr><td>Harry Potter and the deathly hollows</td><td>harry-potter-7</td><td>JK Rowling</td><td>599</td><td>3</td></tr>",
                            "<tr><td>NULL</td><td>harry-potter-8</td><td>NULL</td><td>NULL</td><td>3</td></tr>",
                            "<tr><td>Harry Potter and the deathly hollows</td><td>harry-potter-7</td><td>JK Rowling</td><td>599</td><td>4</td></tr>",
                            "<tr><td>Harry Potter and the deathly hollows</td><td>harry-potter-7</td><td>JK Rowling</td><td>599</td><td>5</td></tr>",
                            "<tr><td>Harry Potter and the deathly hollows</td><td>harry-potter-7</td><td>JK Rowling</td><td>599</td><td>5</td></tr>",
                            "<tr><td>Harry Potter and the half blood prince</td><td>harry-potter-6</td><td>JK Rowling</td><td>699</td><td>5</td></tr>",
                            "<tr><td>Harry Potter and the half blood prince</td><td>harry-potter-6</td><td>JK Rowling</td><td>699</td><td>5</td></tr>",
                            "<tr><td>Harry Potter, And the Prisoner of Asbakan</td><td>harry-potter-3</td><td>JK Rowling</td><td>499</td><td>4</td></tr>",
                            "<tr><td>Manas</td><td>manas</td><td>Vivek Dutta Mishra</td><td>199</td><td>5</td></tr>",
                            "<tr><td>Kurukshetra</td><td>kurukshetra</td><td>Ramdhari Singh Dinkar</td><td>99</td><td>4</td></tr>",
                            "<tr><td>Kurukshetra</td><td>kurukshetra</td><td>Ramdhari Singh Dinkar</td><td>99</td><td>4</td></tr>",
                            "<tr><td>Rashmirathi</td><td>rashmirathi</td><td>Ramdhari Singh Dinkar</td><td>99</td><td>5</td></tr>",
                            "<tr><td>Manas</td><td>manas</td><td>Vivek Dutta Mishra</td><td>199</td><td>5</td></tr>",
                            "<tr><td>Manas</td><td>manas</td><td>Vivek Dutta Mishra</td><td>199</td><td>4</td></tr>",
                            "<tr><td>Manas</td><td>manas</td><td>Vivek Dutta Mishra</td><td>199</td><td>4</td></tr>",
                            "<tr><td>Rashmirathi</td><td>rashmirathi</td><td>Ramdhari Singh Dinkar</td><td>99</td><td>5</td></tr>",
                            "<tr><td>The Accursed Child</td><td>accursed-child</td><td>JK Rowling</td><td>199</td><td>5</td></tr>",
                            "<tr><td>The Accursed Child</td><td>accursed-child</td><td>JK Rowling</td><td>199</td><td>2</td></tr>",
                            "</table>"
                        ]
                    }
                }
            ],
            "execution_count": 31
        },
        {
            "cell_type": "markdown",
            "source": [
                "# Foreign Key Constraint\n",
                "\n",
                "  \n",
                "\n",
                "- Ideally reviews should be associated with valid books only\n",
                "- currently book\\_id relates to book.id is not officially mentioned \n",
                "- database has no problem in adding any value in the book\\_id column\n",
                "\n",
                "  \n",
                "\n",
                "## How Foreign Key helps\n",
                "\n",
                "  \n",
                "\n",
                "1. It will not allow the insertion of a record with a foreign key field value that does not correspond to the master table primary key. \n",
                "2. It will delcine to delete a record from master table if the primary key is referenced in any foreign key column\n",
                "\n",
                "  \n",
                "\n",
                "## LET US ADD FOREIGN KEY CONSTRAINT\n",
                "\n",
                "- First attempt to add this constraint will fail as we already have an invalid id present"
            ],
            "metadata": {
                "azdata_cell_guid": "3368130b-6c95-46cb-9120-8854b4ff9e4c"
            },
            "attachments": {}
        },
        {
            "cell_type": "code",
            "source": [
                "ALTER TABLE Reviews\r\n",
                "    ADD CONSTRAINT FK_BookId\r\n",
                "    FOREIGN KEY (BOOK_ID) REFERENCES Books(ID);"
            ],
            "metadata": {
                "azdata_cell_guid": "21140150-d39a-4915-b504-70720f3faf36",
                "language": "sql"
            },
            "outputs": [
                {
                    "output_type": "error",
                    "evalue": "Msg 547, Level 16, State 0, Line 1\r\nThe ALTER TABLE statement conflicted with the FOREIGN KEY constraint \"FK_BookId\". The conflict occurred in database \"ecolab202405\", table \"dbo.BOOKS\", column 'ID'.",
                    "ename": "",
                    "traceback": []
                },
                {
                    "output_type": "display_data",
                    "data": {
                        "text/html": "Total execution time: 00:00:00.022"
                    },
                    "metadata": {}
                }
            ],
            "execution_count": 34
        },
        {
            "cell_type": "markdown",
            "source": [
                "## Let us remove the offensive record and retry"
            ],
            "metadata": {
                "language": "sql",
                "azdata_cell_guid": "9c2ce031-df27-41f3-8473-dcdc0ab07b6e"
            },
            "attachments": {}
        },
        {
            "cell_type": "code",
            "source": [
                "UPDATE REVIEWS\r\n",
                "SET book_id='harry-potter-7'\r\n",
                "where book_id='harry-potter-8'"
            ],
            "metadata": {
                "language": "sql",
                "azdata_cell_guid": "cd36f150-006b-4bfc-aaac-a5fc6eb8d22f"
            },
            "outputs": [
                {
                    "output_type": "display_data",
                    "data": {
                        "text/html": "(1 row affected)"
                    },
                    "metadata": {}
                },
                {
                    "output_type": "display_data",
                    "data": {
                        "text/html": "Total execution time: 00:00:00.013"
                    },
                    "metadata": {}
                }
            ],
            "execution_count": 36
        },
        {
            "cell_type": "code",
            "source": [
                "ALTER TABLE Reviews\r\n",
                "    ADD CONSTRAINT FK_BookId\r\n",
                "    FOREIGN KEY (BOOK_ID) REFERENCES Books(ID);\r\n",
                "    "
            ],
            "metadata": {
                "language": "sql",
                "azdata_cell_guid": "04628a47-153a-4658-8706-53f7bbccb0a5"
            },
            "outputs": [
                {
                    "output_type": "display_data",
                    "data": {
                        "text/html": "Commands completed successfully."
                    },
                    "metadata": {}
                },
                {
                    "output_type": "display_data",
                    "data": {
                        "text/html": "Total execution time: 00:00:00.028"
                    },
                    "metadata": {}
                }
            ],
            "execution_count": 37
        },
        {
            "cell_type": "markdown",
            "source": [
                "## Now we can't add a record with an invalid foreign key"
            ],
            "metadata": {
                "language": "sql",
                "azdata_cell_guid": "a3d3edd5-efaf-47da-8be2-d7a412c16a4d"
            },
            "attachments": {}
        },
        {
            "cell_type": "code",
            "source": [
                "INSERT INTO REVIEWS(BOOK_ID,RATING,COMMENT)\r\n",
                "    VALUES ('invalid_id',5, 'will not be inserted')"
            ],
            "metadata": {
                "language": "sql",
                "azdata_cell_guid": "0a1db6f1-d555-4763-a331-1900f6845d44"
            },
            "outputs": [
                {
                    "output_type": "error",
                    "evalue": "Msg 547, Level 16, State 0, Line 1\r\nThe INSERT statement conflicted with the FOREIGN KEY constraint \"FK_BookId\". The conflict occurred in database \"ecolab202405\", table \"dbo.BOOKS\", column 'ID'.",
                    "ename": "",
                    "traceback": []
                },
                {
                    "output_type": "display_data",
                    "data": {
                        "text/html": "The statement has been terminated."
                    },
                    "metadata": {}
                },
                {
                    "output_type": "display_data",
                    "data": {
                        "text/html": "Total execution time: 00:00:00.006"
                    },
                    "metadata": {}
                }
            ],
            "execution_count": 38
        },
        {
            "cell_type": "markdown",
            "source": [
                "## 2\\. Now we can't remove a book that has some reviews\n",
                "\n",
                "- This will make the reviews orphan and violate FK"
            ],
            "metadata": {
                "language": "sql",
                "azdata_cell_guid": "6753afbb-76fd-4132-b4e5-6e66d204a518"
            },
            "attachments": {}
        },
        {
            "cell_type": "code",
            "source": [
                "DELETE FROM BOOKS WHERE ID='rashmirathi'"
            ],
            "metadata": {
                "language": "sql",
                "azdata_cell_guid": "4bfabf1f-5c4f-403f-96ae-acb746c90018"
            },
            "outputs": [
                {
                    "output_type": "error",
                    "evalue": "Msg 547, Level 16, State 0, Line 1\r\nThe DELETE statement conflicted with the REFERENCE constraint \"FK_BookId\". The conflict occurred in database \"ecolab202405\", table \"dbo.REVIEWS\", column 'BOOK_ID'.",
                    "ename": "",
                    "traceback": []
                },
                {
                    "output_type": "display_data",
                    "data": {
                        "text/html": "The statement has been terminated."
                    },
                    "metadata": {}
                },
                {
                    "output_type": "display_data",
                    "data": {
                        "text/html": "Total execution time: 00:00:00.016"
                    },
                    "metadata": {}
                }
            ],
            "execution_count": 39
        },
        {
            "cell_type": "markdown",
            "source": [
                "# CASECADE DELETE\n",
                "\n",
                "- While setting up a foreign key we can define the nature to CASCADE DELETE\n",
                "- If selected we are allowed to delete record with primary key\n",
                "    - That delete will cascade and delete all dependent row with FK\n",
                "    - When we delete a book it deletes all the reviews of that book\n",
                "\n",
                "  \n",
                "\n",
                "- We have to drop the foreign-key contraint and re add with cascase"
            ],
            "metadata": {
                "language": "sql",
                "azdata_cell_guid": "4b073a2d-91cb-4b58-868d-4e2def549c79"
            },
            "attachments": {}
        },
        {
            "cell_type": "code",
            "source": [
                "ALTER TABLE REVIEWS\r\n",
                "drop CONSTRAINT FK_BookId;\r\n",
                "\r\n",
                "ALTER TABLE REVIEWS\r\n",
                "ADD CONSTRAINT FK_BookId\r\n",
                "    FOREIGN KEY (BOOK_ID)\r\n",
                "    REFERENCES BOOKS\r\n",
                "        (Id)\r\n",
                "    ON DELETE CASCADE ON UPDATE NO ACTION;"
            ],
            "metadata": {
                "language": "sql",
                "azdata_cell_guid": "f5cdf30e-c3de-4cda-a8dd-fb9572542808"
            },
            "outputs": [
                {
                    "output_type": "display_data",
                    "data": {
                        "text/html": "Commands completed successfully."
                    },
                    "metadata": {}
                },
                {
                    "output_type": "display_data",
                    "data": {
                        "text/html": "Total execution time: 00:00:00.021"
                    },
                    "metadata": {}
                }
            ],
            "execution_count": 40
        },
        {
            "cell_type": "markdown",
            "source": [
                "### Now we can delete a book and all its reviews"
            ],
            "metadata": {
                "language": "sql",
                "azdata_cell_guid": "855a44be-68a5-45d9-8434-0b7aff672ca4"
            },
            "attachments": {}
        },
        {
            "cell_type": "code",
            "source": [
                "delete from books\r\n",
                "where id='rashmirathi'"
            ],
            "metadata": {
                "language": "sql",
                "azdata_cell_guid": "874bec1a-89e0-469a-b1ff-f4a7a76408be",
                "tags": []
            },
            "outputs": [
                {
                    "output_type": "display_data",
                    "data": {
                        "text/html": "(1 row affected)"
                    },
                    "metadata": {}
                },
                {
                    "output_type": "display_data",
                    "data": {
                        "text/html": "Total execution time: 00:00:00.015"
                    },
                    "metadata": {}
                }
            ],
            "execution_count": 42
        },
        {
            "cell_type": "code",
            "source": [
                "select\r\n",
                "distinct(book_id)\r\n",
                "from reviews"
            ],
            "metadata": {
                "language": "sql",
                "azdata_cell_guid": "755e3461-23ee-48ca-a10d-caefbc0a4bd2"
            },
            "outputs": [
                {
                    "output_type": "display_data",
                    "data": {
                        "text/html": "(12 rows affected)"
                    },
                    "metadata": {}
                },
                {
                    "output_type": "display_data",
                    "data": {
                        "text/html": "Total execution time: 00:00:00.005"
                    },
                    "metadata": {}
                },
                {
                    "output_type": "execute_result",
                    "metadata": {},
                    "execution_count": 43,
                    "data": {
                        "application/vnd.dataresource+json": {
                            "schema": {
                                "fields": [
                                    {
                                        "name": "book_id"
                                    }
                                ]
                            },
                            "data": [
                                {
                                    "book_id": "accursed-child"
                                },
                                {
                                    "book_id": "harry-potter-1"
                                },
                                {
                                    "book_id": "harry-potter-2"
                                },
                                {
                                    "book_id": "harry-potter-3"
                                },
                                {
                                    "book_id": "harry-potter-4"
                                },
                                {
                                    "book_id": "harry-potter-5"
                                },
                                {
                                    "book_id": "harry-potter-6"
                                },
                                {
                                    "book_id": "harry-potter-7"
                                },
                                {
                                    "book_id": "kane-and-abel"
                                },
                                {
                                    "book_id": "kurukshetra"
                                },
                                {
                                    "book_id": "manas"
                                },
                                {
                                    "book_id": "the-accursed-god"
                                }
                            ]
                        },
                        "text/html": [
                            "<table>",
                            "<tr><th>book_id</th></tr>",
                            "<tr><td>accursed-child</td></tr>",
                            "<tr><td>harry-potter-1</td></tr>",
                            "<tr><td>harry-potter-2</td></tr>",
                            "<tr><td>harry-potter-3</td></tr>",
                            "<tr><td>harry-potter-4</td></tr>",
                            "<tr><td>harry-potter-5</td></tr>",
                            "<tr><td>harry-potter-6</td></tr>",
                            "<tr><td>harry-potter-7</td></tr>",
                            "<tr><td>kane-and-abel</td></tr>",
                            "<tr><td>kurukshetra</td></tr>",
                            "<tr><td>manas</td></tr>",
                            "<tr><td>the-accursed-god</td></tr>",
                            "</table>"
                        ]
                    }
                }
            ],
            "execution_count": 43
        },
        {
            "cell_type": "markdown",
            "source": [
                "# Views\n",
                "\n",
                "- A Views can be considered as a\n",
                "    - Virtual Table\n",
                "    - Named Dynamic Query\n",
                "- It is always Read Only\n",
                "- Internally fires a query and returns a row\n",
                "- Note: Both table and query essentially has set of 0 or more rows\n",
                "- This query can be considered as table that doesn't exist\n",
                "\n",
                "  \n",
                "\n",
                "## <span style=\"color: var(--vscode-foreground);\">I want a Author List to include</span>\n",
                "\n",
                "- <span style=\"color: var(--vscode-foreground);\">Fields</span>\n",
                "    - <span style=\"color: var(--vscode-foreground);\">Author Name</span>\n",
                "    - <span style=\"color: var(--vscode-foreground);\">Books Written</span>\n",
                "    - <span style=\"color: var(--vscode-foreground);\">Average Price of books</span>\n",
                "- <span style=\"color: var(--vscode-foreground);\">We have done this as a query before</span>\n",
                "- <span style=\"color: var(--vscode-foreground);\">Now we create a view for it</span>"
            ],
            "metadata": {
                "language": "sql",
                "azdata_cell_guid": "f5d15db5-b081-43ac-9736-8b0d1daa480f"
            },
            "attachments": {}
        },
        {
            "cell_type": "code",
            "source": [
                "CREATE VIEW AUTHOR_INFO\r\n",
                "AS\r\n",
                "\r\n",
                "    SELECT \r\n",
                "        AUTHOR,\r\n",
                "        COUNT(*) AS BOOKS_WRITTEN,\r\n",
                "        AVG(PRICE) AS AVG_BOOK_PRICE\r\n",
                "    FROM\r\n",
                "        BOOKS\r\n",
                "    GROUP BY\r\n",
                "        AUTHOR\r\n",
                "GO"
            ],
            "metadata": {
                "language": "sql",
                "azdata_cell_guid": "ac6efa2b-ea6d-4888-839c-e7884a24c6c5"
            },
            "outputs": [
                {
                    "output_type": "display_data",
                    "data": {
                        "text/html": "Commands completed successfully."
                    },
                    "metadata": {}
                },
                {
                    "output_type": "display_data",
                    "data": {
                        "text/html": "Total execution time: 00:00:00.011"
                    },
                    "metadata": {}
                }
            ],
            "execution_count": 46
        },
        {
            "cell_type": "markdown",
            "source": [
                "## We can use View as a Read Only Table to fire select queries\n",
                "\n",
                "- It can be used in select\n",
                "    - from clause\n",
                "    - join clause\n",
                "- It can't be used for insert/update/delete"
            ],
            "metadata": {
                "language": "sql",
                "azdata_cell_guid": "ea17c741-c548-4d87-a4dc-7e471aedf870"
            },
            "attachments": {}
        },
        {
            "cell_type": "code",
            "source": [
                "SELECT\r\n",
                "    * \r\n",
                "FROM\r\n",
                "    AUTHOR_INFO"
            ],
            "metadata": {
                "language": "sql",
                "azdata_cell_guid": "c593a51b-4136-4331-85ef-b66705e2774a"
            },
            "outputs": [
                {
                    "output_type": "display_data",
                    "data": {
                        "text/html": "(5 rows affected)"
                    },
                    "metadata": {}
                },
                {
                    "output_type": "display_data",
                    "data": {
                        "text/html": "Total execution time: 00:00:00.005"
                    },
                    "metadata": {}
                },
                {
                    "output_type": "execute_result",
                    "metadata": {},
                    "execution_count": 47,
                    "data": {
                        "application/vnd.dataresource+json": {
                            "schema": {
                                "fields": [
                                    {
                                        "name": "AUTHOR"
                                    },
                                    {
                                        "name": "BOOKS_WRITTEN"
                                    },
                                    {
                                        "name": "AVG_BOOK_PRICE"
                                    }
                                ]
                            },
                            "data": [
                                {
                                    "AUTHOR": "Jeffrey Archer",
                                    "BOOKS_WRITTEN": "1",
                                    "AVG_BOOK_PRICE": "499"
                                },
                                {
                                    "AUTHOR": "JK Rowling",
                                    "BOOKS_WRITTEN": "8",
                                    "AVG_BOOK_PRICE": "461"
                                },
                                {
                                    "AUTHOR": "John Grisham",
                                    "BOOKS_WRITTEN": "2",
                                    "AVG_BOOK_PRICE": "199"
                                },
                                {
                                    "AUTHOR": "Ramdhari Singh Dinkar",
                                    "BOOKS_WRITTEN": "1",
                                    "AVG_BOOK_PRICE": "99"
                                },
                                {
                                    "AUTHOR": "Vivek Dutta Mishra",
                                    "BOOKS_WRITTEN": "2",
                                    "AVG_BOOK_PRICE": "299"
                                }
                            ]
                        },
                        "text/html": [
                            "<table>",
                            "<tr><th>AUTHOR</th><th>BOOKS_WRITTEN</th><th>AVG_BOOK_PRICE</th></tr>",
                            "<tr><td>Jeffrey Archer</td><td>1</td><td>499</td></tr>",
                            "<tr><td>JK Rowling</td><td>8</td><td>461</td></tr>",
                            "<tr><td>John Grisham</td><td>2</td><td>199</td></tr>",
                            "<tr><td>Ramdhari Singh Dinkar</td><td>1</td><td>99</td></tr>",
                            "<tr><td>Vivek Dutta Mishra</td><td>2</td><td>299</td></tr>",
                            "</table>"
                        ]
                    }
                }
            ],
            "execution_count": 47
        },
        {
            "cell_type": "code",
            "source": [
                "SELECT \r\n",
                "    *\r\n",
                "FROM\r\n",
                "    AUTHOR_INFO\r\n",
                "WHERE\r\n",
                "    BOOKS_WRITTEN<4"
            ],
            "metadata": {
                "language": "sql",
                "azdata_cell_guid": "3522e86c-19fe-473e-9c43-6f89d51e114b"
            },
            "outputs": [
                {
                    "output_type": "display_data",
                    "data": {
                        "text/html": "(4 rows affected)"
                    },
                    "metadata": {}
                },
                {
                    "output_type": "display_data",
                    "data": {
                        "text/html": "Total execution time: 00:00:00.006"
                    },
                    "metadata": {}
                },
                {
                    "output_type": "execute_result",
                    "metadata": {},
                    "execution_count": 48,
                    "data": {
                        "application/vnd.dataresource+json": {
                            "schema": {
                                "fields": [
                                    {
                                        "name": "AUTHOR"
                                    },
                                    {
                                        "name": "BOOKS_WRITTEN"
                                    },
                                    {
                                        "name": "AVG_BOOK_PRICE"
                                    }
                                ]
                            },
                            "data": [
                                {
                                    "AUTHOR": "Jeffrey Archer",
                                    "BOOKS_WRITTEN": "1",
                                    "AVG_BOOK_PRICE": "499"
                                },
                                {
                                    "AUTHOR": "John Grisham",
                                    "BOOKS_WRITTEN": "2",
                                    "AVG_BOOK_PRICE": "199"
                                },
                                {
                                    "AUTHOR": "Ramdhari Singh Dinkar",
                                    "BOOKS_WRITTEN": "1",
                                    "AVG_BOOK_PRICE": "99"
                                },
                                {
                                    "AUTHOR": "Vivek Dutta Mishra",
                                    "BOOKS_WRITTEN": "2",
                                    "AVG_BOOK_PRICE": "299"
                                }
                            ]
                        },
                        "text/html": [
                            "<table>",
                            "<tr><th>AUTHOR</th><th>BOOKS_WRITTEN</th><th>AVG_BOOK_PRICE</th></tr>",
                            "<tr><td>Jeffrey Archer</td><td>1</td><td>499</td></tr>",
                            "<tr><td>John Grisham</td><td>2</td><td>199</td></tr>",
                            "<tr><td>Ramdhari Singh Dinkar</td><td>1</td><td>99</td></tr>",
                            "<tr><td>Vivek Dutta Mishra</td><td>2</td><td>299</td></tr>",
                            "</table>"
                        ]
                    }
                }
            ],
            "execution_count": 48
        },
        {
            "cell_type": "markdown",
            "source": [
                "# STORED PROCEDURES\n",
                "\n",
                "- They are like a C# function except written in sql database\n",
                "- They have their own syntax (similar to function)\n",
                "- Unlike Views\n",
                "    - They can both insert or update records\n",
                "    - They can't be used as a virtual table directly"
            ],
            "metadata": {
                "language": "sql",
                "azdata_cell_guid": "73a7c334-e374-4520-b266-5583919c950b"
            },
            "attachments": {}
        },
        {
            "cell_type": "code",
            "source": [
                "CREATE PROCEDURE GetBookByAuthor(\r\n",
                "    @name VARCHAR(200)\r\n",
                ")\r\n",
                "AS\r\n",
                "    SELECT * FROM BOOKS WHERE AUTHOR like '%'+@name+'%'\r\n",
                "GO\r\n",
                ""
            ],
            "metadata": {
                "language": "sql",
                "azdata_cell_guid": "f020d346-80e8-45ad-92c7-8c0d437a026c"
            },
            "outputs": [
                {
                    "output_type": "display_data",
                    "data": {
                        "text/html": "Commands completed successfully."
                    },
                    "metadata": {}
                },
                {
                    "output_type": "display_data",
                    "data": {
                        "text/html": "Total execution time: 00:00:00.012"
                    },
                    "metadata": {}
                }
            ],
            "execution_count": 50
        },
        {
            "cell_type": "markdown",
            "source": [
                "### We can now execute the procedure"
            ],
            "metadata": {
                "language": "sql",
                "azdata_cell_guid": "e075752c-b7d4-4957-a3f1-52006792b6df"
            },
            "attachments": {}
        },
        {
            "cell_type": "code",
            "source": [
                "exec GetBookByAuthor @name='vivek'"
            ],
            "metadata": {
                "language": "sql",
                "azdata_cell_guid": "97b16092-b6c6-44a6-aa6d-f662b57ee770"
            },
            "outputs": [
                {
                    "output_type": "display_data",
                    "data": {
                        "text/html": "(2 rows affected)"
                    },
                    "metadata": {}
                },
                {
                    "output_type": "display_data",
                    "data": {
                        "text/html": "Total execution time: 00:00:00.005"
                    },
                    "metadata": {}
                },
                {
                    "output_type": "execute_result",
                    "metadata": {},
                    "execution_count": 51,
                    "data": {
                        "application/vnd.dataresource+json": {
                            "schema": {
                                "fields": [
                                    {
                                        "name": "ID"
                                    },
                                    {
                                        "name": "TITLE"
                                    },
                                    {
                                        "name": "AUTHOR"
                                    },
                                    {
                                        "name": "PRICE"
                                    }
                                ]
                            },
                            "data": [
                                {
                                    "ID": "manas",
                                    "TITLE": "Manas",
                                    "AUTHOR": "Vivek Dutta Mishra",
                                    "PRICE": "199"
                                },
                                {
                                    "ID": "the-accursed-god",
                                    "TITLE": "The Accursed God",
                                    "AUTHOR": "Vivek Dutta Mishra",
                                    "PRICE": "399"
                                }
                            ]
                        },
                        "text/html": [
                            "<table>",
                            "<tr><th>ID</th><th>TITLE</th><th>AUTHOR</th><th>PRICE</th></tr>",
                            "<tr><td>manas</td><td>Manas</td><td>Vivek Dutta Mishra</td><td>199</td></tr>",
                            "<tr><td>the-accursed-god</td><td>The Accursed God</td><td>Vivek Dutta Mishra</td><td>399</td></tr>",
                            "</table>"
                        ]
                    }
                }
            ],
            "execution_count": 51
        },
        {
            "cell_type": "code",
            "source": [
                "CREATE PROCEDURE ADD_REVIEWS(\r\n",
                "    @BOOK_ID VARCHAR(255),\r\n",
                "    @RATING INT,\r\n",
                "    @COMMENT VARCHAR(255)\r\n",
                ")\r\n",
                "AS\r\n",
                "INSERT INTO REVIEWS (BOOK_ID,RATING,COMMENT)\r\n",
                "VALUES(@BOOK_ID,@RATING,@COMMENT)\r\n",
                "GO"
            ],
            "metadata": {
                "language": "sql",
                "azdata_cell_guid": "0041de16-6597-4273-aecc-9d5650f7c40b"
            },
            "outputs": [
                {
                    "output_type": "display_data",
                    "data": {
                        "text/html": "Commands completed successfully."
                    },
                    "metadata": {}
                },
                {
                    "output_type": "display_data",
                    "data": {
                        "text/html": "Total execution time: 00:00:00.003"
                    },
                    "metadata": {}
                }
            ],
            "execution_count": 52
        },
        {
            "cell_type": "code",
            "source": [
                "EXEC ADD_REVIEWS @BOOK_ID='the-accursed-god', @rating=5, @comment='Excellent'"
            ],
            "metadata": {
                "language": "sql",
                "azdata_cell_guid": "15c40315-bd43-4430-85ad-261b79a2f14c"
            },
            "outputs": [
                {
                    "output_type": "display_data",
                    "data": {
                        "text/html": "(1 row affected)"
                    },
                    "metadata": {}
                },
                {
                    "output_type": "display_data",
                    "data": {
                        "text/html": "Total execution time: 00:00:00.008"
                    },
                    "metadata": {}
                }
            ],
            "execution_count": 53
        },
        {
            "cell_type": "code",
            "source": [
                "SELECT * FROM REVIEWS WHERE book_id='the-accursed-god'"
            ],
            "metadata": {
                "language": "sql",
                "azdata_cell_guid": "1f1812d9-4f58-4b7d-99de-c1e7c4621a40"
            },
            "outputs": [
                {
                    "output_type": "display_data",
                    "data": {
                        "text/html": "(8 rows affected)"
                    },
                    "metadata": {}
                },
                {
                    "output_type": "display_data",
                    "data": {
                        "text/html": "Total execution time: 00:00:00.004"
                    },
                    "metadata": {}
                },
                {
                    "output_type": "execute_result",
                    "metadata": {},
                    "execution_count": 54,
                    "data": {
                        "application/vnd.dataresource+json": {
                            "schema": {
                                "fields": [
                                    {
                                        "name": "ID"
                                    },
                                    {
                                        "name": "RATING"
                                    },
                                    {
                                        "name": "COMMENT"
                                    },
                                    {
                                        "name": "BOOK_ID"
                                    }
                                ]
                            },
                            "data": [
                                {
                                    "ID": "37",
                                    "RATING": "5",
                                    "COMMENT": "Very Good Book",
                                    "BOOK_ID": "the-accursed-god"
                                },
                                {
                                    "ID": "42",
                                    "RATING": "4",
                                    "COMMENT": "Very Good Book",
                                    "BOOK_ID": "the-accursed-god"
                                },
                                {
                                    "ID": "43",
                                    "RATING": "5",
                                    "COMMENT": "Very Good Book",
                                    "BOOK_ID": "the-accursed-god"
                                },
                                {
                                    "ID": "45",
                                    "RATING": "4",
                                    "COMMENT": "Very Good Book",
                                    "BOOK_ID": "the-accursed-god"
                                },
                                {
                                    "ID": "49",
                                    "RATING": "4",
                                    "COMMENT": "Very Good Book",
                                    "BOOK_ID": "the-accursed-god"
                                },
                                {
                                    "ID": "51",
                                    "RATING": "4",
                                    "COMMENT": "Very Good Book",
                                    "BOOK_ID": "the-accursed-god"
                                },
                                {
                                    "ID": "57",
                                    "RATING": "4",
                                    "COMMENT": "Very Good Book",
                                    "BOOK_ID": "the-accursed-god"
                                },
                                {
                                    "ID": "80",
                                    "RATING": "5",
                                    "COMMENT": "Excellent",
                                    "BOOK_ID": "the-accursed-god"
                                }
                            ]
                        },
                        "text/html": [
                            "<table>",
                            "<tr><th>ID</th><th>RATING</th><th>COMMENT</th><th>BOOK_ID</th></tr>",
                            "<tr><td>37</td><td>5</td><td>Very Good Book</td><td>the-accursed-god</td></tr>",
                            "<tr><td>42</td><td>4</td><td>Very Good Book</td><td>the-accursed-god</td></tr>",
                            "<tr><td>43</td><td>5</td><td>Very Good Book</td><td>the-accursed-god</td></tr>",
                            "<tr><td>45</td><td>4</td><td>Very Good Book</td><td>the-accursed-god</td></tr>",
                            "<tr><td>49</td><td>4</td><td>Very Good Book</td><td>the-accursed-god</td></tr>",
                            "<tr><td>51</td><td>4</td><td>Very Good Book</td><td>the-accursed-god</td></tr>",
                            "<tr><td>57</td><td>4</td><td>Very Good Book</td><td>the-accursed-god</td></tr>",
                            "<tr><td>80</td><td>5</td><td>Excellent</td><td>the-accursed-god</td></tr>",
                            "</table>"
                        ]
                    }
                }
            ],
            "execution_count": 54
        },
        {
            "cell_type": "markdown",
            "source": [
                "# Why Use Stored  when we can write queries directly?\n",
                "\n",
                "- Security Feature\n",
                "- Database Admin may restrict plain SQL allowing data access/modifcation exclusively via stored proc\n",
                "\n",
                "## Why?\n",
                "\n",
                "  \n",
                "\n",
                "- <span style=\"font-size: 14px;\">Consider an aggregator service like https://bookmyshow.com</span>\n",
                "- <span style=\"font-size: 14px;\">It books tickets for a theatre like https://pvr.com</span>\n",
                "- <span style=\"font-size: 14px;\">If PVR allows it a normal query access to its database</span>\n",
                "    - <span style=\"font-size: 14px;\">bookmyshow may execute query to</span>\n",
                "        - <span style=\"font-size: 14px;\">delete current bookings</span>\n",
                "        - <span style=\"font-size: 14px;\">search booking info</span>\n",
                "        - <span style=\"font-size: 14px;\">get finance info</span>\n",
                "\n",
                "- If PVR allows only stroed proc it controls what user can do with database\n",
                "    - they can executed selected operations only"
            ],
            "metadata": {
                "language": "sql",
                "azdata_cell_guid": "6d194cac-8188-4bb5-961f-42dea08dec4c"
            },
            "attachments": {}
        }
    ]
}